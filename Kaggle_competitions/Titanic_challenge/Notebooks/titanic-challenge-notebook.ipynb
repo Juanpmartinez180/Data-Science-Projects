{
 "cells": [
  {
   "cell_type": "markdown",
   "metadata": {},
   "source": [
    "# Titanic challenge first approach"
   ]
  },
  {
   "cell_type": "markdown",
   "metadata": {},
   "source": [
    "V8.0\n"
   ]
  },
  {
   "cell_type": "markdown",
   "metadata": {},
   "source": [
    "\n",
    "## Steps to follow\n",
    "* Library import\n",
    "* Data ingestion\n",
    "* Data analysis\n",
    "    * Graphic visualization\n",
    "    * Correlation analysis \n",
    "* Data cleaning and depuration\n",
    "    * Nans filling\n",
    "    * Value normalization\n",
    "    * Categorical data codification\n",
    "* ML model fitting\n",
    "    * Training and test data split\n",
    "    * Model selection\n",
    "    * Model training\n",
    "* ML model optimization\n",
    "    * Grid search optimization\n",
    "    * Metrics analysis"
   ]
  },
  {
   "cell_type": "markdown",
   "metadata": {},
   "source": [
    "# Library import"
   ]
  },
  {
   "cell_type": "code",
   "execution_count": 171,
   "metadata": {
    "_cell_guid": "b1076dfc-b9ad-4769-8c92-a6c4dae69d19",
    "_uuid": "8f2839f25d086af736a60e9eeb907d3b93b6e0e5"
   },
   "outputs": [
    {
     "name": "stdout",
     "output_type": "stream",
     "text": [
      "/kaggle/input/titanic/train.csv\n",
      "/kaggle/input/titanic/test.csv\n",
      "/kaggle/input/titanic/gender_submission.csv\n"
     ]
    }
   ],
   "source": [
    "import numpy as np # linear algebra\n",
    "import pandas as pd # data processing, CSV file I/O (e.g. pd.read_csv)\n",
    "import matplotlib.pyplot as plt\n",
    "\n",
    "# Input data files are available in the read-only \"../input/\" directory\n",
    "# For example, running this (by clicking run or pressing Shift+Enter) will list all files under the input directory\n",
    "\n",
    "import os\n",
    "for dirname, _, filenames in os.walk('/kaggle/input'):\n",
    "    for filename in filenames:\n",
    "        print(os.path.join(dirname, filename))"
   ]
  },
  {
   "cell_type": "markdown",
   "metadata": {},
   "source": [
    "# Data ingestion"
   ]
  },
  {
   "cell_type": "code",
   "execution_count": 172,
   "metadata": {},
   "outputs": [
    {
     "data": {
      "text/html": [
       "<div>\n",
       "<style scoped>\n",
       "    .dataframe tbody tr th:only-of-type {\n",
       "        vertical-align: middle;\n",
       "    }\n",
       "\n",
       "    .dataframe tbody tr th {\n",
       "        vertical-align: top;\n",
       "    }\n",
       "\n",
       "    .dataframe thead th {\n",
       "        text-align: right;\n",
       "    }\n",
       "</style>\n",
       "<table border=\"1\" class=\"dataframe\">\n",
       "  <thead>\n",
       "    <tr style=\"text-align: right;\">\n",
       "      <th></th>\n",
       "      <th>PassengerId</th>\n",
       "      <th>Survived</th>\n",
       "      <th>Pclass</th>\n",
       "      <th>Name</th>\n",
       "      <th>Sex</th>\n",
       "      <th>Age</th>\n",
       "      <th>SibSp</th>\n",
       "      <th>Parch</th>\n",
       "      <th>Ticket</th>\n",
       "      <th>Fare</th>\n",
       "      <th>Cabin</th>\n",
       "      <th>Embarked</th>\n",
       "    </tr>\n",
       "  </thead>\n",
       "  <tbody>\n",
       "    <tr>\n",
       "      <th>0</th>\n",
       "      <td>1</td>\n",
       "      <td>0</td>\n",
       "      <td>3</td>\n",
       "      <td>Braund, Mr. Owen Harris</td>\n",
       "      <td>male</td>\n",
       "      <td>22.0</td>\n",
       "      <td>1</td>\n",
       "      <td>0</td>\n",
       "      <td>A/5 21171</td>\n",
       "      <td>7.2500</td>\n",
       "      <td>NaN</td>\n",
       "      <td>S</td>\n",
       "    </tr>\n",
       "    <tr>\n",
       "      <th>1</th>\n",
       "      <td>2</td>\n",
       "      <td>1</td>\n",
       "      <td>1</td>\n",
       "      <td>Cumings, Mrs. John Bradley (Florence Briggs Th...</td>\n",
       "      <td>female</td>\n",
       "      <td>38.0</td>\n",
       "      <td>1</td>\n",
       "      <td>0</td>\n",
       "      <td>PC 17599</td>\n",
       "      <td>71.2833</td>\n",
       "      <td>C85</td>\n",
       "      <td>C</td>\n",
       "    </tr>\n",
       "    <tr>\n",
       "      <th>2</th>\n",
       "      <td>3</td>\n",
       "      <td>1</td>\n",
       "      <td>3</td>\n",
       "      <td>Heikkinen, Miss. Laina</td>\n",
       "      <td>female</td>\n",
       "      <td>26.0</td>\n",
       "      <td>0</td>\n",
       "      <td>0</td>\n",
       "      <td>STON/O2. 3101282</td>\n",
       "      <td>7.9250</td>\n",
       "      <td>NaN</td>\n",
       "      <td>S</td>\n",
       "    </tr>\n",
       "    <tr>\n",
       "      <th>3</th>\n",
       "      <td>4</td>\n",
       "      <td>1</td>\n",
       "      <td>1</td>\n",
       "      <td>Futrelle, Mrs. Jacques Heath (Lily May Peel)</td>\n",
       "      <td>female</td>\n",
       "      <td>35.0</td>\n",
       "      <td>1</td>\n",
       "      <td>0</td>\n",
       "      <td>113803</td>\n",
       "      <td>53.1000</td>\n",
       "      <td>C123</td>\n",
       "      <td>S</td>\n",
       "    </tr>\n",
       "    <tr>\n",
       "      <th>4</th>\n",
       "      <td>5</td>\n",
       "      <td>0</td>\n",
       "      <td>3</td>\n",
       "      <td>Allen, Mr. William Henry</td>\n",
       "      <td>male</td>\n",
       "      <td>35.0</td>\n",
       "      <td>0</td>\n",
       "      <td>0</td>\n",
       "      <td>373450</td>\n",
       "      <td>8.0500</td>\n",
       "      <td>NaN</td>\n",
       "      <td>S</td>\n",
       "    </tr>\n",
       "    <tr>\n",
       "      <th>...</th>\n",
       "      <td>...</td>\n",
       "      <td>...</td>\n",
       "      <td>...</td>\n",
       "      <td>...</td>\n",
       "      <td>...</td>\n",
       "      <td>...</td>\n",
       "      <td>...</td>\n",
       "      <td>...</td>\n",
       "      <td>...</td>\n",
       "      <td>...</td>\n",
       "      <td>...</td>\n",
       "      <td>...</td>\n",
       "    </tr>\n",
       "    <tr>\n",
       "      <th>886</th>\n",
       "      <td>887</td>\n",
       "      <td>0</td>\n",
       "      <td>2</td>\n",
       "      <td>Montvila, Rev. Juozas</td>\n",
       "      <td>male</td>\n",
       "      <td>27.0</td>\n",
       "      <td>0</td>\n",
       "      <td>0</td>\n",
       "      <td>211536</td>\n",
       "      <td>13.0000</td>\n",
       "      <td>NaN</td>\n",
       "      <td>S</td>\n",
       "    </tr>\n",
       "    <tr>\n",
       "      <th>887</th>\n",
       "      <td>888</td>\n",
       "      <td>1</td>\n",
       "      <td>1</td>\n",
       "      <td>Graham, Miss. Margaret Edith</td>\n",
       "      <td>female</td>\n",
       "      <td>19.0</td>\n",
       "      <td>0</td>\n",
       "      <td>0</td>\n",
       "      <td>112053</td>\n",
       "      <td>30.0000</td>\n",
       "      <td>B42</td>\n",
       "      <td>S</td>\n",
       "    </tr>\n",
       "    <tr>\n",
       "      <th>888</th>\n",
       "      <td>889</td>\n",
       "      <td>0</td>\n",
       "      <td>3</td>\n",
       "      <td>Johnston, Miss. Catherine Helen \"Carrie\"</td>\n",
       "      <td>female</td>\n",
       "      <td>NaN</td>\n",
       "      <td>1</td>\n",
       "      <td>2</td>\n",
       "      <td>W./C. 6607</td>\n",
       "      <td>23.4500</td>\n",
       "      <td>NaN</td>\n",
       "      <td>S</td>\n",
       "    </tr>\n",
       "    <tr>\n",
       "      <th>889</th>\n",
       "      <td>890</td>\n",
       "      <td>1</td>\n",
       "      <td>1</td>\n",
       "      <td>Behr, Mr. Karl Howell</td>\n",
       "      <td>male</td>\n",
       "      <td>26.0</td>\n",
       "      <td>0</td>\n",
       "      <td>0</td>\n",
       "      <td>111369</td>\n",
       "      <td>30.0000</td>\n",
       "      <td>C148</td>\n",
       "      <td>C</td>\n",
       "    </tr>\n",
       "    <tr>\n",
       "      <th>890</th>\n",
       "      <td>891</td>\n",
       "      <td>0</td>\n",
       "      <td>3</td>\n",
       "      <td>Dooley, Mr. Patrick</td>\n",
       "      <td>male</td>\n",
       "      <td>32.0</td>\n",
       "      <td>0</td>\n",
       "      <td>0</td>\n",
       "      <td>370376</td>\n",
       "      <td>7.7500</td>\n",
       "      <td>NaN</td>\n",
       "      <td>Q</td>\n",
       "    </tr>\n",
       "  </tbody>\n",
       "</table>\n",
       "<p>891 rows × 12 columns</p>\n",
       "</div>"
      ],
      "text/plain": [
       "     PassengerId  Survived  Pclass  \\\n",
       "0              1         0       3   \n",
       "1              2         1       1   \n",
       "2              3         1       3   \n",
       "3              4         1       1   \n",
       "4              5         0       3   \n",
       "..           ...       ...     ...   \n",
       "886          887         0       2   \n",
       "887          888         1       1   \n",
       "888          889         0       3   \n",
       "889          890         1       1   \n",
       "890          891         0       3   \n",
       "\n",
       "                                                  Name     Sex   Age  SibSp  \\\n",
       "0                              Braund, Mr. Owen Harris    male  22.0      1   \n",
       "1    Cumings, Mrs. John Bradley (Florence Briggs Th...  female  38.0      1   \n",
       "2                               Heikkinen, Miss. Laina  female  26.0      0   \n",
       "3         Futrelle, Mrs. Jacques Heath (Lily May Peel)  female  35.0      1   \n",
       "4                             Allen, Mr. William Henry    male  35.0      0   \n",
       "..                                                 ...     ...   ...    ...   \n",
       "886                              Montvila, Rev. Juozas    male  27.0      0   \n",
       "887                       Graham, Miss. Margaret Edith  female  19.0      0   \n",
       "888           Johnston, Miss. Catherine Helen \"Carrie\"  female   NaN      1   \n",
       "889                              Behr, Mr. Karl Howell    male  26.0      0   \n",
       "890                                Dooley, Mr. Patrick    male  32.0      0   \n",
       "\n",
       "     Parch            Ticket     Fare Cabin Embarked  \n",
       "0        0         A/5 21171   7.2500   NaN        S  \n",
       "1        0          PC 17599  71.2833   C85        C  \n",
       "2        0  STON/O2. 3101282   7.9250   NaN        S  \n",
       "3        0            113803  53.1000  C123        S  \n",
       "4        0            373450   8.0500   NaN        S  \n",
       "..     ...               ...      ...   ...      ...  \n",
       "886      0            211536  13.0000   NaN        S  \n",
       "887      0            112053  30.0000   B42        S  \n",
       "888      2        W./C. 6607  23.4500   NaN        S  \n",
       "889      0            111369  30.0000  C148        C  \n",
       "890      0            370376   7.7500   NaN        Q  \n",
       "\n",
       "[891 rows x 12 columns]"
      ]
     },
     "execution_count": 172,
     "metadata": {},
     "output_type": "execute_result"
    }
   ],
   "source": [
    "df_train = pd.read_csv('/kaggle/input/titanic/train.csv')\n",
    "df_test = pd.read_csv('/kaggle/input/titanic/test.csv')\n",
    "df_train"
   ]
  },
  {
   "cell_type": "markdown",
   "metadata": {},
   "source": [
    "After data ingestion and a quick visualization we can address the following conclusions:\n",
    "* Column [0] is the passenger ID, not a valuable data. We can delete it from the dataset.\n",
    "* Column [1] is the label of the problem. If a passenger survived it's represented with a 1. A no-survived passenger with a 0. \n",
    "* Column [3] is the passenger Class. It's easy to think that this is a very valuable/determinant data to predict a passenger survival.\n",
    "* Column [4] is the passenger Name. Is not trivial to think if the name can help in the prediction process.\n",
    "* Column [5] is the passenger Sex. Clearly it could be a valuable data.\n",
    "* Column [6] is the number of siblings/spouses that the passenger have. Possibly a valuable prediction data.\n",
    "* Column [7] is the number of parent/children the the passenger have. Same as column [6]\n",
    "* Column [8] is the ticket number. Random numbers, possibly it hasn't influence in the label result.\n",
    "* Column [9] is the price of the ticket. It could be a valuable data for the prediction.\n",
    "* Column [10] is the cabin number. Low o null influence, random numbers.\n",
    "* Column [11] is the port where the passenger embarked. Possibly it can influence due a social class influece depending the cities."
   ]
  },
  {
   "cell_type": "markdown",
   "metadata": {},
   "source": [
    "# Data analysis"
   ]
  },
  {
   "cell_type": "markdown",
   "metadata": {},
   "source": [
    "Lets see the influence of the class in the survival probability"
   ]
  },
  {
   "cell_type": "code",
   "execution_count": 173,
   "metadata": {},
   "outputs": [
    {
     "name": "stdout",
     "output_type": "stream",
     "text": [
      "<class 'pandas.core.frame.DataFrame'>\n",
      "RangeIndex: 891 entries, 0 to 890\n",
      "Data columns (total 12 columns):\n",
      " #   Column       Non-Null Count  Dtype  \n",
      "---  ------       --------------  -----  \n",
      " 0   PassengerId  891 non-null    int64  \n",
      " 1   Survived     891 non-null    int64  \n",
      " 2   Pclass       891 non-null    int64  \n",
      " 3   Name         891 non-null    object \n",
      " 4   Sex          891 non-null    object \n",
      " 5   Age          714 non-null    float64\n",
      " 6   SibSp        891 non-null    int64  \n",
      " 7   Parch        891 non-null    int64  \n",
      " 8   Ticket       891 non-null    object \n",
      " 9   Fare         891 non-null    float64\n",
      " 10  Cabin        204 non-null    object \n",
      " 11  Embarked     889 non-null    object \n",
      "dtypes: float64(2), int64(5), object(5)\n",
      "memory usage: 83.7+ KB\n"
     ]
    }
   ],
   "source": [
    "df_train.info()"
   ]
  },
  {
   "cell_type": "markdown",
   "metadata": {},
   "source": [
    "* There are null values in some of the features"
   ]
  },
  {
   "cell_type": "markdown",
   "metadata": {},
   "source": [
    "## Pcclass vs survived\n",
    "\n",
    "* There are 3 total ticket classes\n",
    "* Class 1 is the highest socio-economic status\n",
    "\n",
    "Lets count the survival and no survival passengers of each class, then plot the results"
   ]
  },
  {
   "cell_type": "code",
   "execution_count": 174,
   "metadata": {},
   "outputs": [],
   "source": [
    "class1 = df_train[df_train.Pclass == 1] \n",
    "\n",
    "c1_surv = class1[class1.Survived == 1].Survived.count()\n",
    "c1_no_surv = class1[class1.Survived == 0].Survived.count()\n",
    "\n",
    "class2 = df_train[df_train.Pclass == 2] \n",
    "\n",
    "c2_surv = class2[class2.Survived == 1].Survived.count()\n",
    "c2_no_surv = class2[class2.Survived == 0].Survived.count()\n",
    "\n",
    "class3 = df_train[df_train.Pclass == 3] \n",
    "\n",
    "c3_surv = class3[class3.Survived == 1].Survived.count()\n",
    "c3_no_surv = class3[class3.Survived == 0].Survived.count()"
   ]
  },
  {
   "cell_type": "code",
   "execution_count": 175,
   "metadata": {},
   "outputs": [
    {
     "data": {
      "image/png": "[encoded data removed]",
      "text/plain": [
       "<Figure size 432x288 with 1 Axes>"
      ]
     },
     "metadata": {
      "needs_background": "light"
     },
     "output_type": "display_data"
    }
   ],
   "source": [
    "labels = ['Class1', 'Class2', 'Class3']\n",
    "survived = [c1_surv, c2_surv, c3_surv]\n",
    "no_survived = [c1_no_surv, c2_no_surv, c3_no_surv]\n",
    "\n",
    "x = np.arange(len(labels))  # the label locations\n",
    "width = 0.35  # the width of the bars\n",
    "\n",
    "fig, ax = plt.subplots()\n",
    "rects1 = ax.bar(x - width/2, survived, width, label='Survived')\n",
    "rects2 = ax.bar(x + width/2, no_survived, width, label='No survived')\n",
    "\n",
    "# Add some text for labels, title and custom x-axis tick labels, etc.\n",
    "ax.set_ylabel('Count')\n",
    "ax.set_title('Passenger class vs Survival Count')\n",
    "ax.set_xticks(x)\n",
    "ax.set_xticklabels(labels)\n",
    "ax.legend()\n",
    "\n",
    "\n",
    "plt.show()"
   ]
  },
  {
   "cell_type": "markdown",
   "metadata": {},
   "source": [
    "We can see that the class 3 (lowest socio-economic) has the highest number of passengers. Also is the class with the highest no survived ratio.\n",
    "Now calculate the percent of survival for each class"
   ]
  },
  {
   "cell_type": "code",
   "execution_count": 176,
   "metadata": {},
   "outputs": [
    {
     "name": "stdout",
     "output_type": "stream",
     "text": [
      "Class 1 survival percent =  62.96296296296296\n",
      "Class 2 survival percent =  47.28260869565217\n",
      "Class 2 survival percent =  24.236252545824847\n"
     ]
    }
   ],
   "source": [
    "a = c1_surv/(c1_surv+c1_no_surv) #Percent of survival\n",
    "b = c2_surv/(c2_surv+c2_no_surv)\n",
    "c = c3_surv/(c3_surv+c3_no_surv)\n",
    "print('Class 1 survival percent = ', a*100)\n",
    "print('Class 2 survival percent = ', b*100)\n",
    "print('Class 2 survival percent = ', c*100)"
   ]
  },
  {
   "cell_type": "markdown",
   "metadata": {},
   "source": [
    "Finally we can conclude: \n",
    "* The highest the social class, highest survival probability\n",
    "* Class 3 is the lowest social class"
   ]
  },
  {
   "cell_type": "markdown",
   "metadata": {},
   "source": [
    "## Sex vs survived\n",
    "\n",
    "Is necesary to find correlation between sex and survival probability and also with the Pclass\n",
    "\n",
    "* First we are going to plot the global sex vs survived results\n",
    "* Then sex class vs survived"
   ]
  },
  {
   "cell_type": "code",
   "execution_count": 177,
   "metadata": {},
   "outputs": [],
   "source": [
    "fem_surv = df_train.loc[(df_train.Sex == 'female') & (df_train.Survived == 1), 'Survived'].count()\n",
    "fem_no_surv = df_train.loc[(df_train.Sex == 'female') & (df_train.Survived == 0), 'Survived'].count()\n",
    "\n",
    "mal_surv = df_train.loc[(df_train.Sex == 'male') & (df_train.Survived == 1), 'Survived'].count()\n",
    "mal_no_surv = df_train.loc[(df_train.Sex == 'male') & (df_train.Survived == 0), 'Survived'].count()"
   ]
  },
  {
   "cell_type": "code",
   "execution_count": 178,
   "metadata": {},
   "outputs": [
    {
     "data": {
      "image/png": "[encoded data removed]",
      "text/plain": [
       "<Figure size 432x288 with 1 Axes>"
      ]
     },
     "metadata": {
      "needs_background": "light"
     },
     "output_type": "display_data"
    }
   ],
   "source": [
    "labels = ['Female', 'Male']\n",
    "survived = [fem_surv, mal_surv]\n",
    "no_survived = [fem_no_surv, mal_no_surv]\n",
    "\n",
    "x = np.arange(len(labels))  # the label locations\n",
    "width = 0.35  # the width of the bars\n",
    "\n",
    "fig, ax = plt.subplots()\n",
    "rects1 = ax.bar(x - width/2, survived, width, label='Survived')\n",
    "rects2 = ax.bar(x + width/2, no_survived, width, label='No survived')\n",
    "\n",
    "# Add some text for labels, title and custom x-axis tick labels, etc.\n",
    "ax.set_ylabel('Count')\n",
    "ax.set_title('Passenger class vs Survival Count')\n",
    "ax.set_xticks(x)\n",
    "ax.set_xticklabels(labels)\n",
    "ax.legend()\n",
    "\n",
    "\n",
    "plt.show()"
   ]
  },
  {
   "cell_type": "markdown",
   "metadata": {},
   "source": [
    "The graph is showing us very interesting data. \n",
    "* There are more mans than women \n",
    "* Womens has the most survival rate \n",
    "* Male gender survival rate is very low"
   ]
  },
  {
   "cell_type": "code",
   "execution_count": 179,
   "metadata": {},
   "outputs": [
    {
     "name": "stdout",
     "output_type": "stream",
     "text": [
      "Female survival percent =  74.20382165605095\n",
      "Male survival percent =  18.890814558058924\n"
     ]
    }
   ],
   "source": [
    "a = fem_surv / (fem_surv + fem_no_surv)\n",
    "b = mal_surv / (mal_surv + mal_no_surv)\n",
    "\n",
    "print('Female survival percent = ', a*100)\n",
    "print('Male survival percent = ', b*100)"
   ]
  },
  {
   "cell_type": "markdown",
   "metadata": {},
   "source": [
    "Now we are going to analize using Pclass and gender at the same time"
   ]
  },
  {
   "cell_type": "code",
   "execution_count": 180,
   "metadata": {},
   "outputs": [],
   "source": [
    "sex_class_surv = np.zeros((2,3))\n",
    "\n",
    "for i in range(1,4):\n",
    "    \n",
    "    Pclass = df_train[df_train.Pclass == i] \n",
    "\n",
    "    fem = Pclass[Pclass.Sex == 'female']\n",
    "    mal = Pclass[Pclass.Sex == 'male']\n",
    "\n",
    "    sex_class_surv[0, i-1] = fem[fem.Survived == 1].Survived.count() / (fem[fem.Survived == 1].Survived.count() + fem[fem.Survived == 0].Survived.count())\n",
    "\n",
    "    sex_class_surv[1, i-1] = mal[mal.Survived == 1].Survived.count() / (mal[mal.Survived == 1].Survived.count() + mal[mal.Survived == 0].Survived.count())"
   ]
  },
  {
   "cell_type": "code",
   "execution_count": 181,
   "metadata": {},
   "outputs": [
    {
     "data": {
      "image/png": "[encoded data removed]",
      "text/plain": [
       "<Figure size 432x288 with 1 Axes>"
      ]
     },
     "metadata": {
      "needs_background": "light"
     },
     "output_type": "display_data"
    }
   ],
   "source": [
    "plt.plot([1,2,3], sex_class_surv[0], 'm-', label = 'Female')\n",
    "plt.plot([1,2,3], sex_class_surv[1], 'b-', label = 'Male')\n",
    "plt.xticks([1,2,3])\n",
    "plt.xlabel('Class')\n",
    "plt.ylabel('Survival percentage')\n",
    "plt.title('Sex classes vs survival')\n",
    "plt.legend()\n",
    "plt.show()"
   ]
  },
  {
   "cell_type": "code",
   "execution_count": 182,
   "metadata": {},
   "outputs": [
    {
     "name": "stdout",
     "output_type": "stream",
     "text": [
      "Female survival rate --> Class 1 =  0.9680851063829787  Class 2 =  0.9210526315789473 Class 3 =  0.5\n",
      "Male survival rate --> Class 1 =  0.36885245901639346  Class 2 =  0.1574074074074074 Class 3 =  0.13544668587896252\n"
     ]
    }
   ],
   "source": [
    "print('Female survival rate --> Class 1 = ',sex_class_surv[0,0], ' Class 2 = ', sex_class_surv[0,1], 'Class 3 = ', sex_class_surv[0,2])\n",
    "print('Male survival rate --> Class 1 = ',sex_class_surv[1,0], ' Class 2 = ', sex_class_surv[1,1], 'Class 3 = ', sex_class_surv[1,2])"
   ]
  },
  {
   "cell_type": "markdown",
   "metadata": {},
   "source": [
    "* It is evident from the plot that no matter what de Passenger class was, the Female gender had the highest survival ratio.\n",
    "* Again the highest the social-economic class, higher the survival ratio"
   ]
  },
  {
   "cell_type": "markdown",
   "metadata": {},
   "source": [
    "# Age vs survived\n",
    "\n",
    "The idea is find correlation in the age data and the survival count.\n",
    "* Before data analysis we need to fill the Nans values in the dataframe"
   ]
  },
  {
   "cell_type": "code",
   "execution_count": 183,
   "metadata": {},
   "outputs": [
    {
     "data": {
      "text/plain": [
       "177"
      ]
     },
     "execution_count": 183,
     "metadata": {},
     "output_type": "execute_result"
    }
   ],
   "source": [
    "df_train.Age.isna().sum()"
   ]
  },
  {
   "cell_type": "markdown",
   "metadata": {},
   "source": [
    "Acordint to the dataframe info() function, we have 177 Nan values in the Age column."
   ]
  },
  {
   "cell_type": "markdown",
   "metadata": {},
   "source": [
    "### AGE NANS FILLING\n",
    "    * The idea is to use the mean age of men/female of each class to fill the empty values."
   ]
  },
  {
   "cell_type": "code",
   "execution_count": 184,
   "metadata": {},
   "outputs": [
    {
     "name": "stdout",
     "output_type": "stream",
     "text": [
      "Female Pclass1 mean Age =  34.61176470588235 Male Pclass1 mean Age =  41.28138613861386 \n",
      " Female Pclass2 mean Age =  28.722972972972972 Male Pclass2 mean Age =  30.74070707070707 \n",
      " Female Pclass1 mean Age =  21.75 Male Pclass1 mean Age =  26.507588932806325\n"
     ]
    }
   ],
   "source": [
    "pclass1_fem = (df_train[(df_train.Pclass == 1) & (df_train.Sex == 'female')]).Age.mean()\n",
    "pclass1_mal = (df_train[(df_train.Pclass == 1) & (df_train.Sex == 'male')]).Age.mean()\n",
    "\n",
    "pclass2_fem = (df_train[(df_train.Pclass == 2) & (df_train.Sex == 'female')]).Age.mean()\n",
    "pclass2_mal = (df_train[(df_train.Pclass == 2) & (df_train.Sex == 'male')]).Age.mean()\n",
    "\n",
    "pclass3_fem = (df_train[(df_train.Pclass == 3) & (df_train.Sex == 'female')]).Age.mean()\n",
    "pclass3_mal = (df_train[(df_train.Pclass == 3) & (df_train.Sex == 'male')]).Age.mean()\n",
    "\n",
    "print('Female Pclass1 mean Age = ', pclass1_fem, 'Male Pclass1 mean Age = ', pclass1_mal,\n",
    "      '\\n Female Pclass2 mean Age = ', pclass2_fem, 'Male Pclass2 mean Age = ', pclass2_mal,\n",
    "      '\\n Female Pclass1 mean Age = ', pclass3_fem, 'Male Pclass1 mean Age = ', pclass3_mal)\n"
   ]
  },
  {
   "cell_type": "markdown",
   "metadata": {},
   "source": [
    "We have now a more accurate mean age for each class and sex. Every value needs to be replace in the corresponding age Nan. "
   ]
  },
  {
   "cell_type": "code",
   "execution_count": 185,
   "metadata": {},
   "outputs": [],
   "source": [
    "df_train.loc[(df_train.Pclass == 1) & (df_train.Sex == 'female'), 'Age'] = (df_train[(df_train.Pclass == 1) & (df_train.Sex == 'female')]).Age.fillna(pclass1_fem)\n",
    "df_train.loc[(df_train.Pclass == 1) & (df_train.Sex == 'male'), 'Age'] = (df_train[(df_train.Pclass == 1) & (df_train.Sex == 'male')]).Age.fillna(pclass1_mal)\n",
    "\n",
    "df_train.loc[(df_train.Pclass == 2) & (df_train.Sex == 'female'), 'Age'] = (df_train[(df_train.Pclass == 2) & (df_train.Sex == 'female')]).Age.fillna(pclass2_fem)\n",
    "df_train.loc[(df_train.Pclass == 2) & (df_train.Sex == 'male'), 'Age'] = (df_train[(df_train.Pclass == 2) & (df_train.Sex == 'male')]).Age.fillna(pclass2_mal)\n",
    "\n",
    "df_train.loc[(df_train.Pclass == 3) & (df_train.Sex == 'female'), 'Age'] = (df_train[(df_train.Pclass == 3) & (df_train.Sex == 'female')]).Age.fillna(pclass3_fem)\n",
    "df_train.loc[(df_train.Pclass == 3) & (df_train.Sex == 'male'), 'Age'] = (df_train[(df_train.Pclass == 3) & (df_train.Sex == 'male')]).Age.fillna(pclass3_mal)"
   ]
  },
  {
   "cell_type": "code",
   "execution_count": 186,
   "metadata": {},
   "outputs": [
    {
     "data": {
      "text/plain": [
       "0"
      ]
     },
     "execution_count": 186,
     "metadata": {},
     "output_type": "execute_result"
    }
   ],
   "source": [
    "df_train.Age.isna().sum()"
   ]
  },
  {
   "cell_type": "markdown",
   "metadata": {},
   "source": [
    "Now we have a complete Age column to analize.\n",
    "\n",
    "Then repeat the same process to the test dataframe.."
   ]
  },
  {
   "cell_type": "code",
   "execution_count": 187,
   "metadata": {},
   "outputs": [
    {
     "data": {
      "text/plain": [
       "86"
      ]
     },
     "execution_count": 187,
     "metadata": {},
     "output_type": "execute_result"
    }
   ],
   "source": [
    "df_test.Age.isnull().sum()"
   ]
  },
  {
   "cell_type": "code",
   "execution_count": 188,
   "metadata": {},
   "outputs": [],
   "source": [
    "df_test.loc[(df_test.Pclass == 1) & (df_test.Sex == 'female'), 'Age'] = (df_test[(df_test.Pclass == 1) & (df_test.Sex == 'female')]).Age.fillna(pclass1_fem)\n",
    "df_test.loc[(df_test.Pclass == 1) & (df_test.Sex == 'male'), 'Age']   = (df_test[(df_test.Pclass == 1) & (df_test.Sex == 'male')]).Age.fillna(pclass1_mal)\n",
    "\n",
    "df_test.loc[(df_test.Pclass == 2) & (df_test.Sex == 'female'), 'Age'] = (df_test[(df_test.Pclass == 2) & (df_test.Sex == 'female')]).Age.fillna(pclass2_fem)\n",
    "df_test.loc[(df_test.Pclass == 2) & (df_test.Sex == 'male'), 'Age']   = (df_test[(df_test.Pclass == 2) & (df_test.Sex == 'male')]).Age.fillna(pclass2_mal)\n",
    "\n",
    "df_test.loc[(df_test.Pclass == 3) & (df_test.Sex == 'female'), 'Age'] = (df_test[(df_test.Pclass == 3) & (df_test.Sex == 'female')]).Age.fillna(pclass3_fem)\n",
    "df_test.loc[(df_test.Pclass == 3) & (df_test.Sex == 'male'), 'Age']   = (df_test[(df_test.Pclass == 3) & (df_test.Sex == 'male')]).Age.fillna(pclass3_mal)"
   ]
  },
  {
   "cell_type": "code",
   "execution_count": 189,
   "metadata": {},
   "outputs": [
    {
     "data": {
      "text/plain": [
       "0"
      ]
     },
     "execution_count": 189,
     "metadata": {},
     "output_type": "execute_result"
    }
   ],
   "source": [
    "df_test.Age.isnull().sum()"
   ]
  },
  {
   "cell_type": "markdown",
   "metadata": {},
   "source": [
    "Test dataframe Age column Nans fill complete!\n",
    "\n",
    "It's time to visualize some data.."
   ]
  },
  {
   "cell_type": "code",
   "execution_count": 190,
   "metadata": {},
   "outputs": [
    {
     "data": {
      "image/png": "[encoded data removed]",
      "text/plain": [
       "<Figure size 432x288 with 2 Axes>"
      ]
     },
     "metadata": {
      "needs_background": "light"
     },
     "output_type": "display_data"
    },
    {
     "name": "stdout",
     "output_type": "stream",
     "text": [
      "Mean Age train data =  29.31864271664414\n",
      "Median Age train data =  26.507588932806325\n",
      "Mean Age test data =  29.579565742292257\n",
      "Median Age test data =  26.507588932806325\n"
     ]
    }
   ],
   "source": [
    "age_train = df_train['Age']\n",
    "age_test = df_test['Age']\n",
    "\n",
    "plt.subplot(1,2,1)\n",
    "plt.hist(age_train)\n",
    "plt.axvline(x=age_train.mean(), color = 'cyan', linestyle='dashed', linewidth = 2)\n",
    "plt.axvline(x=age_train.median(), color = 'red', linestyle='dashed', linewidth = 2)\n",
    "plt.title('Age frequency - train')\n",
    "plt.xlabel('Age')\n",
    "plt.ylabel('Count')\n",
    "\n",
    "plt.subplot(1,2,2)\n",
    "plt.hist(age_test)\n",
    "plt.axvline(x=age_test.mean(), color = 'cyan', linestyle='dashed', linewidth = 2)\n",
    "plt.axvline(x=age_test.median(), color = 'red', linestyle='dashed', linewidth = 2)\n",
    "plt.title('Age frequency - test')\n",
    "plt.xlabel('Age')\n",
    "plt.ylabel('Count')\n",
    "\n",
    "plt.show()\n",
    "\n",
    "print('Mean Age train data = ', age_train.mean())\n",
    "print('Median Age train data = ', age_train.median())\n",
    "print('Mean Age test data = ', age_test.mean())\n",
    "print('Median Age test data = ', age_test.median())"
   ]
  },
  {
   "cell_type": "markdown",
   "metadata": {},
   "source": [
    "Conclutions:\n",
    "* Most if the Age lie between 20-40yrs\n",
    "* The mean in both datasets (train-test) are very similar.\n",
    "\n",
    "Now we are going to plot the age vs class vs survived|no-survived"
   ]
  },
  {
   "cell_type": "code",
   "execution_count": 191,
   "metadata": {},
   "outputs": [
    {
     "data": {
      "image/png": "[encoded data removed]",
      "text/plain": [
       "<Figure size 1131.88x360 with 3 Axes>"
      ]
     },
     "metadata": {
      "needs_background": "light"
     },
     "output_type": "display_data"
    }
   ],
   "source": [
    "import seaborn as sns\n",
    "palette ={0: \"#F93838\", 1: \"#0C66F7\"}\n",
    "sns.catplot(x = 'Sex', y = 'Age', hue = 'Survived', col = 'Pclass', data = df_train, kind = 'violin', split = True, palette=palette)\n",
    "plt.ylim([0,110]);"
   ]
  },
  {
   "cell_type": "markdown",
   "metadata": {},
   "source": [
    "Using violin-like plot is easy to understand multiple class variable graphs like this.\n",
    "In conclusion:\n",
    "* Passenger with age <20 are most likely to survive. \n",
    "* Again female passengers are most likely to survive."
   ]
  },
  {
   "cell_type": "markdown",
   "metadata": {},
   "source": [
    "# Number of siblings/spouses vs Survived"
   ]
  },
  {
   "cell_type": "code",
   "execution_count": 192,
   "metadata": {},
   "outputs": [
    {
     "data": {
      "image/png": "[encoded data removed]",
      "text/plain": [
       "<Figure size 432x288 with 2 Axes>"
      ]
     },
     "metadata": {
      "needs_background": "light"
     },
     "output_type": "display_data"
    },
    {
     "name": "stdout",
     "output_type": "stream",
     "text": [
      "Mean Age train data =  0.5230078563411896\n",
      "Mean Age test data =  0.4473684210526316\n"
     ]
    }
   ],
   "source": [
    "sbsp_train = df_train['SibSp']\n",
    "sbsp_test = df_test['SibSp']\n",
    "\n",
    "plt.subplot(1,2,1)\n",
    "plt.hist(sbsp_train)\n",
    "plt.axvline(x=sbsp_train.mean(), color = 'cyan', linestyle='dashed', linewidth = 2)\n",
    "plt.title('Sibling/spouses - train')\n",
    "plt.xlabel('Number of siblings/spouses')\n",
    "plt.ylabel('Count')\n",
    "\n",
    "plt.subplot(1,2,2)\n",
    "plt.hist(sbsp_test)\n",
    "plt.axvline(x=sbsp_test.mean(), color = 'cyan', linestyle='dashed', linewidth = 2)\n",
    "plt.title('Sibling/spouses - test')\n",
    "plt.xlabel('Number of siblings/spouses')\n",
    "plt.ylabel('Count')\n",
    "\n",
    "plt.show()\n",
    "\n",
    "print('Mean Age train data = ', sbsp_train.mean())\n",
    "print('Mean Age test data = ', sbsp_test.mean())"
   ]
  },
  {
   "cell_type": "markdown",
   "metadata": {},
   "source": [
    "The distribution in both train and test datasets are pretty much the same..\n",
    "* Most density lie between 0 - 2 sib/sp\n",
    "\n",
    "Let's compare it with de survival label"
   ]
  },
  {
   "cell_type": "code",
   "execution_count": 193,
   "metadata": {},
   "outputs": [
    {
     "data": {
      "image/png": "[encoded data removed]",
      "text/plain": [
       "<Figure size 432x288 with 1 Axes>"
      ]
     },
     "metadata": {
      "needs_background": "light"
     },
     "output_type": "display_data"
    }
   ],
   "source": [
    "sbsp_surv = df_train.SibSp[df_train.Survived == 1] \n",
    "\n",
    "plt.hist(sbsp_surv)\n",
    "plt.axvline(x=sbsp_surv.mean(), color = 'cyan', linestyle='dashed', linewidth = 2)\n",
    "plt.title('Sibling/spouses vs Survived')\n",
    "plt.xlabel('Number of siblings/spouses')\n",
    "plt.ylabel('Count')\n",
    "plt.show()"
   ]
  },
  {
   "cell_type": "markdown",
   "metadata": {},
   "source": [
    "As count of family members on board increases, the rate of survival seems to go down."
   ]
  },
  {
   "cell_type": "markdown",
   "metadata": {},
   "source": [
    "# Number of parents/children vs Survived\n",
    "\n",
    "Similar analysis to siblings/spouses."
   ]
  },
  {
   "cell_type": "code",
   "execution_count": 194,
   "metadata": {},
   "outputs": [
    {
     "data": {
      "image/png": "[encoded data removed]",
      "text/plain": [
       "<Figure size 432x288 with 2 Axes>"
      ]
     },
     "metadata": {
      "needs_background": "light"
     },
     "output_type": "display_data"
    },
    {
     "name": "stdout",
     "output_type": "stream",
     "text": [
      "Mean Age train data =  0.38159371492704824\n",
      "Mean Age test data =  0.3923444976076555\n"
     ]
    }
   ],
   "source": [
    "parch_train = df_train['Parch']\n",
    "parch_test = df_test['Parch']\n",
    "\n",
    "plt.subplot(1,2,1)\n",
    "plt.hist(parch_train)\n",
    "plt.axvline(x=parch_train.mean(), color = 'cyan', linestyle='dashed', linewidth = 2)\n",
    "plt.title('Parent/children - train')\n",
    "plt.xlabel('Number of Parents/children')\n",
    "plt.ylabel('Count')\n",
    "\n",
    "plt.subplot(1,2,2)\n",
    "plt.hist(parch_test)\n",
    "plt.axvline(x=parch_test.mean(), color = 'cyan', linestyle='dashed', linewidth = 2)\n",
    "plt.title('Parent/children - test')\n",
    "plt.xlabel('Number of Parents/children')\n",
    "plt.ylabel('Count')\n",
    "\n",
    "plt.show()\n",
    "\n",
    "print('Mean Age train data = ', parch_train.mean())\n",
    "print('Mean Age test data = ', parch_test.mean())"
   ]
  },
  {
   "cell_type": "markdown",
   "metadata": {},
   "source": [
    "The distribution is very similar to the sibling/spouses. The mean is around 0,4-0.5 in both cases.\n",
    "Now let's see the survival distribution.."
   ]
  },
  {
   "cell_type": "code",
   "execution_count": 195,
   "metadata": {},
   "outputs": [
    {
     "data": {
      "image/png": "[encoded data removed]",
      "text/plain": [
       "<Figure size 432x288 with 1 Axes>"
      ]
     },
     "metadata": {
      "needs_background": "light"
     },
     "output_type": "display_data"
    }
   ],
   "source": [
    "parch_surv = df_train.Parch[df_train.Survived == 1] \n",
    "\n",
    "plt.hist(parch_surv)\n",
    "plt.axvline(x=parch_surv.mean(), color = 'cyan', linestyle='dashed', linewidth = 2)\n",
    "plt.title('Parents/children vs Survived')\n",
    "plt.xlabel('Number of Parent/children')\n",
    "plt.ylabel('Count')\n",
    "plt.show()"
   ]
  },
  {
   "cell_type": "markdown",
   "metadata": {},
   "source": [
    "Very similar result again compared to sibling/spouses survival distribution.\n",
    "We need a more normalized graph due the histogram is only influenced by the frequency and not by the ratio and passenger count.\n",
    "Let's use seaborn catplot to see a more realistic categorical graph of the situation.."
   ]
  },
  {
   "cell_type": "code",
   "execution_count": 196,
   "metadata": {},
   "outputs": [
    {
     "data": {
      "image/png": "[encoded data removed]",
      "text/plain": [
       "<Figure size 360x360 with 1 Axes>"
      ]
     },
     "metadata": {
      "needs_background": "light"
     },
     "output_type": "display_data"
    }
   ],
   "source": [
    "sns.catplot(x = 'Parch', y = 'Survived', kind = 'point', data = df_train)\n",
    "plt.title('Number of Parents/Children vs SibSp');"
   ]
  },
  {
   "cell_type": "markdown",
   "metadata": {},
   "source": [
    "For passengers with more tan 3 family members their survival ratio seems to drastically decrease."
   ]
  },
  {
   "cell_type": "markdown",
   "metadata": {},
   "source": [
    "# Fare vs Survived \n",
    "\n",
    "In a first approach is easy to think that passengers with a large fare are most likely to be resqued due a higher socio-economic status.\n",
    "Anyway we can explore the data to find the insights on it."
   ]
  },
  {
   "cell_type": "code",
   "execution_count": 197,
   "metadata": {},
   "outputs": [
    {
     "data": {
      "image/png": "[encoded data removed]",
      "text/plain": [
       "<Figure size 432x288 with 2 Axes>"
      ]
     },
     "metadata": {
      "needs_background": "light"
     },
     "output_type": "display_data"
    },
    {
     "name": "stdout",
     "output_type": "stream",
     "text": [
      "Mean Fare train data =  32.2042079685746\n",
      "Median Fare train data =  14.4542\n",
      "Mean Fare test data =  35.6271884892086\n",
      "Median Fare test data =  14.4542\n"
     ]
    }
   ],
   "source": [
    "fare_train = df_train['Fare']\n",
    "fare_test = df_test['Fare']\n",
    "\n",
    "plt.subplot(1,2,1)\n",
    "plt.hist(fare_train)\n",
    "plt.axvline(x=fare_train.mean(), color = 'cyan', linestyle='dashed', linewidth = 2)\n",
    "plt.title('Fare density - train')\n",
    "plt.xlabel('Fare')\n",
    "plt.ylabel('Count')\n",
    "\n",
    "plt.subplot(1,2,2)\n",
    "plt.hist(fare_test)\n",
    "plt.axvline(x=fare_test.mean(), color = 'cyan', linestyle='dashed', linewidth = 2)\n",
    "plt.title('Fare density - test')\n",
    "plt.xlabel('Fare')\n",
    "plt.ylabel('Count')\n",
    "\n",
    "plt.show()\n",
    "\n",
    "print('Mean Fare train data = ', fare_train.mean())\n",
    "print('Median Fare train data = ', fare_train.median())\n",
    "print('Mean Fare test data = ', fare_test.mean())\n",
    "print('Median Fare test data = ', fare_test.median())"
   ]
  },
  {
   "cell_type": "markdown",
   "metadata": {},
   "source": [
    "Most of the fare lies between 0-100 in both training and test sets"
   ]
  },
  {
   "cell_type": "code",
   "execution_count": 198,
   "metadata": {},
   "outputs": [
    {
     "data": {
      "text/plain": [
       "Text(0.5, 1.0, 'Fare vs survival density')"
      ]
     },
     "execution_count": 198,
     "metadata": {},
     "output_type": "execute_result"
    },
    {
     "data": {
      "image/png": "[encoded data removed]",
      "text/plain": [
       "<Figure size 360x360 with 1 Axes>"
      ]
     },
     "metadata": {
      "needs_background": "light"
     },
     "output_type": "display_data"
    }
   ],
   "source": [
    "sns.catplot(x = 'Survived', y = 'Fare', data = df_train, kind = 'violin', split = True, palette=palette)\n",
    "plt.ylim([-10,600]);\n",
    "plt.title('Fare vs survival density')"
   ]
  },
  {
   "cell_type": "markdown",
   "metadata": {},
   "source": [
    "From the violin-type graph is more easy to understand the situation.\n",
    "* The red graph is telling us that the peope with less fare has a less survival ratio\n",
    "* Passengers with a >300 fare were resqued and has survived."
   ]
  },
  {
   "cell_type": "code",
   "execution_count": 199,
   "metadata": {},
   "outputs": [
    {
     "data": {
      "text/html": [
       "<div>\n",
       "<style scoped>\n",
       "    .dataframe tbody tr th:only-of-type {\n",
       "        vertical-align: middle;\n",
       "    }\n",
       "\n",
       "    .dataframe tbody tr th {\n",
       "        vertical-align: top;\n",
       "    }\n",
       "\n",
       "    .dataframe thead th {\n",
       "        text-align: right;\n",
       "    }\n",
       "</style>\n",
       "<table border=\"1\" class=\"dataframe\">\n",
       "  <thead>\n",
       "    <tr style=\"text-align: right;\">\n",
       "      <th></th>\n",
       "      <th>PassengerId</th>\n",
       "      <th>Pclass</th>\n",
       "      <th>Name</th>\n",
       "      <th>Sex</th>\n",
       "      <th>Age</th>\n",
       "      <th>SibSp</th>\n",
       "      <th>Parch</th>\n",
       "      <th>Ticket</th>\n",
       "      <th>Fare</th>\n",
       "      <th>Cabin</th>\n",
       "      <th>Embarked</th>\n",
       "    </tr>\n",
       "  </thead>\n",
       "  <tbody>\n",
       "    <tr>\n",
       "      <th>152</th>\n",
       "      <td>1044</td>\n",
       "      <td>3</td>\n",
       "      <td>Storey, Mr. Thomas</td>\n",
       "      <td>male</td>\n",
       "      <td>60.5</td>\n",
       "      <td>0</td>\n",
       "      <td>0</td>\n",
       "      <td>3701</td>\n",
       "      <td>NaN</td>\n",
       "      <td>NaN</td>\n",
       "      <td>S</td>\n",
       "    </tr>\n",
       "  </tbody>\n",
       "</table>\n",
       "</div>"
      ],
      "text/plain": [
       "     PassengerId  Pclass                Name   Sex   Age  SibSp  Parch Ticket  \\\n",
       "152         1044       3  Storey, Mr. Thomas  male  60.5      0      0   3701   \n",
       "\n",
       "     Fare Cabin Embarked  \n",
       "152   NaN   NaN        S  "
      ]
     },
     "execution_count": 199,
     "metadata": {},
     "output_type": "execute_result"
    }
   ],
   "source": [
    "df_test[df_test.Fare.isna()]"
   ]
  },
  {
   "cell_type": "markdown",
   "metadata": {},
   "source": [
    "We have a Nan value in the Fare test data.. let's fill it!\n",
    "* The passenger belongs to Pclass 3 (lowest)\n",
    "* Due the Class 3 is the most popular, we can use the mean criteria of the class3 to fill the Nan value."
   ]
  },
  {
   "cell_type": "code",
   "execution_count": 200,
   "metadata": {},
   "outputs": [],
   "source": [
    "pclass3_fare_mean_train = df_train[(df_train.Pclass == 3)].Fare.mean()\n",
    "pclass3_fare_mean_test = df_test[(df_test.Pclass == 3)].Fare.mean()\n",
    "\n",
    "pclass3_fare_mean = (pclass3_fare_mean_test + pclass3_fare_mean_train) / 2 "
   ]
  },
  {
   "cell_type": "code",
   "execution_count": 201,
   "metadata": {},
   "outputs": [],
   "source": [
    "df_test.Fare = df_test.Fare.fillna(pclass3_fare_mean)"
   ]
  },
  {
   "cell_type": "code",
   "execution_count": 202,
   "metadata": {},
   "outputs": [
    {
     "data": {
      "text/html": [
       "<div>\n",
       "<style scoped>\n",
       "    .dataframe tbody tr th:only-of-type {\n",
       "        vertical-align: middle;\n",
       "    }\n",
       "\n",
       "    .dataframe tbody tr th {\n",
       "        vertical-align: top;\n",
       "    }\n",
       "\n",
       "    .dataframe thead th {\n",
       "        text-align: right;\n",
       "    }\n",
       "</style>\n",
       "<table border=\"1\" class=\"dataframe\">\n",
       "  <thead>\n",
       "    <tr style=\"text-align: right;\">\n",
       "      <th></th>\n",
       "      <th>PassengerId</th>\n",
       "      <th>Pclass</th>\n",
       "      <th>Name</th>\n",
       "      <th>Sex</th>\n",
       "      <th>Age</th>\n",
       "      <th>SibSp</th>\n",
       "      <th>Parch</th>\n",
       "      <th>Ticket</th>\n",
       "      <th>Fare</th>\n",
       "      <th>Cabin</th>\n",
       "      <th>Embarked</th>\n",
       "    </tr>\n",
       "  </thead>\n",
       "  <tbody>\n",
       "  </tbody>\n",
       "</table>\n",
       "</div>"
      ],
      "text/plain": [
       "Empty DataFrame\n",
       "Columns: [PassengerId, Pclass, Name, Sex, Age, SibSp, Parch, Ticket, Fare, Cabin, Embarked]\n",
       "Index: []"
      ]
     },
     "execution_count": 202,
     "metadata": {},
     "output_type": "execute_result"
    }
   ],
   "source": [
    "df_test[df_test.Fare.isna()]"
   ]
  },
  {
   "cell_type": "markdown",
   "metadata": {},
   "source": [
    "Fare Nan are now filled correctly!"
   ]
  },
  {
   "cell_type": "markdown",
   "metadata": {},
   "source": [
    "# Embarkment vs survived\n",
    "\n",
    "There are 3 ports where people boarded the Titanic.\n",
    "* C - Cherbourg\n",
    "* Q - Queenston\n",
    "* S - Southampton"
   ]
  },
  {
   "cell_type": "code",
   "execution_count": 203,
   "metadata": {},
   "outputs": [
    {
     "data": {
      "text/plain": [
       "2"
      ]
     },
     "execution_count": 203,
     "metadata": {},
     "output_type": "execute_result"
    }
   ],
   "source": [
    "df_train.Embarked.isna().sum()"
   ]
  },
  {
   "cell_type": "markdown",
   "metadata": {},
   "source": [
    "Before a further analysis we need to fill the Nans values in the dataset embarked column..\n",
    "Using a similar procedure to Age filling."
   ]
  },
  {
   "cell_type": "code",
   "execution_count": 204,
   "metadata": {},
   "outputs": [],
   "source": [
    "from sklearn.impute import SimpleImputer\n",
    "imputer = SimpleImputer(missing_values = np.nan, strategy = 'most_frequent', verbose=0) \n",
    "\n",
    "embarked = (df_train.iloc[:, 11].values).reshape(-1,1)    #Embarked column extraction and reshape\n",
    "imputer_1 = imputer.fit(embarked)                           #Imputer fit\n",
    "df_train['Embarked'] = (imputer_1.transform(embarked)).reshape(-1,)   #New embarked column replace into dataframe"
   ]
  },
  {
   "cell_type": "code",
   "execution_count": 205,
   "metadata": {},
   "outputs": [
    {
     "data": {
      "text/plain": [
       "0"
      ]
     },
     "execution_count": 205,
     "metadata": {},
     "output_type": "execute_result"
    }
   ],
   "source": [
    "df_train.Embarked.isna().sum()"
   ]
  },
  {
   "cell_type": "markdown",
   "metadata": {},
   "source": [
    "All the Nans were filled correctly.. now we reply the procedure but in the test data."
   ]
  },
  {
   "cell_type": "code",
   "execution_count": 206,
   "metadata": {},
   "outputs": [
    {
     "data": {
      "text/plain": [
       "0"
      ]
     },
     "execution_count": 206,
     "metadata": {},
     "output_type": "execute_result"
    }
   ],
   "source": [
    "df_test.Embarked.isna().sum()"
   ]
  },
  {
   "cell_type": "code",
   "execution_count": 207,
   "metadata": {},
   "outputs": [],
   "source": [
    "\n",
    "imputer = SimpleImputer(missing_values = np.nan, strategy = 'most_frequent', verbose=0) \n",
    "\n",
    "embarked = (df_test.iloc[:, 10].values).reshape(-1,1)    #Embarked column extraction and reshape\n",
    "imputer_1 = imputer.fit(embarked)                           #Imputer fit\n",
    "df_test['Embarked'] = (imputer_1.transform(embarked)).reshape(-1,)   #New embarked column replace into dataframe"
   ]
  },
  {
   "cell_type": "code",
   "execution_count": 208,
   "metadata": {},
   "outputs": [
    {
     "data": {
      "text/html": [
       "<div>\n",
       "<style scoped>\n",
       "    .dataframe tbody tr th:only-of-type {\n",
       "        vertical-align: middle;\n",
       "    }\n",
       "\n",
       "    .dataframe tbody tr th {\n",
       "        vertical-align: top;\n",
       "    }\n",
       "\n",
       "    .dataframe thead th {\n",
       "        text-align: right;\n",
       "    }\n",
       "</style>\n",
       "<table border=\"1\" class=\"dataframe\">\n",
       "  <thead>\n",
       "    <tr style=\"text-align: right;\">\n",
       "      <th></th>\n",
       "      <th>PassengerId</th>\n",
       "      <th>Pclass</th>\n",
       "      <th>Name</th>\n",
       "      <th>Sex</th>\n",
       "      <th>Age</th>\n",
       "      <th>SibSp</th>\n",
       "      <th>Parch</th>\n",
       "      <th>Ticket</th>\n",
       "      <th>Fare</th>\n",
       "      <th>Cabin</th>\n",
       "      <th>Embarked</th>\n",
       "    </tr>\n",
       "  </thead>\n",
       "  <tbody>\n",
       "  </tbody>\n",
       "</table>\n",
       "</div>"
      ],
      "text/plain": [
       "Empty DataFrame\n",
       "Columns: [PassengerId, Pclass, Name, Sex, Age, SibSp, Parch, Ticket, Fare, Cabin, Embarked]\n",
       "Index: []"
      ]
     },
     "execution_count": 208,
     "metadata": {},
     "output_type": "execute_result"
    }
   ],
   "source": [
    "df_test[df_test.Embarked.isna()]"
   ]
  },
  {
   "cell_type": "markdown",
   "metadata": {},
   "source": [
    "After filled are the Nan values, we can start our data analysis.\n",
    "Les's start looking the embarked class frecuency in the dataset."
   ]
  },
  {
   "cell_type": "code",
   "execution_count": 209,
   "metadata": {},
   "outputs": [
    {
     "data": {
      "image/png": "[encoded data removed]",
      "text/plain": [
       "<Figure size 432x288 with 1 Axes>"
      ]
     },
     "metadata": {
      "needs_background": "light"
     },
     "output_type": "display_data"
    }
   ],
   "source": [
    "embk = df_train['Embarked']\n",
    "plt.hist(embk, align = 'mid')\n",
    "plt.title('Emarked frequency')\n",
    "plt.xlabel('Port')\n",
    "plt.ylabel('Count')\n",
    "plt.show()"
   ]
  },
  {
   "cell_type": "markdown",
   "metadata": {},
   "source": [
    "Most of the people started their journey from Southampton.\n",
    "\n",
    "Let's find some correlation between embarked port and the survival rate using categorical plot from seaborbn."
   ]
  },
  {
   "cell_type": "code",
   "execution_count": 210,
   "metadata": {},
   "outputs": [
    {
     "data": {
      "image/png": "[encoded data removed]",
      "text/plain": [
       "<Figure size 360x360 with 1 Axes>"
      ]
     },
     "metadata": {
      "needs_background": "light"
     },
     "output_type": "display_data"
    }
   ],
   "source": [
    "sns.catplot(x = 'Embarked', y = 'Survived', data = df_train, kind = 'point')\n",
    "plt.title('Port of Embarkment vs Survival')\n",
    "plt.show()"
   ]
  },
  {
   "cell_type": "markdown",
   "metadata": {},
   "source": [
    "Passengers from Cherbourg had a high rate of survival. Southampton (most popular embarked) had the lowest one.\n",
    "\n",
    "We can find more answers in Pclass vs Embarked graph."
   ]
  },
  {
   "cell_type": "code",
   "execution_count": 211,
   "metadata": {},
   "outputs": [
    {
     "data": {
      "image/png": "[encoded data removed]",
      "text/plain": [
       "<Figure size 360x360 with 1 Axes>"
      ]
     },
     "metadata": {
      "needs_background": "light"
     },
     "output_type": "display_data"
    },
    {
     "data": {
      "image/png": "[encoded data removed]",
      "text/plain": [
       "<Figure size 360x360 with 1 Axes>"
      ]
     },
     "metadata": {
      "needs_background": "light"
     },
     "output_type": "display_data"
    },
    {
     "data": {
      "image/png": "[encoded data removed]",
      "text/plain": [
       "<Figure size 360x360 with 1 Axes>"
      ]
     },
     "metadata": {
      "needs_background": "light"
     },
     "output_type": "display_data"
    }
   ],
   "source": [
    "S = df_train[df_train.Embarked == 'S']\n",
    "C = df_train[df_train.Embarked == 'C']\n",
    "Q = df_train[df_train.Embarked == 'Q']\n",
    "\n",
    "sns.catplot(x = S.Pclass, y = 'Survived', data = df_train, kind = 'bar')\n",
    "plt.title('Southampton embarked port')\n",
    "sns.catplot(x = C.Pclass, y = 'Survived', data = df_train, kind = 'bar')\n",
    "plt.title('Cherbourg embarked port')\n",
    "sns.catplot(x = Q.Pclass, y = 'Survived', data = df_train, kind = 'bar')\n",
    "plt.title('Queenston embarked port')\n",
    "\n",
    "plt.show()"
   ]
  },
  {
   "cell_type": "markdown",
   "metadata": {},
   "source": [
    "* As expected, Cherbourg had (in proportion) the most Pclass1 passengers this is why the high survival ratio.\n",
    "* Queenston in the other side, had the lowest Pclass1 passengers and therefore a lower survival ratio.\n",
    "* Southampton had a big part of Pclass3 passengers."
   ]
  },
  {
   "cell_type": "markdown",
   "metadata": {},
   "source": [
    "# Data cleaning and depuration"
   ]
  },
  {
   "cell_type": "markdown",
   "metadata": {},
   "source": [
    "## Non relevant data\n",
    "\n",
    "After a detailed data analysis and correlation searching, we can conclude that the only variable that doesn't help in the survival prediction is the Cabin number. And this is why cabin number is composed by a letter wich is related to the Pclass and Fare and by a number that doesn't help at all.\n",
    "We can drop the entire column from the dataframe to improve our algorithm performance and to prevent noise in the prediction process.\n",
    "\n",
    "PassengerId is another column that we can eliminate. This number is just to identify the observations. "
   ]
  },
  {
   "cell_type": "code",
   "execution_count": 212,
   "metadata": {},
   "outputs": [],
   "source": [
    "#df_train.drop('Cabin', axis = 1, inplace = True)\n",
    "#df_test.drop('Cabin', axis = 1, inplace = True)\n",
    "\n",
    "df_train.drop('PassengerId', axis = 1, inplace = True)\n",
    "df_test.drop('PassengerId', axis = 1, inplace = True)\n",
    "\n",
    "df_train.drop('Ticket', axis = 1, inplace = True)\n",
    "df_test.drop('Ticket', axis = 1, inplace = True)"
   ]
  },
  {
   "cell_type": "markdown",
   "metadata": {},
   "source": [
    "## Categorical Data codification\n",
    "\n",
    "Categorical data is the data that is composed by categories wich can be numbers (1, 2, 3, etc) or strings (A, B, C, etc).\n",
    "To take profit of this kind of data and also to feed our ML algorithm we need to codify this data in a meaningfull form.\n",
    "With sklearn library we have Label Encoder and OneHotEncoder to accomplish the task.\n",
    "\n",
    "In the Titanic DataFrame we have 3 categorical data columns:\n",
    "* Col[1] - Pclass. We have 3 classes. Only 2 column filled with 1 and 0 is enought to represent the passenger class.\n",
    "* Col[3] - Sex. We can split it in to a 2 column with 1 and 0 to identify a male/female passenger. Also beacause redundancy, with 1 column we can identify the passenger gender.\n",
    "* Col[9] - Embarked. 3 different ports can be represented with 2 columns filled with 1 and 0.\n",
    "* Cabin - 9 different values\n",
    "\n",
    "In the case of the Cabin feature we need to apply first a name cleaning to keep only the first letter. Then change each letter for a number wich will be encoded."
   ]
  },
  {
   "cell_type": "code",
   "execution_count": 213,
   "metadata": {},
   "outputs": [
    {
     "data": {
      "text/html": [
       "<div>\n",
       "<style scoped>\n",
       "    .dataframe tbody tr th:only-of-type {\n",
       "        vertical-align: middle;\n",
       "    }\n",
       "\n",
       "    .dataframe tbody tr th {\n",
       "        vertical-align: top;\n",
       "    }\n",
       "\n",
       "    .dataframe thead th {\n",
       "        text-align: right;\n",
       "    }\n",
       "</style>\n",
       "<table border=\"1\" class=\"dataframe\">\n",
       "  <thead>\n",
       "    <tr style=\"text-align: right;\">\n",
       "      <th></th>\n",
       "      <th>Survived</th>\n",
       "      <th>Pclass</th>\n",
       "      <th>Name</th>\n",
       "      <th>Sex</th>\n",
       "      <th>Age</th>\n",
       "      <th>SibSp</th>\n",
       "      <th>Parch</th>\n",
       "      <th>Fare</th>\n",
       "      <th>Cabin</th>\n",
       "      <th>Embarked</th>\n",
       "    </tr>\n",
       "  </thead>\n",
       "  <tbody>\n",
       "    <tr>\n",
       "      <th>0</th>\n",
       "      <td>0</td>\n",
       "      <td>3</td>\n",
       "      <td>Braund, Mr. Owen Harris</td>\n",
       "      <td>male</td>\n",
       "      <td>22.00</td>\n",
       "      <td>1</td>\n",
       "      <td>0</td>\n",
       "      <td>7.2500</td>\n",
       "      <td>NaN</td>\n",
       "      <td>S</td>\n",
       "    </tr>\n",
       "    <tr>\n",
       "      <th>1</th>\n",
       "      <td>1</td>\n",
       "      <td>1</td>\n",
       "      <td>Cumings, Mrs. John Bradley (Florence Briggs Th...</td>\n",
       "      <td>female</td>\n",
       "      <td>38.00</td>\n",
       "      <td>1</td>\n",
       "      <td>0</td>\n",
       "      <td>71.2833</td>\n",
       "      <td>C85</td>\n",
       "      <td>C</td>\n",
       "    </tr>\n",
       "    <tr>\n",
       "      <th>2</th>\n",
       "      <td>1</td>\n",
       "      <td>3</td>\n",
       "      <td>Heikkinen, Miss. Laina</td>\n",
       "      <td>female</td>\n",
       "      <td>26.00</td>\n",
       "      <td>0</td>\n",
       "      <td>0</td>\n",
       "      <td>7.9250</td>\n",
       "      <td>NaN</td>\n",
       "      <td>S</td>\n",
       "    </tr>\n",
       "    <tr>\n",
       "      <th>3</th>\n",
       "      <td>1</td>\n",
       "      <td>1</td>\n",
       "      <td>Futrelle, Mrs. Jacques Heath (Lily May Peel)</td>\n",
       "      <td>female</td>\n",
       "      <td>35.00</td>\n",
       "      <td>1</td>\n",
       "      <td>0</td>\n",
       "      <td>53.1000</td>\n",
       "      <td>C123</td>\n",
       "      <td>S</td>\n",
       "    </tr>\n",
       "    <tr>\n",
       "      <th>4</th>\n",
       "      <td>0</td>\n",
       "      <td>3</td>\n",
       "      <td>Allen, Mr. William Henry</td>\n",
       "      <td>male</td>\n",
       "      <td>35.00</td>\n",
       "      <td>0</td>\n",
       "      <td>0</td>\n",
       "      <td>8.0500</td>\n",
       "      <td>NaN</td>\n",
       "      <td>S</td>\n",
       "    </tr>\n",
       "    <tr>\n",
       "      <th>...</th>\n",
       "      <td>...</td>\n",
       "      <td>...</td>\n",
       "      <td>...</td>\n",
       "      <td>...</td>\n",
       "      <td>...</td>\n",
       "      <td>...</td>\n",
       "      <td>...</td>\n",
       "      <td>...</td>\n",
       "      <td>...</td>\n",
       "      <td>...</td>\n",
       "    </tr>\n",
       "    <tr>\n",
       "      <th>886</th>\n",
       "      <td>0</td>\n",
       "      <td>2</td>\n",
       "      <td>Montvila, Rev. Juozas</td>\n",
       "      <td>male</td>\n",
       "      <td>27.00</td>\n",
       "      <td>0</td>\n",
       "      <td>0</td>\n",
       "      <td>13.0000</td>\n",
       "      <td>NaN</td>\n",
       "      <td>S</td>\n",
       "    </tr>\n",
       "    <tr>\n",
       "      <th>887</th>\n",
       "      <td>1</td>\n",
       "      <td>1</td>\n",
       "      <td>Graham, Miss. Margaret Edith</td>\n",
       "      <td>female</td>\n",
       "      <td>19.00</td>\n",
       "      <td>0</td>\n",
       "      <td>0</td>\n",
       "      <td>30.0000</td>\n",
       "      <td>B42</td>\n",
       "      <td>S</td>\n",
       "    </tr>\n",
       "    <tr>\n",
       "      <th>888</th>\n",
       "      <td>0</td>\n",
       "      <td>3</td>\n",
       "      <td>Johnston, Miss. Catherine Helen \"Carrie\"</td>\n",
       "      <td>female</td>\n",
       "      <td>21.75</td>\n",
       "      <td>1</td>\n",
       "      <td>2</td>\n",
       "      <td>23.4500</td>\n",
       "      <td>NaN</td>\n",
       "      <td>S</td>\n",
       "    </tr>\n",
       "    <tr>\n",
       "      <th>889</th>\n",
       "      <td>1</td>\n",
       "      <td>1</td>\n",
       "      <td>Behr, Mr. Karl Howell</td>\n",
       "      <td>male</td>\n",
       "      <td>26.00</td>\n",
       "      <td>0</td>\n",
       "      <td>0</td>\n",
       "      <td>30.0000</td>\n",
       "      <td>C148</td>\n",
       "      <td>C</td>\n",
       "    </tr>\n",
       "    <tr>\n",
       "      <th>890</th>\n",
       "      <td>0</td>\n",
       "      <td>3</td>\n",
       "      <td>Dooley, Mr. Patrick</td>\n",
       "      <td>male</td>\n",
       "      <td>32.00</td>\n",
       "      <td>0</td>\n",
       "      <td>0</td>\n",
       "      <td>7.7500</td>\n",
       "      <td>NaN</td>\n",
       "      <td>Q</td>\n",
       "    </tr>\n",
       "  </tbody>\n",
       "</table>\n",
       "<p>891 rows × 10 columns</p>\n",
       "</div>"
      ],
      "text/plain": [
       "     Survived  Pclass                                               Name  \\\n",
       "0           0       3                            Braund, Mr. Owen Harris   \n",
       "1           1       1  Cumings, Mrs. John Bradley (Florence Briggs Th...   \n",
       "2           1       3                             Heikkinen, Miss. Laina   \n",
       "3           1       1       Futrelle, Mrs. Jacques Heath (Lily May Peel)   \n",
       "4           0       3                           Allen, Mr. William Henry   \n",
       "..        ...     ...                                                ...   \n",
       "886         0       2                              Montvila, Rev. Juozas   \n",
       "887         1       1                       Graham, Miss. Margaret Edith   \n",
       "888         0       3           Johnston, Miss. Catherine Helen \"Carrie\"   \n",
       "889         1       1                              Behr, Mr. Karl Howell   \n",
       "890         0       3                                Dooley, Mr. Patrick   \n",
       "\n",
       "        Sex    Age  SibSp  Parch     Fare Cabin Embarked  \n",
       "0      male  22.00      1      0   7.2500   NaN        S  \n",
       "1    female  38.00      1      0  71.2833   C85        C  \n",
       "2    female  26.00      0      0   7.9250   NaN        S  \n",
       "3    female  35.00      1      0  53.1000  C123        S  \n",
       "4      male  35.00      0      0   8.0500   NaN        S  \n",
       "..      ...    ...    ...    ...      ...   ...      ...  \n",
       "886    male  27.00      0      0  13.0000   NaN        S  \n",
       "887  female  19.00      0      0  30.0000   B42        S  \n",
       "888  female  21.75      1      2  23.4500   NaN        S  \n",
       "889    male  26.00      0      0  30.0000  C148        C  \n",
       "890    male  32.00      0      0   7.7500   NaN        Q  \n",
       "\n",
       "[891 rows x 10 columns]"
      ]
     },
     "execution_count": 213,
     "metadata": {},
     "output_type": "execute_result"
    }
   ],
   "source": [
    "df_train"
   ]
  },
  {
   "cell_type": "code",
   "execution_count": 214,
   "metadata": {},
   "outputs": [],
   "source": [
    "df_train.Cabin.fillna('0', inplace = True)\n",
    "df_train.loc[df_train['Cabin'].str.contains(\"A\", na = False), 'Cabin'] = 1\n",
    "df_train.loc[df_train['Cabin'].str.contains(\"B\", na = False), 'Cabin'] = 2\n",
    "df_train.loc[df_train['Cabin'].str.contains(\"C\", na = False), 'Cabin'] = 3\n",
    "df_train.loc[df_train['Cabin'].str.contains(\"D\", na = False), 'Cabin'] = 4\n",
    "df_train.loc[df_train['Cabin'].str.contains(\"E\", na = False), 'Cabin'] = 5\n",
    "df_train.loc[df_train['Cabin'].str.contains(\"F\", na = False), 'Cabin'] = 6\n",
    "df_train.loc[df_train['Cabin'].str.contains(\"G\", na = False), 'Cabin'] = 7\n",
    "df_train.loc[df_train['Cabin'].str.contains(\"T\", na = False), 'Cabin'] = 8\n",
    "\n",
    "df_test.Cabin.fillna('0', inplace = True)\n",
    "df_test.loc[df_test['Cabin'].str.contains(\"A\", na = False), 'Cabin'] = 1\n",
    "df_test.loc[df_test['Cabin'].str.contains(\"B\", na = False), 'Cabin'] = 2\n",
    "df_test.loc[df_test['Cabin'].str.contains(\"C\", na = False), 'Cabin'] = 3\n",
    "df_test.loc[df_test['Cabin'].str.contains(\"D\", na = False), 'Cabin'] = 4\n",
    "df_test.loc[df_test['Cabin'].str.contains(\"E\", na = False), 'Cabin'] = 5\n",
    "df_test.loc[df_test['Cabin'].str.contains(\"F\", na = False), 'Cabin'] = 6\n",
    "df_test.loc[df_test['Cabin'].str.contains(\"G\", na = False), 'Cabin'] = 7\n",
    "df_test.loc[df_test['Cabin'].str.contains(\"T\", na = False), 'Cabin'] = 8"
   ]
  },
  {
   "cell_type": "code",
   "execution_count": 215,
   "metadata": {},
   "outputs": [
    {
     "data": {
      "text/html": [
       "<div>\n",
       "<style scoped>\n",
       "    .dataframe tbody tr th:only-of-type {\n",
       "        vertical-align: middle;\n",
       "    }\n",
       "\n",
       "    .dataframe tbody tr th {\n",
       "        vertical-align: top;\n",
       "    }\n",
       "\n",
       "    .dataframe thead th {\n",
       "        text-align: right;\n",
       "    }\n",
       "</style>\n",
       "<table border=\"1\" class=\"dataframe\">\n",
       "  <thead>\n",
       "    <tr style=\"text-align: right;\">\n",
       "      <th></th>\n",
       "      <th>Survived</th>\n",
       "      <th>Pclass</th>\n",
       "      <th>Name</th>\n",
       "      <th>Sex</th>\n",
       "      <th>Age</th>\n",
       "      <th>SibSp</th>\n",
       "      <th>Parch</th>\n",
       "      <th>Fare</th>\n",
       "      <th>Cabin</th>\n",
       "      <th>Embarked</th>\n",
       "    </tr>\n",
       "  </thead>\n",
       "  <tbody>\n",
       "    <tr>\n",
       "      <th>0</th>\n",
       "      <td>0</td>\n",
       "      <td>3</td>\n",
       "      <td>Braund, Mr. Owen Harris</td>\n",
       "      <td>male</td>\n",
       "      <td>22.00</td>\n",
       "      <td>1</td>\n",
       "      <td>0</td>\n",
       "      <td>7.2500</td>\n",
       "      <td>0</td>\n",
       "      <td>S</td>\n",
       "    </tr>\n",
       "    <tr>\n",
       "      <th>1</th>\n",
       "      <td>1</td>\n",
       "      <td>1</td>\n",
       "      <td>Cumings, Mrs. John Bradley (Florence Briggs Th...</td>\n",
       "      <td>female</td>\n",
       "      <td>38.00</td>\n",
       "      <td>1</td>\n",
       "      <td>0</td>\n",
       "      <td>71.2833</td>\n",
       "      <td>3</td>\n",
       "      <td>C</td>\n",
       "    </tr>\n",
       "    <tr>\n",
       "      <th>2</th>\n",
       "      <td>1</td>\n",
       "      <td>3</td>\n",
       "      <td>Heikkinen, Miss. Laina</td>\n",
       "      <td>female</td>\n",
       "      <td>26.00</td>\n",
       "      <td>0</td>\n",
       "      <td>0</td>\n",
       "      <td>7.9250</td>\n",
       "      <td>0</td>\n",
       "      <td>S</td>\n",
       "    </tr>\n",
       "    <tr>\n",
       "      <th>3</th>\n",
       "      <td>1</td>\n",
       "      <td>1</td>\n",
       "      <td>Futrelle, Mrs. Jacques Heath (Lily May Peel)</td>\n",
       "      <td>female</td>\n",
       "      <td>35.00</td>\n",
       "      <td>1</td>\n",
       "      <td>0</td>\n",
       "      <td>53.1000</td>\n",
       "      <td>3</td>\n",
       "      <td>S</td>\n",
       "    </tr>\n",
       "    <tr>\n",
       "      <th>4</th>\n",
       "      <td>0</td>\n",
       "      <td>3</td>\n",
       "      <td>Allen, Mr. William Henry</td>\n",
       "      <td>male</td>\n",
       "      <td>35.00</td>\n",
       "      <td>0</td>\n",
       "      <td>0</td>\n",
       "      <td>8.0500</td>\n",
       "      <td>0</td>\n",
       "      <td>S</td>\n",
       "    </tr>\n",
       "    <tr>\n",
       "      <th>...</th>\n",
       "      <td>...</td>\n",
       "      <td>...</td>\n",
       "      <td>...</td>\n",
       "      <td>...</td>\n",
       "      <td>...</td>\n",
       "      <td>...</td>\n",
       "      <td>...</td>\n",
       "      <td>...</td>\n",
       "      <td>...</td>\n",
       "      <td>...</td>\n",
       "    </tr>\n",
       "    <tr>\n",
       "      <th>886</th>\n",
       "      <td>0</td>\n",
       "      <td>2</td>\n",
       "      <td>Montvila, Rev. Juozas</td>\n",
       "      <td>male</td>\n",
       "      <td>27.00</td>\n",
       "      <td>0</td>\n",
       "      <td>0</td>\n",
       "      <td>13.0000</td>\n",
       "      <td>0</td>\n",
       "      <td>S</td>\n",
       "    </tr>\n",
       "    <tr>\n",
       "      <th>887</th>\n",
       "      <td>1</td>\n",
       "      <td>1</td>\n",
       "      <td>Graham, Miss. Margaret Edith</td>\n",
       "      <td>female</td>\n",
       "      <td>19.00</td>\n",
       "      <td>0</td>\n",
       "      <td>0</td>\n",
       "      <td>30.0000</td>\n",
       "      <td>2</td>\n",
       "      <td>S</td>\n",
       "    </tr>\n",
       "    <tr>\n",
       "      <th>888</th>\n",
       "      <td>0</td>\n",
       "      <td>3</td>\n",
       "      <td>Johnston, Miss. Catherine Helen \"Carrie\"</td>\n",
       "      <td>female</td>\n",
       "      <td>21.75</td>\n",
       "      <td>1</td>\n",
       "      <td>2</td>\n",
       "      <td>23.4500</td>\n",
       "      <td>0</td>\n",
       "      <td>S</td>\n",
       "    </tr>\n",
       "    <tr>\n",
       "      <th>889</th>\n",
       "      <td>1</td>\n",
       "      <td>1</td>\n",
       "      <td>Behr, Mr. Karl Howell</td>\n",
       "      <td>male</td>\n",
       "      <td>26.00</td>\n",
       "      <td>0</td>\n",
       "      <td>0</td>\n",
       "      <td>30.0000</td>\n",
       "      <td>3</td>\n",
       "      <td>C</td>\n",
       "    </tr>\n",
       "    <tr>\n",
       "      <th>890</th>\n",
       "      <td>0</td>\n",
       "      <td>3</td>\n",
       "      <td>Dooley, Mr. Patrick</td>\n",
       "      <td>male</td>\n",
       "      <td>32.00</td>\n",
       "      <td>0</td>\n",
       "      <td>0</td>\n",
       "      <td>7.7500</td>\n",
       "      <td>0</td>\n",
       "      <td>Q</td>\n",
       "    </tr>\n",
       "  </tbody>\n",
       "</table>\n",
       "<p>891 rows × 10 columns</p>\n",
       "</div>"
      ],
      "text/plain": [
       "     Survived  Pclass                                               Name  \\\n",
       "0           0       3                            Braund, Mr. Owen Harris   \n",
       "1           1       1  Cumings, Mrs. John Bradley (Florence Briggs Th...   \n",
       "2           1       3                             Heikkinen, Miss. Laina   \n",
       "3           1       1       Futrelle, Mrs. Jacques Heath (Lily May Peel)   \n",
       "4           0       3                           Allen, Mr. William Henry   \n",
       "..        ...     ...                                                ...   \n",
       "886         0       2                              Montvila, Rev. Juozas   \n",
       "887         1       1                       Graham, Miss. Margaret Edith   \n",
       "888         0       3           Johnston, Miss. Catherine Helen \"Carrie\"   \n",
       "889         1       1                              Behr, Mr. Karl Howell   \n",
       "890         0       3                                Dooley, Mr. Patrick   \n",
       "\n",
       "        Sex    Age  SibSp  Parch     Fare Cabin Embarked  \n",
       "0      male  22.00      1      0   7.2500     0        S  \n",
       "1    female  38.00      1      0  71.2833     3        C  \n",
       "2    female  26.00      0      0   7.9250     0        S  \n",
       "3    female  35.00      1      0  53.1000     3        S  \n",
       "4      male  35.00      0      0   8.0500     0        S  \n",
       "..      ...    ...    ...    ...      ...   ...      ...  \n",
       "886    male  27.00      0      0  13.0000     0        S  \n",
       "887  female  19.00      0      0  30.0000     2        S  \n",
       "888  female  21.75      1      2  23.4500     0        S  \n",
       "889    male  26.00      0      0  30.0000     3        C  \n",
       "890    male  32.00      0      0   7.7500     0        Q  \n",
       "\n",
       "[891 rows x 10 columns]"
      ]
     },
     "execution_count": 215,
     "metadata": {},
     "output_type": "execute_result"
    }
   ],
   "source": [
    "df_train"
   ]
  },
  {
   "cell_type": "markdown",
   "metadata": {},
   "source": [
    "The following function is designed to encode all the categorical variables."
   ]
  },
  {
   "cell_type": "code",
   "execution_count": 216,
   "metadata": {},
   "outputs": [],
   "source": [
    "def data_encode(dataframe, feature):\n",
    "    dummies = pd.get_dummies(dataframe[feature], prefix = feature)\n",
    "    df = pd.concat([dataframe, dummies], axis = 1)\n",
    "    #df = df.drop([feature], axis = 1)\n",
    "    return(df)\n",
    "to_encode = ['Pclass', 'Sex', 'Embarked', 'Cabin']\n",
    "\n",
    "for feature in to_encode:\n",
    "    df_train = data_encode(df_train, feature)\n",
    "    df_test = data_encode(df_test, feature)\n",
    "    \n",
    "#df_train = df_train.drop(['Pclass_3', 'Sex_male', 'Embarked_S','Cabin_0'], axis = 1)\n",
    "#df_test = df_test.drop(['Pclass_3', 'Sex_male', 'Embarked_S', 'Cabin_0'], axis = 1)"
   ]
  },
  {
   "cell_type": "markdown",
   "metadata": {},
   "source": [
    "All the categorical variables were encoded!"
   ]
  },
  {
   "cell_type": "code",
   "execution_count": 217,
   "metadata": {},
   "outputs": [
    {
     "data": {
      "text/html": [
       "<div>\n",
       "<style scoped>\n",
       "    .dataframe tbody tr th:only-of-type {\n",
       "        vertical-align: middle;\n",
       "    }\n",
       "\n",
       "    .dataframe tbody tr th {\n",
       "        vertical-align: top;\n",
       "    }\n",
       "\n",
       "    .dataframe thead th {\n",
       "        text-align: right;\n",
       "    }\n",
       "</style>\n",
       "<table border=\"1\" class=\"dataframe\">\n",
       "  <thead>\n",
       "    <tr style=\"text-align: right;\">\n",
       "      <th></th>\n",
       "      <th>Survived</th>\n",
       "      <th>Pclass</th>\n",
       "      <th>Name</th>\n",
       "      <th>Sex</th>\n",
       "      <th>Age</th>\n",
       "      <th>SibSp</th>\n",
       "      <th>Parch</th>\n",
       "      <th>Fare</th>\n",
       "      <th>Cabin</th>\n",
       "      <th>Embarked</th>\n",
       "      <th>...</th>\n",
       "      <th>Embarked_S</th>\n",
       "      <th>Cabin_1</th>\n",
       "      <th>Cabin_2</th>\n",
       "      <th>Cabin_3</th>\n",
       "      <th>Cabin_4</th>\n",
       "      <th>Cabin_5</th>\n",
       "      <th>Cabin_6</th>\n",
       "      <th>Cabin_7</th>\n",
       "      <th>Cabin_8</th>\n",
       "      <th>Cabin_0</th>\n",
       "    </tr>\n",
       "  </thead>\n",
       "  <tbody>\n",
       "    <tr>\n",
       "      <th>0</th>\n",
       "      <td>0</td>\n",
       "      <td>3</td>\n",
       "      <td>Braund, Mr. Owen Harris</td>\n",
       "      <td>male</td>\n",
       "      <td>22.00</td>\n",
       "      <td>1</td>\n",
       "      <td>0</td>\n",
       "      <td>7.2500</td>\n",
       "      <td>0</td>\n",
       "      <td>S</td>\n",
       "      <td>...</td>\n",
       "      <td>1</td>\n",
       "      <td>0</td>\n",
       "      <td>0</td>\n",
       "      <td>0</td>\n",
       "      <td>0</td>\n",
       "      <td>0</td>\n",
       "      <td>0</td>\n",
       "      <td>0</td>\n",
       "      <td>0</td>\n",
       "      <td>1</td>\n",
       "    </tr>\n",
       "    <tr>\n",
       "      <th>1</th>\n",
       "      <td>1</td>\n",
       "      <td>1</td>\n",
       "      <td>Cumings, Mrs. John Bradley (Florence Briggs Th...</td>\n",
       "      <td>female</td>\n",
       "      <td>38.00</td>\n",
       "      <td>1</td>\n",
       "      <td>0</td>\n",
       "      <td>71.2833</td>\n",
       "      <td>3</td>\n",
       "      <td>C</td>\n",
       "      <td>...</td>\n",
       "      <td>0</td>\n",
       "      <td>0</td>\n",
       "      <td>0</td>\n",
       "      <td>1</td>\n",
       "      <td>0</td>\n",
       "      <td>0</td>\n",
       "      <td>0</td>\n",
       "      <td>0</td>\n",
       "      <td>0</td>\n",
       "      <td>0</td>\n",
       "    </tr>\n",
       "    <tr>\n",
       "      <th>2</th>\n",
       "      <td>1</td>\n",
       "      <td>3</td>\n",
       "      <td>Heikkinen, Miss. Laina</td>\n",
       "      <td>female</td>\n",
       "      <td>26.00</td>\n",
       "      <td>0</td>\n",
       "      <td>0</td>\n",
       "      <td>7.9250</td>\n",
       "      <td>0</td>\n",
       "      <td>S</td>\n",
       "      <td>...</td>\n",
       "      <td>1</td>\n",
       "      <td>0</td>\n",
       "      <td>0</td>\n",
       "      <td>0</td>\n",
       "      <td>0</td>\n",
       "      <td>0</td>\n",
       "      <td>0</td>\n",
       "      <td>0</td>\n",
       "      <td>0</td>\n",
       "      <td>1</td>\n",
       "    </tr>\n",
       "    <tr>\n",
       "      <th>3</th>\n",
       "      <td>1</td>\n",
       "      <td>1</td>\n",
       "      <td>Futrelle, Mrs. Jacques Heath (Lily May Peel)</td>\n",
       "      <td>female</td>\n",
       "      <td>35.00</td>\n",
       "      <td>1</td>\n",
       "      <td>0</td>\n",
       "      <td>53.1000</td>\n",
       "      <td>3</td>\n",
       "      <td>S</td>\n",
       "      <td>...</td>\n",
       "      <td>1</td>\n",
       "      <td>0</td>\n",
       "      <td>0</td>\n",
       "      <td>1</td>\n",
       "      <td>0</td>\n",
       "      <td>0</td>\n",
       "      <td>0</td>\n",
       "      <td>0</td>\n",
       "      <td>0</td>\n",
       "      <td>0</td>\n",
       "    </tr>\n",
       "    <tr>\n",
       "      <th>4</th>\n",
       "      <td>0</td>\n",
       "      <td>3</td>\n",
       "      <td>Allen, Mr. William Henry</td>\n",
       "      <td>male</td>\n",
       "      <td>35.00</td>\n",
       "      <td>0</td>\n",
       "      <td>0</td>\n",
       "      <td>8.0500</td>\n",
       "      <td>0</td>\n",
       "      <td>S</td>\n",
       "      <td>...</td>\n",
       "      <td>1</td>\n",
       "      <td>0</td>\n",
       "      <td>0</td>\n",
       "      <td>0</td>\n",
       "      <td>0</td>\n",
       "      <td>0</td>\n",
       "      <td>0</td>\n",
       "      <td>0</td>\n",
       "      <td>0</td>\n",
       "      <td>1</td>\n",
       "    </tr>\n",
       "    <tr>\n",
       "      <th>...</th>\n",
       "      <td>...</td>\n",
       "      <td>...</td>\n",
       "      <td>...</td>\n",
       "      <td>...</td>\n",
       "      <td>...</td>\n",
       "      <td>...</td>\n",
       "      <td>...</td>\n",
       "      <td>...</td>\n",
       "      <td>...</td>\n",
       "      <td>...</td>\n",
       "      <td>...</td>\n",
       "      <td>...</td>\n",
       "      <td>...</td>\n",
       "      <td>...</td>\n",
       "      <td>...</td>\n",
       "      <td>...</td>\n",
       "      <td>...</td>\n",
       "      <td>...</td>\n",
       "      <td>...</td>\n",
       "      <td>...</td>\n",
       "      <td>...</td>\n",
       "    </tr>\n",
       "    <tr>\n",
       "      <th>886</th>\n",
       "      <td>0</td>\n",
       "      <td>2</td>\n",
       "      <td>Montvila, Rev. Juozas</td>\n",
       "      <td>male</td>\n",
       "      <td>27.00</td>\n",
       "      <td>0</td>\n",
       "      <td>0</td>\n",
       "      <td>13.0000</td>\n",
       "      <td>0</td>\n",
       "      <td>S</td>\n",
       "      <td>...</td>\n",
       "      <td>1</td>\n",
       "      <td>0</td>\n",
       "      <td>0</td>\n",
       "      <td>0</td>\n",
       "      <td>0</td>\n",
       "      <td>0</td>\n",
       "      <td>0</td>\n",
       "      <td>0</td>\n",
       "      <td>0</td>\n",
       "      <td>1</td>\n",
       "    </tr>\n",
       "    <tr>\n",
       "      <th>887</th>\n",
       "      <td>1</td>\n",
       "      <td>1</td>\n",
       "      <td>Graham, Miss. Margaret Edith</td>\n",
       "      <td>female</td>\n",
       "      <td>19.00</td>\n",
       "      <td>0</td>\n",
       "      <td>0</td>\n",
       "      <td>30.0000</td>\n",
       "      <td>2</td>\n",
       "      <td>S</td>\n",
       "      <td>...</td>\n",
       "      <td>1</td>\n",
       "      <td>0</td>\n",
       "      <td>1</td>\n",
       "      <td>0</td>\n",
       "      <td>0</td>\n",
       "      <td>0</td>\n",
       "      <td>0</td>\n",
       "      <td>0</td>\n",
       "      <td>0</td>\n",
       "      <td>0</td>\n",
       "    </tr>\n",
       "    <tr>\n",
       "      <th>888</th>\n",
       "      <td>0</td>\n",
       "      <td>3</td>\n",
       "      <td>Johnston, Miss. Catherine Helen \"Carrie\"</td>\n",
       "      <td>female</td>\n",
       "      <td>21.75</td>\n",
       "      <td>1</td>\n",
       "      <td>2</td>\n",
       "      <td>23.4500</td>\n",
       "      <td>0</td>\n",
       "      <td>S</td>\n",
       "      <td>...</td>\n",
       "      <td>1</td>\n",
       "      <td>0</td>\n",
       "      <td>0</td>\n",
       "      <td>0</td>\n",
       "      <td>0</td>\n",
       "      <td>0</td>\n",
       "      <td>0</td>\n",
       "      <td>0</td>\n",
       "      <td>0</td>\n",
       "      <td>1</td>\n",
       "    </tr>\n",
       "    <tr>\n",
       "      <th>889</th>\n",
       "      <td>1</td>\n",
       "      <td>1</td>\n",
       "      <td>Behr, Mr. Karl Howell</td>\n",
       "      <td>male</td>\n",
       "      <td>26.00</td>\n",
       "      <td>0</td>\n",
       "      <td>0</td>\n",
       "      <td>30.0000</td>\n",
       "      <td>3</td>\n",
       "      <td>C</td>\n",
       "      <td>...</td>\n",
       "      <td>0</td>\n",
       "      <td>0</td>\n",
       "      <td>0</td>\n",
       "      <td>1</td>\n",
       "      <td>0</td>\n",
       "      <td>0</td>\n",
       "      <td>0</td>\n",
       "      <td>0</td>\n",
       "      <td>0</td>\n",
       "      <td>0</td>\n",
       "    </tr>\n",
       "    <tr>\n",
       "      <th>890</th>\n",
       "      <td>0</td>\n",
       "      <td>3</td>\n",
       "      <td>Dooley, Mr. Patrick</td>\n",
       "      <td>male</td>\n",
       "      <td>32.00</td>\n",
       "      <td>0</td>\n",
       "      <td>0</td>\n",
       "      <td>7.7500</td>\n",
       "      <td>0</td>\n",
       "      <td>Q</td>\n",
       "      <td>...</td>\n",
       "      <td>0</td>\n",
       "      <td>0</td>\n",
       "      <td>0</td>\n",
       "      <td>0</td>\n",
       "      <td>0</td>\n",
       "      <td>0</td>\n",
       "      <td>0</td>\n",
       "      <td>0</td>\n",
       "      <td>0</td>\n",
       "      <td>1</td>\n",
       "    </tr>\n",
       "  </tbody>\n",
       "</table>\n",
       "<p>891 rows × 27 columns</p>\n",
       "</div>"
      ],
      "text/plain": [
       "     Survived  Pclass                                               Name  \\\n",
       "0           0       3                            Braund, Mr. Owen Harris   \n",
       "1           1       1  Cumings, Mrs. John Bradley (Florence Briggs Th...   \n",
       "2           1       3                             Heikkinen, Miss. Laina   \n",
       "3           1       1       Futrelle, Mrs. Jacques Heath (Lily May Peel)   \n",
       "4           0       3                           Allen, Mr. William Henry   \n",
       "..        ...     ...                                                ...   \n",
       "886         0       2                              Montvila, Rev. Juozas   \n",
       "887         1       1                       Graham, Miss. Margaret Edith   \n",
       "888         0       3           Johnston, Miss. Catherine Helen \"Carrie\"   \n",
       "889         1       1                              Behr, Mr. Karl Howell   \n",
       "890         0       3                                Dooley, Mr. Patrick   \n",
       "\n",
       "        Sex    Age  SibSp  Parch     Fare Cabin Embarked  ...  Embarked_S  \\\n",
       "0      male  22.00      1      0   7.2500     0        S  ...           1   \n",
       "1    female  38.00      1      0  71.2833     3        C  ...           0   \n",
       "2    female  26.00      0      0   7.9250     0        S  ...           1   \n",
       "3    female  35.00      1      0  53.1000     3        S  ...           1   \n",
       "4      male  35.00      0      0   8.0500     0        S  ...           1   \n",
       "..      ...    ...    ...    ...      ...   ...      ...  ...         ...   \n",
       "886    male  27.00      0      0  13.0000     0        S  ...           1   \n",
       "887  female  19.00      0      0  30.0000     2        S  ...           1   \n",
       "888  female  21.75      1      2  23.4500     0        S  ...           1   \n",
       "889    male  26.00      0      0  30.0000     3        C  ...           0   \n",
       "890    male  32.00      0      0   7.7500     0        Q  ...           0   \n",
       "\n",
       "     Cabin_1  Cabin_2  Cabin_3  Cabin_4  Cabin_5  Cabin_6  Cabin_7  Cabin_8  \\\n",
       "0          0        0        0        0        0        0        0        0   \n",
       "1          0        0        1        0        0        0        0        0   \n",
       "2          0        0        0        0        0        0        0        0   \n",
       "3          0        0        1        0        0        0        0        0   \n",
       "4          0        0        0        0        0        0        0        0   \n",
       "..       ...      ...      ...      ...      ...      ...      ...      ...   \n",
       "886        0        0        0        0        0        0        0        0   \n",
       "887        0        1        0        0        0        0        0        0   \n",
       "888        0        0        0        0        0        0        0        0   \n",
       "889        0        0        1        0        0        0        0        0   \n",
       "890        0        0        0        0        0        0        0        0   \n",
       "\n",
       "     Cabin_0  \n",
       "0          1  \n",
       "1          0  \n",
       "2          1  \n",
       "3          0  \n",
       "4          1  \n",
       "..       ...  \n",
       "886        1  \n",
       "887        0  \n",
       "888        1  \n",
       "889        0  \n",
       "890        1  \n",
       "\n",
       "[891 rows x 27 columns]"
      ]
     },
     "execution_count": 217,
     "metadata": {},
     "output_type": "execute_result"
    }
   ],
   "source": [
    "df_train"
   ]
  },
  {
   "cell_type": "code",
   "execution_count": 218,
   "metadata": {},
   "outputs": [],
   "source": [
    "df_test['Cabin_8'] = 0"
   ]
  },
  {
   "cell_type": "markdown",
   "metadata": {},
   "source": [
    "## Feature Engineering\n",
    "\n",
    "Now is time to transform the dataframe into a more usefull one. The following transformations are needed:\n",
    "* Family members combine. Adding sibling/spouses and parent/children in just 1 category and then divide it in to a different categories.\n",
    "* Add 1 to the family number to count the evaluated passenger\n",
    "* Passenger name cleaning to create a categorical feature.\n",
    "* New age-dependent categories"
   ]
  },
  {
   "cell_type": "markdown",
   "metadata": {},
   "source": [
    "### FAMILY\n",
    "\n"
   ]
  },
  {
   "cell_type": "code",
   "execution_count": 219,
   "metadata": {},
   "outputs": [],
   "source": [
    "df_train['Family'] = df_train['SibSp'] + df_train['Parch'] + 1\n",
    "df_test['Family'] = df_train['SibSp'] + df_train['Parch'] + 1\n",
    "\n",
    "#df_train.drop(['SibSp', 'Parch'], axis = 1, inplace = True)\n",
    "#df_test.drop(['SibSp', 'Parch'], axis = 1, inplace = True)"
   ]
  },
  {
   "cell_type": "markdown",
   "metadata": {},
   "source": [
    "After add both family features and convert it. We can make a quick data analysis to understand the results."
   ]
  },
  {
   "cell_type": "code",
   "execution_count": 220,
   "metadata": {},
   "outputs": [
    {
     "data": {
      "image/png": "[encoded data removed]",
      "text/plain": [
       "<Figure size 360x360 with 1 Axes>"
      ]
     },
     "metadata": {
      "needs_background": "light"
     },
     "output_type": "display_data"
    }
   ],
   "source": [
    "sns.catplot(x = 'Family', y = 'Survived', kind = 'point', data = df_train)\n",
    "plt.title('Passenger Family members survival density')\n",
    "plt.show()"
   ]
  },
  {
   "cell_type": "markdown",
   "metadata": {},
   "source": [
    "* For 1< Family < 3 the survival chance is the highest.\n",
    "* For 4< Family < 6 the survival chance is lower\n",
    "* For Family > 6 the survival chance is the lowest\n",
    "* For Family = 0 the survival chance is lower.\n",
    "\n",
    "Lets create the following categories:\n",
    "* Single       -->       passengers == 1\n",
    "* SmallFamily  -->  2 <= passengers <= 4\n",
    "* MediumFamily -->  5 <= passengers <= 7\n",
    "* LargeFamily  -->  8 <= passengers"
   ]
  },
  {
   "cell_type": "code",
   "execution_count": 221,
   "metadata": {},
   "outputs": [],
   "source": [
    "df_train['Single'] = df_train['Family'].map(lambda s: 1 if s == 1 else 0)\n",
    "df_train['SmallFamily'] = df_train['Family'].map(lambda s: 1 if (2 <= s <= 4) else 0)\n",
    "df_train['MediumFamily'] = df_train['Family'].map(lambda s : 1 if (5 <= s <= 7) else 0)\n",
    "df_train['LargeFamily'] = df_train['Family'].map(lambda s:1  if 7 < s else 0)\n",
    "\n",
    "df_test['Single'] = df_test['Family'].map(lambda s: 1 if s == 1 else 0)\n",
    "df_test['SmallFamily'] = df_test['Family'].map(lambda s: 1 if (2 <= s <= 4) else 0)\n",
    "df_test['MediumFamily'] = df_test['Family'].map(lambda s : 1 if (5 <= s <= 7) else 0)\n",
    "df_test['LargeFamily'] = df_test['Family'].map(lambda s:1  if 7 < s else 0)"
   ]
  },
  {
   "cell_type": "code",
   "execution_count": 222,
   "metadata": {},
   "outputs": [],
   "source": [
    "single_surv = df_train[(df_train.Survived == 1) & (df_train.Single == 1)].Survived.count() / (df_train[df_train.Single == 1]).Single.count()\n",
    "\n",
    "smallF_surv = df_train[(df_train.Survived == 1) & (df_train.SmallFamily == 1)].Survived.count() / (df_train[df_train.SmallFamily == 1]).SmallFamily.count()\n",
    "\n",
    "mediumF_surv = df_train[(df_train.Survived == 1) & (df_train.MediumFamily == 1)].Survived.count() / (df_train[df_train.MediumFamily == 1]).MediumFamily.count()\n",
    "\n",
    "largeF_surv = df_train[(df_train.Survived == 1) & (df_train.LargeFamily == 1)].Survived.count() / (df_train[df_train.LargeFamily == 1]).LargeFamily.count()"
   ]
  },
  {
   "cell_type": "code",
   "execution_count": 223,
   "metadata": {},
   "outputs": [
    {
     "data": {
      "text/plain": [
       "Text(0, 0.5, 'Survival Rate')"
      ]
     },
     "execution_count": 223,
     "metadata": {},
     "output_type": "execute_result"
    },
    {
     "data": {
      "image/png": "[encoded data removed]",
      "text/plain": [
       "<Figure size 432x288 with 1 Axes>"
      ]
     },
     "metadata": {
      "needs_background": "light"
     },
     "output_type": "display_data"
    }
   ],
   "source": [
    "x = ['Single', 'Small', 'Medium', 'Large']\n",
    "y = [single_surv, smallF_surv, mediumF_surv, largeF_surv]\n",
    "\n",
    "plt.plot(x,y, 'r-')\n",
    "plt.title('Family size vs survival chance')\n",
    "plt.xlabel('Family Size')\n",
    "plt.ylabel('Survival Rate')"
   ]
  },
  {
   "cell_type": "markdown",
   "metadata": {},
   "source": [
    "The graph represent the Survival rate of our new family categories.\n",
    "\n",
    "Now we can drop the family count feature due is no more necesary for the study. And also drop one of the family sizes to prevent data rendundancy"
   ]
  },
  {
   "cell_type": "code",
   "execution_count": 224,
   "metadata": {},
   "outputs": [],
   "source": [
    "#df_train.drop(['LargeFamily'], axis = 1, inplace = True)\n",
    "#df_test.drop(['LargeFamily'], axis = 1, inplace = True)"
   ]
  },
  {
   "cell_type": "code",
   "execution_count": 225,
   "metadata": {},
   "outputs": [],
   "source": [
    "#df_train.drop(['Family'], axis = 1, inplace = True)\n",
    "#df_test.drop(['Family'], axis = 1, inplace = True)"
   ]
  },
  {
   "cell_type": "markdown",
   "metadata": {},
   "source": [
    "### Name cleaning and transformation\n",
    "\n",
    "The idea is first to clean the name column, leaving just 1 column with the title value.\n",
    "Then analize the data to make some further transformation."
   ]
  },
  {
   "cell_type": "code",
   "execution_count": 226,
   "metadata": {},
   "outputs": [],
   "source": [
    "df_train['Surname'] = df_train['Name'].str.split(',').str[0]\n",
    "df_train['Title'] = df_train['Name'].str.split(',').str[1].str.split('.').str[0]\n",
    "\n",
    "df_test['Title'] = df_test['Name'].str.split(',').str[1].str.split('.').str[0]"
   ]
  },
  {
   "cell_type": "code",
   "execution_count": 227,
   "metadata": {},
   "outputs": [],
   "source": [
    "df_train.drop(['Name', 'Surname'], axis = 1, inplace = True )\n",
    "df_test.drop(['Name'], axis = 1, inplace = True)"
   ]
  },
  {
   "cell_type": "code",
   "execution_count": 228,
   "metadata": {},
   "outputs": [
    {
     "data": {
      "text/plain": [
       "<AxesSubplot:>"
      ]
     },
     "execution_count": 228,
     "metadata": {},
     "output_type": "execute_result"
    },
    {
     "data": {
      "image/png": "[encoded data removed]",
      "text/plain": [
       "<Figure size 432x288 with 1 Axes>"
      ]
     },
     "metadata": {
      "needs_background": "light"
     },
     "output_type": "display_data"
    }
   ],
   "source": [
    "df_train['Title'].value_counts().plot(kind='bar')"
   ]
  },
  {
   "cell_type": "markdown",
   "metadata": {},
   "source": [
    "We have a lot of titles in the dataframe. We can create new categories mapping the names in the following classes:\n",
    "* Capt --> Officer\n",
    "* Col --> Officer\n",
    "* Major --> Officer\n",
    "* Dr --> Officer\n",
    "* Rev --> Officer\n",
    "\n",
    "* Jonkheer --> Royalty\n",
    "* Don --> Royalty\n",
    "* Sir --> Royalty\n",
    "* the Countess --> Royalty\n",
    "* Lady --> Royalty\n",
    "\n",
    "* Mme --> Mrs\n",
    "* Mrs --> Mrs\n",
    "* Ms --> Mrs\n",
    "\n",
    "* Mlle --> Miss\n",
    "* Miss --> Miss\n",
    "\n",
    "* Mr --> Mr\n",
    "* Master --> Master"
   ]
  },
  {
   "cell_type": "code",
   "execution_count": 229,
   "metadata": {},
   "outputs": [],
   "source": [
    "df_train['Title'] = (df_train['Title'].astype('|S'))   #Convert the dtype=object to byte (almost string)\n",
    "df_test['Title'] = df_test['Title'].astype('|S')"
   ]
  },
  {
   "cell_type": "code",
   "execution_count": 230,
   "metadata": {},
   "outputs": [],
   "source": [
    "df_train['Officer'] = df_train['Title'].map(lambda s: 1 if s == b' Capt' or\n",
    "                                            s == b' Col' or\n",
    "                                            s == b' Major' or\n",
    "                                            s == b' Dr' or\n",
    "                                            s == b' Rev' else 0)\n",
    "\n",
    "df_train['Royalty'] = df_train['Title'].map(lambda s: 1 if s == b' Jonkheer' or\n",
    "                                            s == b' Don' or\n",
    "                                            s == b' Sir' or\n",
    "                                            s == b' the Countess' or\n",
    "                                            s == b' Lady' else 0)\n",
    "\n",
    "df_train['Mrs'] = df_train['Title'].map(lambda s: 1 if s == b' Mrs' or\n",
    "                                            s == b' Mme' or\n",
    "                                            s == b' Ms' else 0)\n",
    "\n",
    "df_train['Miss'] = df_train['Title'].map(lambda s: 1 if s == b' Mlle' or\n",
    "                                            s == b' Miss'else 0)\n",
    "\n",
    "df_train['Mr'] = df_train['Title'].map(lambda s: 1 if s == b' Mr' else 0)\n",
    "\n",
    "df_train['Master'] = df_train['Title'].map(lambda s: 1 if s == b' Master' else 0)"
   ]
  },
  {
   "cell_type": "code",
   "execution_count": 231,
   "metadata": {},
   "outputs": [],
   "source": [
    "df_test['Officer'] = df_test['Title'].map(lambda s: 1 if s == b' Capt' or\n",
    "                                            s == b' Col' or\n",
    "                                            s == b' Major' or\n",
    "                                            s == b' Dr' or\n",
    "                                            s == b' Rev' else 0)\n",
    "\n",
    "df_test['Royalty'] = df_test['Title'].map(lambda s: 1 if s == b' Jonkheer' or\n",
    "                                            s == b' Don' or\n",
    "                                            s == b' Sir' or\n",
    "                                            s == b' the Countess' or\n",
    "                                            s == b' Lady' else 0)\n",
    "\n",
    "df_test['Mrs'] = df_test['Title'].map(lambda s: 1 if s == b' Mrs' or\n",
    "                                            s == b' Mme' or\n",
    "                                            s == b' Ms' else 0)\n",
    "\n",
    "df_test['Miss'] = df_test['Title'].map(lambda s: 1 if s == b' Mlle' or\n",
    "                                            s == b' Miss'else 0)\n",
    "\n",
    "df_test['Mr'] = df_test['Title'].map(lambda s: 1 if (s == b' Mr') else 0)\n",
    "\n",
    "df_test['Master'] = df_test['Title'].map(lambda s: 1 if s == b' Master' else 0)\n"
   ]
  },
  {
   "cell_type": "markdown",
   "metadata": {},
   "source": [
    "Now with a clean dataframe is time to analize the influence of the title in the survival rate.\n",
    "First plotting a frequency vs title and then a survival density vs title."
   ]
  },
  {
   "cell_type": "markdown",
   "metadata": {},
   "source": [
    "From the second graph we can conclude:\n",
    "* Mr (male gender) had the lowest survival rate\n",
    "* Mrs (female) is the Title with highest survival rate\n",
    "* Miss (female) is very similar to Mrs.\n",
    "* Master (male) is the 3rd higher survival rate title.\n",
    "* Rare Titles are in the 4/5 higher survival rate title.\n",
    "\n",
    "Let's see the dataframe again.."
   ]
  },
  {
   "cell_type": "code",
   "execution_count": 232,
   "metadata": {},
   "outputs": [
    {
     "data": {
      "text/html": [
       "<div>\n",
       "<style scoped>\n",
       "    .dataframe tbody tr th:only-of-type {\n",
       "        vertical-align: middle;\n",
       "    }\n",
       "\n",
       "    .dataframe tbody tr th {\n",
       "        vertical-align: top;\n",
       "    }\n",
       "\n",
       "    .dataframe thead th {\n",
       "        text-align: right;\n",
       "    }\n",
       "</style>\n",
       "<table border=\"1\" class=\"dataframe\">\n",
       "  <thead>\n",
       "    <tr style=\"text-align: right;\">\n",
       "      <th></th>\n",
       "      <th>Survived</th>\n",
       "      <th>Pclass</th>\n",
       "      <th>Sex</th>\n",
       "      <th>Age</th>\n",
       "      <th>SibSp</th>\n",
       "      <th>Parch</th>\n",
       "      <th>Fare</th>\n",
       "      <th>Cabin</th>\n",
       "      <th>Embarked</th>\n",
       "      <th>Pclass_1</th>\n",
       "      <th>...</th>\n",
       "      <th>SmallFamily</th>\n",
       "      <th>MediumFamily</th>\n",
       "      <th>LargeFamily</th>\n",
       "      <th>Title</th>\n",
       "      <th>Officer</th>\n",
       "      <th>Royalty</th>\n",
       "      <th>Mrs</th>\n",
       "      <th>Miss</th>\n",
       "      <th>Mr</th>\n",
       "      <th>Master</th>\n",
       "    </tr>\n",
       "  </thead>\n",
       "  <tbody>\n",
       "    <tr>\n",
       "      <th>0</th>\n",
       "      <td>0</td>\n",
       "      <td>3</td>\n",
       "      <td>male</td>\n",
       "      <td>22.00</td>\n",
       "      <td>1</td>\n",
       "      <td>0</td>\n",
       "      <td>7.2500</td>\n",
       "      <td>0</td>\n",
       "      <td>S</td>\n",
       "      <td>0</td>\n",
       "      <td>...</td>\n",
       "      <td>1</td>\n",
       "      <td>0</td>\n",
       "      <td>0</td>\n",
       "      <td>b' Mr'</td>\n",
       "      <td>0</td>\n",
       "      <td>0</td>\n",
       "      <td>0</td>\n",
       "      <td>0</td>\n",
       "      <td>1</td>\n",
       "      <td>0</td>\n",
       "    </tr>\n",
       "    <tr>\n",
       "      <th>1</th>\n",
       "      <td>1</td>\n",
       "      <td>1</td>\n",
       "      <td>female</td>\n",
       "      <td>38.00</td>\n",
       "      <td>1</td>\n",
       "      <td>0</td>\n",
       "      <td>71.2833</td>\n",
       "      <td>3</td>\n",
       "      <td>C</td>\n",
       "      <td>1</td>\n",
       "      <td>...</td>\n",
       "      <td>1</td>\n",
       "      <td>0</td>\n",
       "      <td>0</td>\n",
       "      <td>b' Mrs'</td>\n",
       "      <td>0</td>\n",
       "      <td>0</td>\n",
       "      <td>1</td>\n",
       "      <td>0</td>\n",
       "      <td>0</td>\n",
       "      <td>0</td>\n",
       "    </tr>\n",
       "    <tr>\n",
       "      <th>2</th>\n",
       "      <td>1</td>\n",
       "      <td>3</td>\n",
       "      <td>female</td>\n",
       "      <td>26.00</td>\n",
       "      <td>0</td>\n",
       "      <td>0</td>\n",
       "      <td>7.9250</td>\n",
       "      <td>0</td>\n",
       "      <td>S</td>\n",
       "      <td>0</td>\n",
       "      <td>...</td>\n",
       "      <td>0</td>\n",
       "      <td>0</td>\n",
       "      <td>0</td>\n",
       "      <td>b' Miss'</td>\n",
       "      <td>0</td>\n",
       "      <td>0</td>\n",
       "      <td>0</td>\n",
       "      <td>1</td>\n",
       "      <td>0</td>\n",
       "      <td>0</td>\n",
       "    </tr>\n",
       "    <tr>\n",
       "      <th>3</th>\n",
       "      <td>1</td>\n",
       "      <td>1</td>\n",
       "      <td>female</td>\n",
       "      <td>35.00</td>\n",
       "      <td>1</td>\n",
       "      <td>0</td>\n",
       "      <td>53.1000</td>\n",
       "      <td>3</td>\n",
       "      <td>S</td>\n",
       "      <td>1</td>\n",
       "      <td>...</td>\n",
       "      <td>1</td>\n",
       "      <td>0</td>\n",
       "      <td>0</td>\n",
       "      <td>b' Mrs'</td>\n",
       "      <td>0</td>\n",
       "      <td>0</td>\n",
       "      <td>1</td>\n",
       "      <td>0</td>\n",
       "      <td>0</td>\n",
       "      <td>0</td>\n",
       "    </tr>\n",
       "    <tr>\n",
       "      <th>4</th>\n",
       "      <td>0</td>\n",
       "      <td>3</td>\n",
       "      <td>male</td>\n",
       "      <td>35.00</td>\n",
       "      <td>0</td>\n",
       "      <td>0</td>\n",
       "      <td>8.0500</td>\n",
       "      <td>0</td>\n",
       "      <td>S</td>\n",
       "      <td>0</td>\n",
       "      <td>...</td>\n",
       "      <td>0</td>\n",
       "      <td>0</td>\n",
       "      <td>0</td>\n",
       "      <td>b' Mr'</td>\n",
       "      <td>0</td>\n",
       "      <td>0</td>\n",
       "      <td>0</td>\n",
       "      <td>0</td>\n",
       "      <td>1</td>\n",
       "      <td>0</td>\n",
       "    </tr>\n",
       "    <tr>\n",
       "      <th>...</th>\n",
       "      <td>...</td>\n",
       "      <td>...</td>\n",
       "      <td>...</td>\n",
       "      <td>...</td>\n",
       "      <td>...</td>\n",
       "      <td>...</td>\n",
       "      <td>...</td>\n",
       "      <td>...</td>\n",
       "      <td>...</td>\n",
       "      <td>...</td>\n",
       "      <td>...</td>\n",
       "      <td>...</td>\n",
       "      <td>...</td>\n",
       "      <td>...</td>\n",
       "      <td>...</td>\n",
       "      <td>...</td>\n",
       "      <td>...</td>\n",
       "      <td>...</td>\n",
       "      <td>...</td>\n",
       "      <td>...</td>\n",
       "      <td>...</td>\n",
       "    </tr>\n",
       "    <tr>\n",
       "      <th>886</th>\n",
       "      <td>0</td>\n",
       "      <td>2</td>\n",
       "      <td>male</td>\n",
       "      <td>27.00</td>\n",
       "      <td>0</td>\n",
       "      <td>0</td>\n",
       "      <td>13.0000</td>\n",
       "      <td>0</td>\n",
       "      <td>S</td>\n",
       "      <td>0</td>\n",
       "      <td>...</td>\n",
       "      <td>0</td>\n",
       "      <td>0</td>\n",
       "      <td>0</td>\n",
       "      <td>b' Rev'</td>\n",
       "      <td>1</td>\n",
       "      <td>0</td>\n",
       "      <td>0</td>\n",
       "      <td>0</td>\n",
       "      <td>0</td>\n",
       "      <td>0</td>\n",
       "    </tr>\n",
       "    <tr>\n",
       "      <th>887</th>\n",
       "      <td>1</td>\n",
       "      <td>1</td>\n",
       "      <td>female</td>\n",
       "      <td>19.00</td>\n",
       "      <td>0</td>\n",
       "      <td>0</td>\n",
       "      <td>30.0000</td>\n",
       "      <td>2</td>\n",
       "      <td>S</td>\n",
       "      <td>1</td>\n",
       "      <td>...</td>\n",
       "      <td>0</td>\n",
       "      <td>0</td>\n",
       "      <td>0</td>\n",
       "      <td>b' Miss'</td>\n",
       "      <td>0</td>\n",
       "      <td>0</td>\n",
       "      <td>0</td>\n",
       "      <td>1</td>\n",
       "      <td>0</td>\n",
       "      <td>0</td>\n",
       "    </tr>\n",
       "    <tr>\n",
       "      <th>888</th>\n",
       "      <td>0</td>\n",
       "      <td>3</td>\n",
       "      <td>female</td>\n",
       "      <td>21.75</td>\n",
       "      <td>1</td>\n",
       "      <td>2</td>\n",
       "      <td>23.4500</td>\n",
       "      <td>0</td>\n",
       "      <td>S</td>\n",
       "      <td>0</td>\n",
       "      <td>...</td>\n",
       "      <td>1</td>\n",
       "      <td>0</td>\n",
       "      <td>0</td>\n",
       "      <td>b' Miss'</td>\n",
       "      <td>0</td>\n",
       "      <td>0</td>\n",
       "      <td>0</td>\n",
       "      <td>1</td>\n",
       "      <td>0</td>\n",
       "      <td>0</td>\n",
       "    </tr>\n",
       "    <tr>\n",
       "      <th>889</th>\n",
       "      <td>1</td>\n",
       "      <td>1</td>\n",
       "      <td>male</td>\n",
       "      <td>26.00</td>\n",
       "      <td>0</td>\n",
       "      <td>0</td>\n",
       "      <td>30.0000</td>\n",
       "      <td>3</td>\n",
       "      <td>C</td>\n",
       "      <td>1</td>\n",
       "      <td>...</td>\n",
       "      <td>0</td>\n",
       "      <td>0</td>\n",
       "      <td>0</td>\n",
       "      <td>b' Mr'</td>\n",
       "      <td>0</td>\n",
       "      <td>0</td>\n",
       "      <td>0</td>\n",
       "      <td>0</td>\n",
       "      <td>1</td>\n",
       "      <td>0</td>\n",
       "    </tr>\n",
       "    <tr>\n",
       "      <th>890</th>\n",
       "      <td>0</td>\n",
       "      <td>3</td>\n",
       "      <td>male</td>\n",
       "      <td>32.00</td>\n",
       "      <td>0</td>\n",
       "      <td>0</td>\n",
       "      <td>7.7500</td>\n",
       "      <td>0</td>\n",
       "      <td>Q</td>\n",
       "      <td>0</td>\n",
       "      <td>...</td>\n",
       "      <td>0</td>\n",
       "      <td>0</td>\n",
       "      <td>0</td>\n",
       "      <td>b' Mr'</td>\n",
       "      <td>0</td>\n",
       "      <td>0</td>\n",
       "      <td>0</td>\n",
       "      <td>0</td>\n",
       "      <td>1</td>\n",
       "      <td>0</td>\n",
       "    </tr>\n",
       "  </tbody>\n",
       "</table>\n",
       "<p>891 rows × 38 columns</p>\n",
       "</div>"
      ],
      "text/plain": [
       "     Survived  Pclass     Sex    Age  SibSp  Parch     Fare Cabin Embarked  \\\n",
       "0           0       3    male  22.00      1      0   7.2500     0        S   \n",
       "1           1       1  female  38.00      1      0  71.2833     3        C   \n",
       "2           1       3  female  26.00      0      0   7.9250     0        S   \n",
       "3           1       1  female  35.00      1      0  53.1000     3        S   \n",
       "4           0       3    male  35.00      0      0   8.0500     0        S   \n",
       "..        ...     ...     ...    ...    ...    ...      ...   ...      ...   \n",
       "886         0       2    male  27.00      0      0  13.0000     0        S   \n",
       "887         1       1  female  19.00      0      0  30.0000     2        S   \n",
       "888         0       3  female  21.75      1      2  23.4500     0        S   \n",
       "889         1       1    male  26.00      0      0  30.0000     3        C   \n",
       "890         0       3    male  32.00      0      0   7.7500     0        Q   \n",
       "\n",
       "     Pclass_1  ...  SmallFamily  MediumFamily  LargeFamily     Title  Officer  \\\n",
       "0           0  ...            1             0            0    b' Mr'        0   \n",
       "1           1  ...            1             0            0   b' Mrs'        0   \n",
       "2           0  ...            0             0            0  b' Miss'        0   \n",
       "3           1  ...            1             0            0   b' Mrs'        0   \n",
       "4           0  ...            0             0            0    b' Mr'        0   \n",
       "..        ...  ...          ...           ...          ...       ...      ...   \n",
       "886         0  ...            0             0            0   b' Rev'        1   \n",
       "887         1  ...            0             0            0  b' Miss'        0   \n",
       "888         0  ...            1             0            0  b' Miss'        0   \n",
       "889         1  ...            0             0            0    b' Mr'        0   \n",
       "890         0  ...            0             0            0    b' Mr'        0   \n",
       "\n",
       "     Royalty  Mrs  Miss  Mr  Master  \n",
       "0          0    0     0   1       0  \n",
       "1          0    1     0   0       0  \n",
       "2          0    0     1   0       0  \n",
       "3          0    1     0   0       0  \n",
       "4          0    0     0   1       0  \n",
       "..       ...  ...   ...  ..     ...  \n",
       "886        0    0     0   0       0  \n",
       "887        0    0     1   0       0  \n",
       "888        0    0     1   0       0  \n",
       "889        0    0     0   1       0  \n",
       "890        0    0     0   1       0  \n",
       "\n",
       "[891 rows x 38 columns]"
      ]
     },
     "execution_count": 232,
     "metadata": {},
     "output_type": "execute_result"
    }
   ],
   "source": [
    "df_train"
   ]
  },
  {
   "cell_type": "markdown",
   "metadata": {},
   "source": [
    "We can drop the title feature due is now encoded in the differents titles!"
   ]
  },
  {
   "cell_type": "code",
   "execution_count": 233,
   "metadata": {},
   "outputs": [],
   "source": [
    "df_test.drop(['Title'], axis = 1, inplace = True)\n",
    "df_train.drop(['Title'], axis = 1, inplace = True)"
   ]
  },
  {
   "cell_type": "markdown",
   "metadata": {},
   "source": [
    "Now we have a clean and categorical encode dataframe. \n",
    "Before try some ML predictions is necesary to scale all the numeric variables, in this case:\n",
    "* Age\n",
    "* Fare\n",
    "* Family\n"
   ]
  },
  {
   "cell_type": "markdown",
   "metadata": {},
   "source": [
    "### Age"
   ]
  },
  {
   "cell_type": "code",
   "execution_count": 234,
   "metadata": {},
   "outputs": [],
   "source": [
    "df_train['Infant'] = df_train['Age'].map(lambda s: 1 if s < 1 else 0)\n",
    "df_train['Child'] = df_train['Age'].map(lambda s: 1 if (1 <= s <= 11) else 0)\n",
    "df_train['Teen'] = df_train['Age'].map(lambda s : 1 if (12 <= s <= 17) else 0)\n",
    "df_train['Adult'] = df_train['Age'].map(lambda s:1  if (18 <= s <= 64) else 0)\n",
    "df_train['Adult+'] = df_train['Age'].map(lambda s:1  if 64 < s else 0)\n",
    "\n",
    "df_test['Infant'] = df_test['Age'].map(lambda s: 1 if s < 1 else 0)\n",
    "df_test['Child'] = df_test['Age'].map(lambda s: 1 if (1 <= s <= 11) else 0)\n",
    "df_test['Teen'] = df_test['Age'].map(lambda s : 1 if (12 <= s <= 17) else 0)\n",
    "df_test['Adult'] = df_test['Age'].map(lambda s:1  if (18 <= s <= 64) else 0)\n",
    "df_test['Adult+'] = df_test['Age'].map(lambda s:1  if 64 < s else 0)"
   ]
  },
  {
   "cell_type": "code",
   "execution_count": 235,
   "metadata": {},
   "outputs": [],
   "source": [
    "#df_train.drop(['Age', 'Adult+'], axis = 1, inplace = True)\n",
    "#df_test.drop(['Age', 'Adult+'], axis = 1, inplace = True)"
   ]
  },
  {
   "cell_type": "markdown",
   "metadata": {},
   "source": [
    "## Numeric Variables Scaling"
   ]
  },
  {
   "cell_type": "code",
   "execution_count": 236,
   "metadata": {},
   "outputs": [],
   "source": [
    "from sklearn.preprocessing import StandardScaler"
   ]
  },
  {
   "cell_type": "code",
   "execution_count": 237,
   "metadata": {},
   "outputs": [],
   "source": [
    "scaler = StandardScaler()\n",
    "\n",
    "#df_train[['Age', 'Fare']] = scaler.fit_transform(df_train[['Age', 'Fare']])\n",
    "#df_test[['Age', 'Fare']] = scaler.fit_transform(df_test[['Age', 'Fare']])"
   ]
  },
  {
   "cell_type": "code",
   "execution_count": 238,
   "metadata": {},
   "outputs": [
    {
     "data": {
      "text/html": [
       "<div>\n",
       "<style scoped>\n",
       "    .dataframe tbody tr th:only-of-type {\n",
       "        vertical-align: middle;\n",
       "    }\n",
       "\n",
       "    .dataframe tbody tr th {\n",
       "        vertical-align: top;\n",
       "    }\n",
       "\n",
       "    .dataframe thead th {\n",
       "        text-align: right;\n",
       "    }\n",
       "</style>\n",
       "<table border=\"1\" class=\"dataframe\">\n",
       "  <thead>\n",
       "    <tr style=\"text-align: right;\">\n",
       "      <th></th>\n",
       "      <th>Survived</th>\n",
       "      <th>Pclass</th>\n",
       "      <th>Sex</th>\n",
       "      <th>Age</th>\n",
       "      <th>SibSp</th>\n",
       "      <th>Parch</th>\n",
       "      <th>Fare</th>\n",
       "      <th>Cabin</th>\n",
       "      <th>Embarked</th>\n",
       "      <th>Pclass_1</th>\n",
       "      <th>...</th>\n",
       "      <th>Royalty</th>\n",
       "      <th>Mrs</th>\n",
       "      <th>Miss</th>\n",
       "      <th>Mr</th>\n",
       "      <th>Master</th>\n",
       "      <th>Infant</th>\n",
       "      <th>Child</th>\n",
       "      <th>Teen</th>\n",
       "      <th>Adult</th>\n",
       "      <th>Adult+</th>\n",
       "    </tr>\n",
       "  </thead>\n",
       "  <tbody>\n",
       "    <tr>\n",
       "      <th>0</th>\n",
       "      <td>0</td>\n",
       "      <td>3</td>\n",
       "      <td>male</td>\n",
       "      <td>22.00</td>\n",
       "      <td>1</td>\n",
       "      <td>0</td>\n",
       "      <td>7.2500</td>\n",
       "      <td>0</td>\n",
       "      <td>S</td>\n",
       "      <td>0</td>\n",
       "      <td>...</td>\n",
       "      <td>0</td>\n",
       "      <td>0</td>\n",
       "      <td>0</td>\n",
       "      <td>1</td>\n",
       "      <td>0</td>\n",
       "      <td>0</td>\n",
       "      <td>0</td>\n",
       "      <td>0</td>\n",
       "      <td>1</td>\n",
       "      <td>0</td>\n",
       "    </tr>\n",
       "    <tr>\n",
       "      <th>1</th>\n",
       "      <td>1</td>\n",
       "      <td>1</td>\n",
       "      <td>female</td>\n",
       "      <td>38.00</td>\n",
       "      <td>1</td>\n",
       "      <td>0</td>\n",
       "      <td>71.2833</td>\n",
       "      <td>3</td>\n",
       "      <td>C</td>\n",
       "      <td>1</td>\n",
       "      <td>...</td>\n",
       "      <td>0</td>\n",
       "      <td>1</td>\n",
       "      <td>0</td>\n",
       "      <td>0</td>\n",
       "      <td>0</td>\n",
       "      <td>0</td>\n",
       "      <td>0</td>\n",
       "      <td>0</td>\n",
       "      <td>1</td>\n",
       "      <td>0</td>\n",
       "    </tr>\n",
       "    <tr>\n",
       "      <th>2</th>\n",
       "      <td>1</td>\n",
       "      <td>3</td>\n",
       "      <td>female</td>\n",
       "      <td>26.00</td>\n",
       "      <td>0</td>\n",
       "      <td>0</td>\n",
       "      <td>7.9250</td>\n",
       "      <td>0</td>\n",
       "      <td>S</td>\n",
       "      <td>0</td>\n",
       "      <td>...</td>\n",
       "      <td>0</td>\n",
       "      <td>0</td>\n",
       "      <td>1</td>\n",
       "      <td>0</td>\n",
       "      <td>0</td>\n",
       "      <td>0</td>\n",
       "      <td>0</td>\n",
       "      <td>0</td>\n",
       "      <td>1</td>\n",
       "      <td>0</td>\n",
       "    </tr>\n",
       "    <tr>\n",
       "      <th>3</th>\n",
       "      <td>1</td>\n",
       "      <td>1</td>\n",
       "      <td>female</td>\n",
       "      <td>35.00</td>\n",
       "      <td>1</td>\n",
       "      <td>0</td>\n",
       "      <td>53.1000</td>\n",
       "      <td>3</td>\n",
       "      <td>S</td>\n",
       "      <td>1</td>\n",
       "      <td>...</td>\n",
       "      <td>0</td>\n",
       "      <td>1</td>\n",
       "      <td>0</td>\n",
       "      <td>0</td>\n",
       "      <td>0</td>\n",
       "      <td>0</td>\n",
       "      <td>0</td>\n",
       "      <td>0</td>\n",
       "      <td>1</td>\n",
       "      <td>0</td>\n",
       "    </tr>\n",
       "    <tr>\n",
       "      <th>4</th>\n",
       "      <td>0</td>\n",
       "      <td>3</td>\n",
       "      <td>male</td>\n",
       "      <td>35.00</td>\n",
       "      <td>0</td>\n",
       "      <td>0</td>\n",
       "      <td>8.0500</td>\n",
       "      <td>0</td>\n",
       "      <td>S</td>\n",
       "      <td>0</td>\n",
       "      <td>...</td>\n",
       "      <td>0</td>\n",
       "      <td>0</td>\n",
       "      <td>0</td>\n",
       "      <td>1</td>\n",
       "      <td>0</td>\n",
       "      <td>0</td>\n",
       "      <td>0</td>\n",
       "      <td>0</td>\n",
       "      <td>1</td>\n",
       "      <td>0</td>\n",
       "    </tr>\n",
       "    <tr>\n",
       "      <th>...</th>\n",
       "      <td>...</td>\n",
       "      <td>...</td>\n",
       "      <td>...</td>\n",
       "      <td>...</td>\n",
       "      <td>...</td>\n",
       "      <td>...</td>\n",
       "      <td>...</td>\n",
       "      <td>...</td>\n",
       "      <td>...</td>\n",
       "      <td>...</td>\n",
       "      <td>...</td>\n",
       "      <td>...</td>\n",
       "      <td>...</td>\n",
       "      <td>...</td>\n",
       "      <td>...</td>\n",
       "      <td>...</td>\n",
       "      <td>...</td>\n",
       "      <td>...</td>\n",
       "      <td>...</td>\n",
       "      <td>...</td>\n",
       "      <td>...</td>\n",
       "    </tr>\n",
       "    <tr>\n",
       "      <th>886</th>\n",
       "      <td>0</td>\n",
       "      <td>2</td>\n",
       "      <td>male</td>\n",
       "      <td>27.00</td>\n",
       "      <td>0</td>\n",
       "      <td>0</td>\n",
       "      <td>13.0000</td>\n",
       "      <td>0</td>\n",
       "      <td>S</td>\n",
       "      <td>0</td>\n",
       "      <td>...</td>\n",
       "      <td>0</td>\n",
       "      <td>0</td>\n",
       "      <td>0</td>\n",
       "      <td>0</td>\n",
       "      <td>0</td>\n",
       "      <td>0</td>\n",
       "      <td>0</td>\n",
       "      <td>0</td>\n",
       "      <td>1</td>\n",
       "      <td>0</td>\n",
       "    </tr>\n",
       "    <tr>\n",
       "      <th>887</th>\n",
       "      <td>1</td>\n",
       "      <td>1</td>\n",
       "      <td>female</td>\n",
       "      <td>19.00</td>\n",
       "      <td>0</td>\n",
       "      <td>0</td>\n",
       "      <td>30.0000</td>\n",
       "      <td>2</td>\n",
       "      <td>S</td>\n",
       "      <td>1</td>\n",
       "      <td>...</td>\n",
       "      <td>0</td>\n",
       "      <td>0</td>\n",
       "      <td>1</td>\n",
       "      <td>0</td>\n",
       "      <td>0</td>\n",
       "      <td>0</td>\n",
       "      <td>0</td>\n",
       "      <td>0</td>\n",
       "      <td>1</td>\n",
       "      <td>0</td>\n",
       "    </tr>\n",
       "    <tr>\n",
       "      <th>888</th>\n",
       "      <td>0</td>\n",
       "      <td>3</td>\n",
       "      <td>female</td>\n",
       "      <td>21.75</td>\n",
       "      <td>1</td>\n",
       "      <td>2</td>\n",
       "      <td>23.4500</td>\n",
       "      <td>0</td>\n",
       "      <td>S</td>\n",
       "      <td>0</td>\n",
       "      <td>...</td>\n",
       "      <td>0</td>\n",
       "      <td>0</td>\n",
       "      <td>1</td>\n",
       "      <td>0</td>\n",
       "      <td>0</td>\n",
       "      <td>0</td>\n",
       "      <td>0</td>\n",
       "      <td>0</td>\n",
       "      <td>1</td>\n",
       "      <td>0</td>\n",
       "    </tr>\n",
       "    <tr>\n",
       "      <th>889</th>\n",
       "      <td>1</td>\n",
       "      <td>1</td>\n",
       "      <td>male</td>\n",
       "      <td>26.00</td>\n",
       "      <td>0</td>\n",
       "      <td>0</td>\n",
       "      <td>30.0000</td>\n",
       "      <td>3</td>\n",
       "      <td>C</td>\n",
       "      <td>1</td>\n",
       "      <td>...</td>\n",
       "      <td>0</td>\n",
       "      <td>0</td>\n",
       "      <td>0</td>\n",
       "      <td>1</td>\n",
       "      <td>0</td>\n",
       "      <td>0</td>\n",
       "      <td>0</td>\n",
       "      <td>0</td>\n",
       "      <td>1</td>\n",
       "      <td>0</td>\n",
       "    </tr>\n",
       "    <tr>\n",
       "      <th>890</th>\n",
       "      <td>0</td>\n",
       "      <td>3</td>\n",
       "      <td>male</td>\n",
       "      <td>32.00</td>\n",
       "      <td>0</td>\n",
       "      <td>0</td>\n",
       "      <td>7.7500</td>\n",
       "      <td>0</td>\n",
       "      <td>Q</td>\n",
       "      <td>0</td>\n",
       "      <td>...</td>\n",
       "      <td>0</td>\n",
       "      <td>0</td>\n",
       "      <td>0</td>\n",
       "      <td>1</td>\n",
       "      <td>0</td>\n",
       "      <td>0</td>\n",
       "      <td>0</td>\n",
       "      <td>0</td>\n",
       "      <td>1</td>\n",
       "      <td>0</td>\n",
       "    </tr>\n",
       "  </tbody>\n",
       "</table>\n",
       "<p>891 rows × 42 columns</p>\n",
       "</div>"
      ],
      "text/plain": [
       "     Survived  Pclass     Sex    Age  SibSp  Parch     Fare Cabin Embarked  \\\n",
       "0           0       3    male  22.00      1      0   7.2500     0        S   \n",
       "1           1       1  female  38.00      1      0  71.2833     3        C   \n",
       "2           1       3  female  26.00      0      0   7.9250     0        S   \n",
       "3           1       1  female  35.00      1      0  53.1000     3        S   \n",
       "4           0       3    male  35.00      0      0   8.0500     0        S   \n",
       "..        ...     ...     ...    ...    ...    ...      ...   ...      ...   \n",
       "886         0       2    male  27.00      0      0  13.0000     0        S   \n",
       "887         1       1  female  19.00      0      0  30.0000     2        S   \n",
       "888         0       3  female  21.75      1      2  23.4500     0        S   \n",
       "889         1       1    male  26.00      0      0  30.0000     3        C   \n",
       "890         0       3    male  32.00      0      0   7.7500     0        Q   \n",
       "\n",
       "     Pclass_1  ...  Royalty  Mrs  Miss  Mr  Master  Infant  Child  Teen  \\\n",
       "0           0  ...        0    0     0   1       0       0      0     0   \n",
       "1           1  ...        0    1     0   0       0       0      0     0   \n",
       "2           0  ...        0    0     1   0       0       0      0     0   \n",
       "3           1  ...        0    1     0   0       0       0      0     0   \n",
       "4           0  ...        0    0     0   1       0       0      0     0   \n",
       "..        ...  ...      ...  ...   ...  ..     ...     ...    ...   ...   \n",
       "886         0  ...        0    0     0   0       0       0      0     0   \n",
       "887         1  ...        0    0     1   0       0       0      0     0   \n",
       "888         0  ...        0    0     1   0       0       0      0     0   \n",
       "889         1  ...        0    0     0   1       0       0      0     0   \n",
       "890         0  ...        0    0     0   1       0       0      0     0   \n",
       "\n",
       "     Adult  Adult+  \n",
       "0        1       0  \n",
       "1        1       0  \n",
       "2        1       0  \n",
       "3        1       0  \n",
       "4        1       0  \n",
       "..     ...     ...  \n",
       "886      1       0  \n",
       "887      1       0  \n",
       "888      1       0  \n",
       "889      1       0  \n",
       "890      1       0  \n",
       "\n",
       "[891 rows x 42 columns]"
      ]
     },
     "execution_count": 238,
     "metadata": {},
     "output_type": "execute_result"
    }
   ],
   "source": [
    "df_train"
   ]
  },
  {
   "cell_type": "markdown",
   "metadata": {},
   "source": [
    "Lest see the corretalation matrix, this will help us understand the weith of the variables in the Survival chance of each passenger."
   ]
  },
  {
   "cell_type": "code",
   "execution_count": 258,
   "metadata": {},
   "outputs": [
    {
     "data": {
      "text/plain": [
       "<AxesSubplot:>"
      ]
     },
     "execution_count": 258,
     "metadata": {},
     "output_type": "execute_result"
    },
    {
     "data": {
      "image/png": "[encoded data removed]",
      "text/plain": [
       "<Figure size 1872x1296 with 2 Axes>"
      ]
     },
     "metadata": {
      "needs_background": "light"
     },
     "output_type": "display_data"
    }
   ],
   "source": [
    "f, ax = plt.subplots(figsize=(26, 18))\n",
    "corr = df_train.corr()\n",
    "#sns.heatmap(corr, mask=np.zeros_like(corr, dtype=np.bool), cmap=sns.diverging_palette(220, 10, as_cmap=True),\n",
    "#            square=True, ax=ax)\n",
    "sns.heatmap(corr,\n",
    "            annot = True,\n",
    "            fmt = '.2f',\n",
    "            square = True,\n",
    "            cmap = \"Blues_r\",\n",
    "            mask = np.triu(corr))"
   ]
  },
  {
   "cell_type": "code",
   "execution_count": 263,
   "metadata": {},
   "outputs": [],
   "source": [
    "df_train.drop(['Embarked_Q', 'SibSp', 'Cabin_1','Cabin_6', 'Cabin_7', 'Cabin_8', 'Family', 'Officer', 'Royalty'], axis = 1, inplace = True)\n",
    "\n",
    "df_train.drop(['Sex'], axis = 1, inplace = True)\n",
    "df_train.drop(['Embarked'], axis = 1, inplace = True)\n",
    "\n",
    "df_train.drop(['Teen', 'Child','Adult+','Age', 'Parch'], axis = 1, inplace = True)\n",
    "df_train.drop(['Master', 'MediumFamily','Pclass_2'], axis = 1, inplace = True)"
   ]
  },
  {
   "cell_type": "markdown",
   "metadata": {},
   "source": [
    "Finally we have a complete clean and usefull dataset to feed a ML algorithm and make some predictions!\n"
   ]
  },
  {
   "cell_type": "markdown",
   "metadata": {},
   "source": [
    "\n",
    "# Machine Learning model Fitting\n",
    "\n",
    "Before make some predictions is necesary to:\n",
    "* Split the dataframe into Training and test sets\n",
    "* ML model selection\n",
    "* Model training and validation"
   ]
  },
  {
   "cell_type": "markdown",
   "metadata": {},
   "source": [
    "## Dataframe training/test split\n",
    "\n",
    "The idea is split our training data into 2 datasets to train and validate our algorithm.\n",
    "\n",
    "First lets convert the dataframe into a X (features) and y(label) numpy arrays."
   ]
  },
  {
   "cell_type": "code",
   "execution_count": 71,
   "metadata": {},
   "outputs": [],
   "source": [
    "from sklearn.model_selection import train_test_split"
   ]
  },
  {
   "cell_type": "code",
   "execution_count": 264,
   "metadata": {},
   "outputs": [],
   "source": [
    "X = df_train.iloc[:,1:].values\n",
    "#X = df_train.iloc[:,[1,2,3,4,5,6,7,8,9,10,11,12,13,14,15,16,17,19,20,21,22,23,24,25,26]].values\n",
    "y = df_train.iloc[:,0].values\n",
    "\n",
    "X_train, X_test, y_train, y_test = train_test_split(X, y, test_size = 0.2, random_state = 0)"
   ]
  },
  {
   "cell_type": "markdown",
   "metadata": {},
   "source": [
    "## Model selection\n",
    "\n",
    "For model selection we are going to use Classifier algorithms.\n",
    "Due the nature of our data, Random Forest is the best choice for our application."
   ]
  },
  {
   "cell_type": "markdown",
   "metadata": {},
   "source": [
    "### RANDOM FOREST"
   ]
  },
  {
   "cell_type": "code",
   "execution_count": 73,
   "metadata": {},
   "outputs": [],
   "source": [
    "from sklearn.ensemble import RandomForestClassifier\n",
    "from sklearn.linear_model import LogisticRegression\n",
    "from sklearn.metrics import confusion_matrix"
   ]
  },
  {
   "cell_type": "code",
   "execution_count": 265,
   "metadata": {},
   "outputs": [],
   "source": [
    "classifier = RandomForestClassifier(n_estimators = 650,\n",
    "                                    criterion = 'gini',\n",
    "                                    min_samples_leaf = 1,\n",
    "                                    min_samples_split = 12,\n",
    "                                    n_jobs = -1,\n",
    "                                    random_state = 0)\n",
    "\n",
    "#650,1,12\n",
    "classifier.fit(X_train, y_train)\n",
    "\n",
    "y_pred = classifier.predict(X_test)"
   ]
  },
  {
   "cell_type": "markdown",
   "metadata": {},
   "source": [
    "Lets see how it performs trying to predict our test dataset and using metrics and confussion matrix."
   ]
  },
  {
   "cell_type": "code",
   "execution_count": 266,
   "metadata": {},
   "outputs": [
    {
     "name": "stdout",
     "output_type": "stream",
     "text": [
      "Accuracy =  0.8156424581005587\n",
      "Precision =  0.6956521739130435\n",
      "Recall =  0.8\n",
      "F1_score =  0.7441860465116279\n",
      "Confussion matrix =  [[98 12]\n",
      " [21 48]]\n"
     ]
    }
   ],
   "source": [
    "cm = confusion_matrix(y_test, y_pred)\n",
    "TP = cm[1,1]    #True positive\n",
    "TN = cm[0,0]    #True negative\n",
    "FP = cm[1,0]    #False positive\n",
    "FN = cm[0,1]    #False negative\n",
    "\n",
    "accuracy = (TP+TN) / (np.sum(cm))\n",
    "pressition = (TP)/(TP+FP)\n",
    "recall = (TP)/(TP+FN)\n",
    "F1_score = (2*pressition*recall) / (pressition+recall)\n",
    "\n",
    "print('Accuracy = ', accuracy)\n",
    "print('Precision = ', pressition)\n",
    "print('Recall = ', recall)\n",
    "print('F1_score = ', F1_score)\n",
    "print('Confussion matrix = ', cm)"
   ]
  },
  {
   "cell_type": "markdown",
   "metadata": {},
   "source": [
    "#### First approach\n",
    "* Accuracy =  0.826\n",
    "* Precision =  0.768\n",
    "* Recall =  0.779\n",
    "* F1_score =  0.773\n",
    "* Confussion matrix =  [[95 15]\n",
    "\n",
    "                        [16 53]\n",
    "#### Second approach\n",
    "* Accuracy =  0.843\n",
    "* Precision =  0.753\n",
    "* Recall =  0.825\n",
    "* F1_score =  0.7878\n",
    "* Confussion matrix =  [[99 11]\n",
    "\n",
    "                        [17 52]\n",
    "#### Third approach\n",
    "* Accuracy =  0.837\n",
    "* Precision =  0.681\n",
    "* Recall =  0.87\n",
    "* F1_score =  0.764\n",
    "* Confussion matrix =  [[103 7]\n",
    "\n",
    "                        [22 47]\n",
    "#### Fourth approach\n",
    "* Accuracy =  0.854\n",
    "* Precision =  0.753\n",
    "* Recall =  0.852\n",
    "* F1_score =  0.8\n",
    "* Confussion matrix =  [[101 9]\n",
    "\n",
    "                        [17 52]\n",
    "                        \n",
    " "
   ]
  },
  {
   "cell_type": "markdown",
   "metadata": {},
   "source": [
    "## Grid search model optimization\n",
    "\n",
    "All the ML models have a lot of parameters (hyperparameters) wich describe the way that the algoritm perform into the data.\n",
    "In order to optimize that parameters is necesary to implement a grid search optimization."
   ]
  },
  {
   "cell_type": "code",
   "execution_count": null,
   "metadata": {},
   "outputs": [],
   "source": [
    "from sklearn.model_selection import GridSearchCV"
   ]
  },
  {
   "cell_type": "markdown",
   "metadata": {},
   "source": [
    "First define a dictionary with the parameters to optimize."
   ]
  },
  {
   "cell_type": "code",
   "execution_count": null,
   "metadata": {},
   "outputs": [],
   "source": [
    "parameters = [{'n_estimators' : [450,500,550],\n",
    "               'criterion' : ['gini'],\n",
    "               'min_samples_leaf' : [4,5,6,7],\n",
    "               'min_samples_split' : [8,9,10,11]}]\n",
    "\n",
    "grid_search = GridSearchCV(estimator = classifier,\n",
    "                           param_grid = parameters,\n",
    "                           scoring = 'accuracy',\n",
    "                           cv = 10,\n",
    "                           n_jobs = -1)"
   ]
  },
  {
   "cell_type": "markdown",
   "metadata": {},
   "source": [
    "Now lest run the grid search and then print the best accuracy and parameters reached."
   ]
  },
  {
   "cell_type": "code",
   "execution_count": null,
   "metadata": {},
   "outputs": [],
   "source": [
    "grid_search = grid_search.fit(X_train, y_train)\n",
    "best_accuracy = grid_search.best_score_\n",
    "best_parameters = grid_search.best_params_\n",
    "\n",
    "print('Best Accuracy = ', best_accuracy)\n",
    "print('Best parameters  = ', best_parameters)"
   ]
  },
  {
   "cell_type": "markdown",
   "metadata": {},
   "source": [
    "Is necesary to run the grid search changing the parameters frecuently to see what are the best for the prediction."
   ]
  },
  {
   "cell_type": "markdown",
   "metadata": {},
   "source": [
    "1st Run = {'criterion': 'gini',\n",
    "             'min_samples_leaf': 2,\n",
    "             'min_samples_split': 22,\n",
    "             'n_estimators': 750} - Acc = 0.8413\n",
    "             \n",
    "2st Run = {'criterion': 'gini', 'min_samples_leaf': 2, 'min_samples_split': 20, 'n_estimators': 680} - Acc = 0.8413\n",
    "\n",
    "3rd Run = {'criterion': 'gini', 'min_samples_leaf': 3, 'min_samples_split': 17, 'n_estimators': 650} - Acc = 0.837"
   ]
  },
  {
   "cell_type": "markdown",
   "metadata": {},
   "source": [
    "# Feature Selection\n",
    "\n",
    "All the features that now we have can have a positive or negative impact in our prediction. Each feature has his own little impact in the overall performance of the prediction algorithm.\n",
    "The idea in this section is to drop all the features that doesn't help at all to prevent data noise, overfitting and low accuracy.\n",
    "\n",
    "First lets see a bar graph that represent the importances of the features."
   ]
  },
  {
   "cell_type": "code",
   "execution_count": null,
   "metadata": {},
   "outputs": [],
   "source": [
    "features = pd.DataFrame()\n",
    "features['feature'] = ['Age', 'SibSp', 'Parch', 'Fare', 'Pclass_1', 'Pclass_2',\n",
    "       'Sex_female', 'Embarked_C', 'Embarked_Q', 'Family', 'Single',\n",
    "       'SmallFamily', 'MediumFamily', 'Officer', 'Royalty', 'Mrs', 'Miss',\n",
    "       'Mr']\n",
    "features['Importance'] = classifier.feature_importances_\n",
    "features.sort_values(by = ['Importance'], ascending = True, inplace = True)\n",
    "features.set_index('feature', inplace = True)\n",
    "\n",
    "features.plot(kind = 'barh', figsize = (15,15))"
   ]
  },
  {
   "cell_type": "markdown",
   "metadata": {},
   "source": [
    "Now using the brilliant sklearn libray we can drop all the no-needed features of our dataset."
   ]
  },
  {
   "cell_type": "code",
   "execution_count": null,
   "metadata": {},
   "outputs": [],
   "source": [
    "from sklearn.feature_selection import SelectFromModel\n",
    "model = SelectFromModel(classifier, prefit = True)\n",
    "X_reduced = model.transform(X)\n",
    "print(X_reduced.shape)\n",
    "\n",
    "X_train, X_test, y_train, y_test = train_test_split(X_reduced, y, test_size = 0.2, random_state = 0)"
   ]
  },
  {
   "cell_type": "markdown",
   "metadata": {},
   "source": [
    "### Artificial Neural Network - ANN\n",
    "\n",
    "We have 12 input parameters. Different ANN topologies should be tested.\n",
    "* #1 - 12 -> 6 -> 1\n",
    "* #2 - 12 -> 14 -> 8 -> 1\n",
    "* #3 - 12 -> 14 -> 8 -> 14 -> 1"
   ]
  },
  {
   "cell_type": "code",
   "execution_count": null,
   "metadata": {},
   "outputs": [],
   "source": [
    "import keras\n",
    "from keras.models import Sequential\n",
    "from keras.layers import Dense"
   ]
  },
  {
   "cell_type": "code",
   "execution_count": null,
   "metadata": {},
   "outputs": [],
   "source": [
    "classifier = Sequential()\n",
    "\n",
    "classifier.add(Dense(units = 19,\n",
    "                     kernel_initializer = 'uniform',\n",
    "                     activation = 'relu',\n",
    "                     input_dim = 11))\n",
    "classifier.add(Dense(units = 16,\n",
    "                     kernel_initializer = 'uniform',\n",
    "                     activation = 'relu'))\n",
    "classifier.add(Dense(units = 16,\n",
    "                     kernel_initializer = 'uniform',\n",
    "                     activation = 'relu'))\n",
    "classifier.add(Dense(units = 1,\n",
    "                     kernel_initializer = 'uniform',\n",
    "                     activation = 'sigmoid'))"
   ]
  },
  {
   "cell_type": "code",
   "execution_count": null,
   "metadata": {},
   "outputs": [],
   "source": [
    "classifier.compile(optimizer='adam',\n",
    "                   loss = 'binary_crossentropy',\n",
    "                   metrics = ['accuracy'])"
   ]
  },
  {
   "cell_type": "code",
   "execution_count": null,
   "metadata": {},
   "outputs": [],
   "source": [
    "seqModel = classifier.fit(X_train, y_train, batch_size = 28, epochs = 200)"
   ]
  },
  {
   "cell_type": "code",
   "execution_count": null,
   "metadata": {},
   "outputs": [],
   "source": [
    "# visualizing losses and accuracy\n",
    "num_epochs = 200\n",
    "\n",
    "train_loss = seqModel.history['loss']\n",
    "\n",
    "train_acc  = seqModel.history['accuracy']\n",
    "\n",
    "xc         = range(num_epochs)\n",
    "\n",
    "plt.figure()\n",
    "plt.plot(xc, train_loss, label = 'Loss')\n",
    "plt.plot(xc, train_acc, label = 'Accuracy')\n",
    "plt.legend()\n",
    "plt.xlabel('Epoch')\n",
    "plt.ylabel('Value')\n",
    "plt.title('ANN training metrics')"
   ]
  },
  {
   "cell_type": "code",
   "execution_count": null,
   "metadata": {},
   "outputs": [],
   "source": [
    "y_pred = classifier.predict(X_test)\n",
    "y_pred = (y_pred > 0.5)"
   ]
  },
  {
   "cell_type": "code",
   "execution_count": null,
   "metadata": {},
   "outputs": [],
   "source": [
    "cm = confusion_matrix(y_test, y_pred)\n",
    "TP = cm[1,1]    #True positive\n",
    "TN = cm[0,0]    #True negative\n",
    "FP = cm[1,0]    #False positive\n",
    "FN = cm[0,1]    #False negative\n",
    "\n",
    "accuracy = (TP+TN) / (np.sum(cm))\n",
    "pressition = (TP)/(TP+FP)\n",
    "recall = (TP)/(TP+FN)\n",
    "F1_score = (2*pressition*recall) / (pressition+recall)\n",
    "print('Accuracy = ', accuracy)\n",
    "print('Precision = ', pressition)\n",
    "print('Recall = ', recall)\n",
    "print('F1_score = ', F1_score)\n",
    "print('Confussion matrix = ', cm)"
   ]
  },
  {
   "cell_type": "markdown",
   "metadata": {},
   "source": [
    "#### ANN RESULTS\n",
    "* #1 Topology acc = 0.8212\n",
    "* #2 Topology acc = 0.843\n",
    "* #3 Topology acc = 0.832"
   ]
  },
  {
   "cell_type": "markdown",
   "metadata": {},
   "source": [
    "# Test data prediction and file saving\n",
    "\n",
    "Now is time to finish what we started!\n",
    "Lets try our ML model in the titanic test data and see how it performs.."
   ]
  },
  {
   "cell_type": "code",
   "execution_count": null,
   "metadata": {},
   "outputs": [],
   "source": [
    "df_test"
   ]
  },
  {
   "cell_type": "code",
   "execution_count": null,
   "metadata": {},
   "outputs": [],
   "source": [
    "y_pred_test = classifier.predict(df_test.iloc[:,:])"
   ]
  },
  {
   "cell_type": "code",
   "execution_count": null,
   "metadata": {},
   "outputs": [],
   "source": [
    "y_pred_test = (y_pred_test>0.5).reshape(-1)"
   ]
  },
  {
   "cell_type": "code",
   "execution_count": null,
   "metadata": {},
   "outputs": [],
   "source": [
    "p = np.arange(892, 1310,1 ).T\n",
    "\n",
    "p = np.array((p,y_pred_test.astype(np.int64))).T\n",
    "p = pd.DataFrame(p, columns=['PassengerID','Survived'])\n",
    "p.to_csv('Tit_pred.csv',index=False)"
   ]
  }
 ],
 "metadata": {
  "kernelspec": {
   "display_name": "Python 3",
   "language": "python",
   "name": "python3"
  },
  "language_info": {
   "codemirror_mode": {
    "name": "ipython",
    "version": 3
   },
   "file_extension": ".py",
   "mimetype": "text/x-python",
   "name": "python",
   "nbconvert_exporter": "python",
   "pygments_lexer": "ipython3",
   "version": "3.8.8"
  }
 },
 "nbformat": 4,
 "nbformat_minor": 4
}
