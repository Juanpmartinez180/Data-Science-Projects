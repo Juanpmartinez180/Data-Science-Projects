{
 "cells": [
  {
   "cell_type": "markdown",
   "id": "31d76db7-7cae-4f70-b3ae-d2d24af13038",
   "metadata": {},
   "source": [
    "### Library import"
   ]
  },
  {
   "cell_type": "code",
   "execution_count": 4,
   "id": "dcd0dcf3-9cd5-45b4-bd89-18eb80e3c789",
   "metadata": {},
   "outputs": [],
   "source": [
    "import sys\n",
    "import os\n",
    "import serial\n",
    "import csv\n",
    "import time\n",
    "import pandas as pd\n",
    "import functools\n",
    "import numpy as np\n",
    "import random as rd\n",
    "import matplotlib\n",
    "import threading\n",
    "\n",
    "\n",
    "import matplotlib.pyplot as plt\n",
    "import numpy as np\n",
    "\n",
    "from matplotlib.pyplot import figure\n",
    "\n",
    "plt.rcParams[\"figure.figsize\"] = (20,3)\n",
    "\n",
    "import data_read"
   ]
  },
  {
   "cell_type": "code",
   "execution_count": null,
   "id": "ffdf706e-a309-4efc-b700-4d1f7eb71abe",
   "metadata": {},
   "outputs": [],
   "source": [
    "from PyQt5.QtWidgets import *\n",
    "from PyQt5.QtCore import *\n",
    "from PyQt5.QtGui import *\n",
    "\n",
    "matplotlib.use(\"Qt5Agg\")\n",
    "from matplotlib.figure import Figure\n",
    "from matplotlib.animation import TimedAnimation\n",
    "from matplotlib.lines import Line2D\n",
    "from matplotlib.backends.backend_qt5agg import FigureCanvasQTAgg as FigureCanvas"
   ]
  },
  {
   "cell_type": "markdown",
   "id": "af080633-9889-40c1-aef4-29c1ccc71d23",
   "metadata": {},
   "source": [
    "### Data capture using serial port"
   ]
  },
  {
   "cell_type": "code",
   "execution_count": null,
   "id": "f36f5284-acfe-4b12-85df-942f00f10c69",
   "metadata": {
    "tags": []
   },
   "outputs": [],
   "source": [
    "ser = serial.Serial('/dev/ttyACM0', baudrate=115200)\n",
    "ser.flushInput()\n",
    "result = [] # Array to store readed values\n",
    "n = 4096 # Number of values to read. Each arduino read is 2048bytes.\n",
    "for i in range(n):\n",
    "    line = ser.readline() # Read serial port input\n",
    "    if line:\n",
    "        string = line.decode() # Decode values\n",
    "        result.append(string.split('\\r')[0]) # Split and save only the valuable data\n",
    "\n",
    "        with open(\"captured_data/test.csv\", \"a\") as f: # Save data to local file\n",
    "            writer = csv.writer(f, delimiter=',')\n",
    "            writer.writerow([string])\n",
    "#Remove empty values and convert to float\n",
    "if '' in result:\n",
    "    result.remove('')\n",
    "result = [float(i_res) for i_res in result]\n",
    "\n",
    "ser.close()"
   ]
  },
  {
   "cell_type": "markdown",
   "id": "a7ebab24-5363-4bb5-bc64-209fcb7f7bdc",
   "metadata": {},
   "source": [
    "### Data reading from storage file"
   ]
  },
  {
   "cell_type": "code",
   "execution_count": 57,
   "id": "94cea9e7-b5cc-4457-8758-0397260a71a0",
   "metadata": {
    "tags": []
   },
   "outputs": [
    {
     "data": {
      "image/png": "[encoded data removed]",
      "text/plain": [
       "<Figure size 1440x216 with 1 Axes>"
      ]
     },
     "metadata": {
      "needs_background": "light"
     },
     "output_type": "display_data"
    }
   ],
   "source": [
    "df = pd.read_csv('captured_data/test.csv', header=None, dtype={'Voltages': float}) #read csv file\n",
    "df = df.replace('\\r\\n', '', regex = True)\n",
    "df.drop(df[df[0].str.len() != 4].index, inplace=True)\n",
    "#df.drop(df[df[0] == ''].index, inplace=True)\n",
    "\n",
    "x = df[0].to_numpy().astype(float)\n",
    "y = np.arange(0, len(x))\n",
    "\n",
    "plt.plot(y, x)\n",
    "plt.title('Arduino readings')\n",
    "plt.ylim([0, 4])\n",
    "plt.xlim([0,2048])\n",
    "plt.xlabel('Sample')\n",
    "plt.ylabel('Value')\n",
    "plt.show()"
   ]
  },
  {
   "cell_type": "markdown",
   "id": "3333d1ed-227f-448a-bcdc-56086e85ab90",
   "metadata": {},
   "source": [
    "### Real Time Data reading and plot via Serial Port"
   ]
  },
  {
   "cell_type": "code",
   "execution_count": null,
   "id": "48617b89-d8cd-4eca-a927-87c54b1a689a",
   "metadata": {},
   "outputs": [],
   "source": [
    "app = QApplication(sys.argv)\n",
    "QApplication.setStyle(QStyleFactory.create('Plastique'))\n",
    "myGUI = data_read.CustomMainWindow()\n",
    "sys.exit(app.exec_())"
   ]
  },
  {
   "cell_type": "markdown",
   "id": "2cfbe42a-0e22-4237-8a86-1d6650d655d8",
   "metadata": {},
   "source": [
    "### Data cleaning and transformation"
   ]
  },
  {
   "cell_type": "code",
   "execution_count": null,
   "id": "60181f64-cda3-49b3-b861-6566eaa7a672",
   "metadata": {},
   "outputs": [],
   "source": [
    "\n",
    "##KALMAN FILTER TEST\n",
    "R = 10\n",
    "H = 1.00\n",
    "Q = 10\n",
    "P = 0\n",
    "U_hat = 0\n",
    "K = 0\n",
    "\n",
    "\n",
    "def kalman_filter(U):\n",
    "    \n",
    "    R = 40\n",
    "    H = 1.00\n",
    "    Q = 1e-5\n",
    "    P = 0\n",
    "    U_hat = 0\n",
    "    K = 10\n",
    "    \n",
    "    for element in U:\n",
    "        K = P*H/(H*P*H+R)\n",
    "        U_hat += K*(U-H*U_hat)\n",
    "        P = (1-K*H)*P+Q\n",
    "    \n",
    "    return(U_hat)\n",
    "\n",
    "print(sample)\n",
    "print(kalman_filter(sample))\n",
    "\n",
    "ax_x = sample\n",
    "ax_y = np.arange(0, len(sample))\n",
    "\n",
    "plt.subplot(2,1,1)\n",
    "\n",
    "plt.plot(ax_y, ax_x, label = \"Without filtering\")\n",
    "plt.plot(ax_y, kalman_filter(ax_x), label = \"Kalman filter\")\n",
    "\n",
    "plt.legend()\n",
    "\n",
    "plt.subplot(2,1,2)\n",
    "plt.plot(ax_y, kalman_filter(ax_x), label = \"Kalman filter\")\n",
    "plt.legend()\n",
    "plt.show()"
   ]
  },
  {
   "cell_type": "code",
   "execution_count": null,
   "id": "e721a1d7-375c-4548-9ab8-cd3fabb642f0",
   "metadata": {},
   "outputs": [],
   "source": [
    "init_val = 2048\n",
    "n_samples = 1\n",
    "sample = x[init_val:init_val+(n_samples*2048)]\n",
    "\n",
    "kalman = kalman_filter(sample)\n",
    "\n",
    "plt.plot(ax_y, kalman, label = \"Kalman\")\n",
    "\n",
    "sample = (np.exp(sample - sample.mean())-1)*30\n",
    "\n",
    "ax_x = sample\n",
    "ax_y = np.arange(0, len(sample))\n",
    "#plt.xlim([0, 2048])\n",
    "#plt.plot(ax_y, ax_x, label = \"Without filtering\")\n",
    "\n",
    "#Mean filter\n",
    "i = 0\n",
    "for n_sample in sample:\n",
    "    \n",
    "    if i == 0:\n",
    "        sample[i] = (sample[i] + sample[i+1] )/2\n",
    "    elif i == len(sample)-1:\n",
    "        sample[i] = (sample[i] + sample[i-1])/2\n",
    "    else:\n",
    "        sample[i] = (sample[i-1] + sample[i] + sample [i+1] )/ 3\n",
    "    \n",
    "    i+=1\n",
    "\n",
    "ax_x = sample*2\n",
    "#plt.plot(ax_y, ax_x, label = \"With filtering\")\n",
    "\n",
    "plt.legend(loc = \"lower right\")\n",
    "plt.show()"
   ]
  },
  {
   "cell_type": "code",
   "execution_count": null,
   "id": "9673ee95-3158-4993-bba4-47d1b6b68cd8",
   "metadata": {},
   "outputs": [],
   "source": [
    "''' This part is intended to amplify the raw signal from R8 resistor. \n",
    "This is signal is the input of a comparator. A vcc/2 signal is used to compare.\n",
    "So our signal is shifted 2.5V, therefore we need to substract that value to read more correctly the values from the ADC\n",
    "'''\n",
    "init_val = 2048\n",
    "n_samples = 1\n",
    "sample = x[init_val:init_val+(n_samples*2048)]\n",
    "\n",
    "sample = np.exp(sample - sample.mean())**10\n",
    "\n",
    "ax_x = sample\n",
    "ax_y = np.arange(0, len(sample))\n",
    "#plt.xlim([0, 2048])\n",
    "plt.plot(ax_y, ax_x, label = \"Without filtering\")\n",
    "\n",
    "#Mean filter\n",
    "i = 0\n",
    "for n_sample in sample:\n",
    "    \n",
    "    if i == 0:\n",
    "        sample[i] = (sample[i] + sample[i+1] )/2\n",
    "    elif i == len(sample)-1:\n",
    "        sample[i] = (sample[i] + sample[i-1])/2\n",
    "    else:\n",
    "        sample[i] = (sample[i-1] + sample[i] + sample [i+1] )/ 3\n",
    "    \n",
    "    i+=1\n",
    "\n",
    "ax_x = sample\n",
    "#plt.xlim([0, 2048])\n",
    "plt.plot(ax_y, ax_x, label = \"With filtering\")\n",
    "\n",
    "#confidence threshold\n",
    "threshold_mean = sample.mean()*1.15\n",
    "confidence_threshold = [threshold_mean for i in range(len(sample))]\n",
    "plt.plot(ax_y,confidence_threshold, color = 'red')\n",
    "\n",
    "\n",
    "#echo center\n",
    "echo_plot_y = [i for i in range(7)]\n",
    "center_point = echo_center_point(sample)[0]\n",
    "\n",
    "#pulse center\n",
    "center_point_pulse = int(echo_center_point(sample)[1])\n",
    "echo_plot_x = [center_point_pulse for i in range(len(echo_plot_y))]\n",
    "plt.plot(echo_plot_x, echo_plot_y, label = 'Pulse center point')\n",
    "\n",
    "\n",
    "\n",
    "for i in range(len(center_point)): \n",
    "    echo_plot_x = [center_point[i] for j in range(len(echo_plot_y))]\n",
    "    plt.plot(echo_plot_x, echo_plot_y, label = 'Echo center point')\n",
    "\n",
    "\n",
    "plt.legend(loc = \"lower right\")\n",
    "\n",
    "print('Pulse center point: ', center_point_pulse)\n",
    "print('Echo center point: ', center_point)\n",
    "print('First echo distance: ', echo_distance())\n",
    "\n",
    "\n",
    "plt.show()"
   ]
  },
  {
   "cell_type": "code",
   "execution_count": null,
   "id": "1455f5c8-ee21-4d78-bb39-d00d96b02329",
   "metadata": {
    "tags": []
   },
   "outputs": [],
   "source": [
    "def echo_center_point(sample):\n",
    "    sample_mean = sample.mean()\n",
    "    pulse_window = 10\n",
    "    overshoot_confidence = 1.15\n",
    "    echo_values = []\n",
    "    pulse_values = []\n",
    "    echo_center = []\n",
    "    for i in range(len(sample)):\n",
    "        sample_window = sample[i:i+pulse_window]\n",
    "        window_mean = sum(sample_window)/len(sample_window)\n",
    "        if window_mean > sample_mean*overshoot_confidence:\n",
    "            if i > 500:\n",
    "                echo_values.append(i)\n",
    "            else:\n",
    "                pulse_values.append(i)\n",
    "\n",
    "    #print(echo_values)\n",
    "    pulse_center = int(sum(pulse_values)/len(pulse_values))\n",
    "    pulse_width = int(len(pulse_values)*0.4)\n",
    "    for i in range(0, round(len(echo_values)/pulse_width)):\n",
    "        temp_values = echo_values[pulse_width*(i):pulse_width*(i+1)]\n",
    "        temp_center = sum(temp_values)/len(temp_values) \n",
    "        echo_center.append(int(temp_center))\n",
    "        \n",
    "    return(echo_center, pulse_center)\n",
    "\n",
    "echo_center_point(sample)"
   ]
  },
  {
   "cell_type": "code",
   "execution_count": null,
   "id": "c18b2622-503a-4e64-bd13-89b569c90809",
   "metadata": {},
   "outputs": [],
   "source": [
    "def echo_distance():\n",
    "    #pulse_origin = 300\n",
    "    threshold_values = center_point[0]-center_point_pulse\n",
    "    air_speed = 343\n",
    "    sample_freq = 140000\n",
    "\n",
    "    distance = (1/sample_freq)*threshold_values*air_speed/2\n",
    "    \n",
    "    return(distance)"
   ]
  },
  {
   "cell_type": "code",
   "execution_count": null,
   "id": "35462c95-2b8b-4e2b-9cae-70d0244bff49",
   "metadata": {},
   "outputs": [],
   "source": [
    "init_val = 4096\n",
    "n_samples = 1\n",
    "sample = x[init_val:init_val+(n_samples*2048)]\n",
    "sample = np.exp(sample - sample.mean())**10\n",
    "ax_x = sample\n",
    "ax_y = np.arange(0, len(sample))\n",
    "#plt.xlim([0, 2048])\n",
    "plt.plot(ax_y, ax_x)\n",
    "plt.show()"
   ]
  },
  {
   "cell_type": "code",
   "execution_count": null,
   "id": "b5d202b2-6401-4267-a931-6ce40c311729",
   "metadata": {},
   "outputs": [],
   "source": [
    "x_portion = x[0:2048]\n",
    "y_portion = np.arange(0, len(x_portion))\n",
    "\n",
    "plt.plot(y_portion,\n",
    "         x_portion,\n",
    "         label = \"Echo Pulse\")\n",
    "plt.plot(y_portion,\n",
    "         x[16384:18432],\n",
    "         label = \"Raw Analog output\")\n",
    "\n",
    "plt.plot(y_portion,\n",
    "         x[24576:26624])\n",
    "\n",
    "\n",
    "plt.title('Arduino readings')\n",
    "plt.ylim([0, 4])\n",
    "#plt.xlim([0,8090])\n",
    "plt.xlabel('Sample')\n",
    "plt.ylabel('Value')\n",
    "plt.legend()\n",
    "plt.show()\n",
    "\n",
    "threshold_values = len(x_portion[x_portion>3.0])\n",
    "\n",
    "air_speed = 343\n",
    "sample_freq = 140000\n",
    "\n",
    "distance = (1/sample_freq)*threshold_values*air_speed/2\n",
    "print(\"Distance: \", distance, \"[m]\")"
   ]
  },
  {
   "cell_type": "code",
   "execution_count": null,
   "id": "2158bd99-b6b0-41fb-9f01-d4fb542095e6",
   "metadata": {},
   "outputs": [],
   "source": []
  },
  {
   "cell_type": "code",
   "execution_count": null,
   "id": "124ac488-890d-4960-a7dd-60327e38be7d",
   "metadata": {},
   "outputs": [],
   "source": [
    "threshold_values = 1250\n",
    "\n",
    "air_speed = 343\n",
    "sample_freq = 70000*2\n",
    "\n",
    "distance = (1/sample_freq)*threshold_values*air_speed/2\n",
    "print(\"Distance: \", distance, \"[m]\")"
   ]
  },
  {
   "cell_type": "code",
   "execution_count": null,
   "id": "d26879bb-78a2-4fff-b511-50274de17fa9",
   "metadata": {},
   "outputs": [],
   "source": [
    "x_portion = x[2048:4096]\n",
    "y_portion = np.arange(0, len(x_portion))\n",
    "\n",
    "plt.plot(y_portion,\n",
    "         x_portion,\n",
    "         label = \"Echo Pulse\")\n",
    "\n",
    "plt.title('Arduino readings')\n",
    "plt.ylim([0, 4])\n",
    "#plt.xlim([0,8090])\n",
    "plt.xlabel('Sample')\n",
    "plt.ylabel('Value')\n",
    "plt.legend()\n",
    "plt.show()\n",
    "\n",
    "threshold_values = len(x_portion[x_portion>2.5])\n",
    "\n",
    "air_speed = 343\n",
    "sample_freq = 140000\n",
    "\n",
    "distance = (1/sample_freq)*threshold_values*air_speed/2\n",
    "print(\"Distance: \", distance, \"[m]\")"
   ]
  },
  {
   "cell_type": "code",
   "execution_count": null,
   "id": "07b4bd0c-5f88-44a7-9605-adb9189e02e9",
   "metadata": {},
   "outputs": [],
   "source": [
    "init_val = 6144\n",
    "n_samples = 1\n",
    "sample = x[init_val:init_val+(n_samples*2048)]\n",
    "sample = np.exp(sample - sample.mean())**2\n",
    "ax_x = sample\n",
    "ax_y = np.arange(0, len(sample))\n",
    "#plt.xlim([0, 2048])\n",
    "plt.plot(ax_y, ax_x)\n",
    "plt.show()"
   ]
  }
 ],
 "metadata": {
  "kernelspec": {
   "display_name": "Python 3 (ipykernel)",
   "language": "python",
   "name": "python3"
  },
  "language_info": {
   "codemirror_mode": {
    "name": "ipython",
    "version": 3
   },
   "file_extension": ".py",
   "mimetype": "text/x-python",
   "name": "python",
   "nbconvert_exporter": "python",
   "pygments_lexer": "ipython3",
   "version": "3.9.7"
  }
 },
 "nbformat": 4,
 "nbformat_minor": 5
}
