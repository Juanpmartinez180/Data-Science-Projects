{
 "cells": [
  {
   "cell_type": "code",
   "execution_count": 4,
   "id": "630a0d81-7e9d-4fcf-acaf-637106895f0c",
   "metadata": {},
   "outputs": [],
   "source": [
    "M = [[1,2], [3,4],  [5,6]]"
   ]
  },
  {
   "cell_type": "code",
   "execution_count": 41,
   "id": "1392a57e-e1d2-4414-8af7-517b5d26549f",
   "metadata": {},
   "outputs": [
    {
     "name": "stdout",
     "output_type": "stream",
     "text": [
      "[9, 12]\n"
     ]
    }
   ],
   "source": [
    "result = []\n",
    "\n",
    "column_size = len(M[0])\n",
    "row_size = len(M)\n",
    "\n",
    "for j in range(column_size):\n",
    "    temp_result = 0\n",
    "    for i in range(row_size):\n",
    "        temp_result = temp_result + M[i][j]\n",
    " \n",
    "    result.append(temp_result)\n",
    "\n",
    "print(result)"
   ]
  }
 ],
 "metadata": {
  "kernelspec": {
   "display_name": "Python 3 (ipykernel)",
   "language": "python",
   "name": "python3"
  },
  "language_info": {
   "codemirror_mode": {
    "name": "ipython",
    "version": 3
   },
   "file_extension": ".py",
   "mimetype": "text/x-python",
   "name": "python",
   "nbconvert_exporter": "python",
   "pygments_lexer": "ipython3",
   "version": "3.9.7"
  }
 },
 "nbformat": 4,
 "nbformat_minor": 5
}
