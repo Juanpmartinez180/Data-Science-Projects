{
 "cells": [
  {
   "cell_type": "code",
   "execution_count": 1,
   "id": "9fb642d3-bd68-42c8-92fc-8140b5d1924c",
   "metadata": {},
   "outputs": [],
   "source": [
    "beam_angle = 15 #sensor beam field of view (FoV). In degrees\n",
    "beam_max_range = 2 #max range allowed for the beam. In meters\n",
    "sensors = 3 #number of transmiters/receivers\n",
    "propagation_speed = 340 #wave propagation speeed over air. In m/s\n",
    "initial_amplitude = 1 #initial amplitude of the wave\n",
    "wave_frequency = 40e3 #Wave frequency, in Hertz\n",
    "sampling_rate = 1/6800 #Sampling rate in seconds\n",
    "\n",
    "main_sensor_coordinates = [0,0] #Origin Coordinates of the main sensor [X,Y}"
   ]
  },
  {
   "cell_type": "markdown",
   "id": "a9bad390-34fa-4f86-b594-e640377ff1dd",
   "metadata": {},
   "source": [
    "Calculate the origin coordinates for the other sensors..\n",
    "\n",
    "Supposing 2 more sensors, one located on the right of the main sensor and the other on the left of the main sensor.\n",
    "\n",
    "The sensor on the left (S1) needs to be located such that the upper-right part of the beam locates the exact same position as the main sensor upper-right extreme.\n",
    "The upper-left extreme of the S1 Beam can be located over the main beam, by a percentage of the main beam range. Lets say, 10%.\n",
    "\n",
    "The same logic applies to the sensor on the right (S3) but mirrored."
   ]
  },
  {
   "cell_type": "markdown",
   "id": "64473cf4-4b4c-4954-b964-d71e5ac452e3",
   "metadata": {},
   "source": [
    "### Library import"
   ]
  },
  {
   "cell_type": "code",
   "execution_count": 2,
   "id": "1d38b1d6-0edb-44b1-8467-fff61584f99c",
   "metadata": {},
   "outputs": [
    {
     "ename": "ModuleNotFoundError",
     "evalue": "No module named 'shapely'",
     "output_type": "error",
     "traceback": [
      "\u001b[0;31m---------------------------------------------------------------------------\u001b[0m",
      "\u001b[0;31mModuleNotFoundError\u001b[0m                       Traceback (most recent call last)",
      "Cell \u001b[0;32mIn[2], line 1\u001b[0m\n\u001b[0;32m----> 1\u001b[0m \u001b[38;5;28;01mimport\u001b[39;00m \u001b[38;5;21;01mshapely\u001b[39;00m\n\u001b[1;32m      2\u001b[0m \u001b[38;5;28;01mfrom\u001b[39;00m \u001b[38;5;21;01mitertools\u001b[39;00m \u001b[38;5;28;01mimport\u001b[39;00m product\n\u001b[1;32m      3\u001b[0m \u001b[38;5;28;01mimport\u001b[39;00m \u001b[38;5;21;01mnumpy\u001b[39;00m \u001b[38;5;28;01mas\u001b[39;00m \u001b[38;5;21;01mnp\u001b[39;00m\n",
      "\u001b[0;31mModuleNotFoundError\u001b[0m: No module named 'shapely'"
     ]
    }
   ],
   "source": [
    "import shapely\n",
    "from itertools import product\n",
    "import numpy as np\n",
    "import geopandas as gpd\n",
    "import pandas as pd\n",
    "import matplotlib.pyplot as plt\n",
    "import math\n",
    "import seaborn as sns\n",
    "\n",
    "from shapely.geometry import Polygon\n",
    "from shapely.geometry import Point\n",
    "from shapely.geometry import MultiPolygon\n",
    "from shapely.geometry import LineString\n",
    "from shapely import affinity\n",
    "\n",
    "plt.rcParams[\"figure.figsize\"] = (6,6)"
   ]
  },
  {
   "cell_type": "markdown",
   "id": "ee90d0ef-67be-45a7-b12d-4af887ea3a57",
   "metadata": {},
   "source": [
    "### Auxiliary functions"
   ]
  },
  {
   "cell_type": "code",
   "execution_count": 3,
   "id": "c4c8fc42-8295-4e34-8247-b8d6fb015423",
   "metadata": {},
   "outputs": [],
   "source": [
    "#function that creates a equaly space grid for a given geometry\n",
    "def make_grid(polygon, edge_size):\n",
    "    \"\"\"\n",
    "    polygon : shapely.geometry\n",
    "    edge_size : length of the grid cell\n",
    "    \"\"\"\n",
    "    bounds = polygon.bounds\n",
    "    x_coords = np.arange(bounds[0] + edge_size/2, bounds[2], edge_size)\n",
    "    y_coords = np.arange(bounds[1] + edge_size/2, bounds[3], edge_size)\n",
    "    combinations = np.array(list(product(x_coords, y_coords)))\n",
    "    squares = gpd.points_from_xy(combinations[:, 0], combinations[:, 1]).buffer(edge_size / 2, cap_style=3)\n",
    "\n",
    "    return gpd.GeoSeries(squares[squares.intersects(polygon)])"
   ]
  },
  {
   "cell_type": "code",
   "execution_count": 4,
   "id": "8575dd0d-0b24-4568-8db8-f6e838f2068c",
   "metadata": {},
   "outputs": [],
   "source": [
    "def check_is_inside(geometry, points):\n",
    "    \"\"\"\n",
    "    arguments:  - geometry: geometry to check\n",
    "                - point to check if is inside of the geometry\n",
    "    \n",
    "    output: - Quadrant number in wich the point is inside (if any)\n",
    "            - Coordinates of the respective quadrant\n",
    "    \"\"\"\n",
    "    index = 0\n",
    "    quadrant_index = []\n",
    "    points_inside = []\n",
    "    for quadrant in geometry:\n",
    "        for point in points:\n",
    "            is_inside = quadrant.contains(point)\n",
    "            if is_inside == True:\n",
    "                coords = np.dstack(quadrant.boundary.coords.xy).tolist()\n",
    "                quadrant_index.append(index)\n",
    "                points_inside.append(point)\n",
    "                print('The point is inside of the #', index, 'quadrant. With coordinates: ', coords, '\\n')\n",
    "            \n",
    "        index += 1\n",
    "        \n",
    "    if len(points) != len(quadrant_index):\n",
    "        print('One of the point/s is outside of the detectection area!\\n')\n",
    "        \n",
    "    print('\\nAmount of scanned quadrants:', index)\n",
    "    if len(quadrant_index) == 0:\n",
    "        quadrant_index = False\n",
    "        coords = False\n",
    "        print('The point is not inside of the geometry!')\n",
    "    return quadrant_index, coords, points_inside"
   ]
  },
  {
   "cell_type": "code",
   "execution_count": 332,
   "id": "fbcd4f65-71b2-4bdf-bf7b-e933b0e3792f",
   "metadata": {},
   "outputs": [],
   "source": [
    "def get_propagation_data(objects_inside):\n",
    "    #max noise distance possible = quadrant size\n",
    "    noise_max = 0.06 \n",
    "    #origin coordinates for each sensor\n",
    "    sensors_coordinates = [sensor_1_coordinates, sensor_2_coordinates, sensor_3_coordinates]\n",
    "\n",
    "    output_data = np.zeros([1,3,81])\n",
    "    \n",
    "    traced_objects_coordinates = []\n",
    "\n",
    "    #for each sensor\n",
    "    for sensor in range(sensors):\n",
    "        #get the origin point\n",
    "        origin_coord = sensors_coordinates[sensor]\n",
    "\n",
    "        #for every object\n",
    "        for object_to_trace in objects_inside:\n",
    "            #get the centroid of the object\n",
    "            object_to_trace_coordinates = np.dstack(grid_geometry[object_to_trace].centroid.coords.xy).tolist()[0][0]\n",
    "            #get the rount trip distance from the sensor origin to the object\n",
    "            round_trip_distance = 2 * math.dist(object_to_trace_coordinates, origin_coord)\n",
    "            #add noise to the trip distance (sensors are not perfect while detecting)\n",
    "            rand_int = np.random.default_rng().integers(low=-100, high=100, size=1)[0]  #Random integer between -100 and 100\n",
    "            noise = (rand_int/100)*noise_max  #calculate noise\n",
    "            round_trip_distance = round_trip_distance + noise  #add noise to the real distance measure\n",
    "            #get the rount trip time\n",
    "            round_trip_time = round_trip_distance / propagation_speed\n",
    "            #get the final wave amplitude\n",
    "            wave_amplitude = initial_amplitude * np.exp((-2e-13)*propagation_speed*(wave_frequency**2)*round_trip_time) \n",
    "\n",
    "            #quantize the travel time\n",
    "            quantized_time = round_trip_time / sampling_rate\n",
    "            if quantized_time > 81:\n",
    "                quantized_time = 81\n",
    "            \n",
    "            #Fill the output data matrix with the calculated values\n",
    "            #Note: The value will be 1 until the wave propagation analysis is solved.\n",
    "            output_data[0][sensor][int(np.round(quantized_time) - 1)] = 1\n",
    "            \n",
    "            if sensor == 0:\n",
    "                traced_objects_coordinates.append(object_to_trace_coordinates)\n",
    "            \n",
    "        \n",
    "        #print(np.round(quantized_time))\n",
    "        \n",
    "    return traced_objects_coordinates, output_data"
   ]
  },
  {
   "cell_type": "code",
   "execution_count": 330,
   "id": "6cd21b61-953b-486f-bdc0-cb5fe70fc617",
   "metadata": {},
   "outputs": [],
   "source": [
    "def get_distance(p1, p2):\n",
    "    \"\"\"\n",
    "    Description: Function to return the Eucledian distance between 2 points\n",
    "    Input: p1: First point with coordinates x1,y1\n",
    "            p2: Second point with coordinates x2,y2\n",
    "    Output: Eucleadian distance between p1 and p2\n",
    "    \"\"\"\n",
    "    x2 = p2[0]\n",
    "    x1 = p1[0]\n",
    "    y2 = p2[1]\n",
    "    y1 = p1[1]\n",
    "    dist = math.sqrt((x2 - x1)**2 + (y2 - y1)**2)\n",
    "    \n",
    "    return dist"
   ]
  },
  {
   "cell_type": "markdown",
   "id": "087cfb3a-0c0b-47a3-bdb7-c372b5117cea",
   "metadata": {},
   "source": [
    "### Geometries calculation"
   ]
  },
  {
   "cell_type": "code",
   "execution_count": 5,
   "id": "cd248746-8308-4389-89b5-77440dff8c5e",
   "metadata": {},
   "outputs": [
    {
     "data": {
      "image/png": "[encoded data removed]",
      "text/plain": [
       "<Figure size 432x432 with 1 Axes>"
      ]
     },
     "metadata": {
      "needs_background": "light"
     },
     "output_type": "display_data"
    }
   ],
   "source": [
    "#Geometry of the main beam (sensor 2)\n",
    "#create a triangle with coordinates points\n",
    "p1 = Point(0,0)\n",
    "p2 = Point(0.26, 1.983)\n",
    "p3 = Point(-0.26, 1.983)\n",
    "\n",
    "triangle1 = Polygon([p1, p2,p3])\n",
    "\n",
    "#create a circle\n",
    "diameter = 1\n",
    "circle1 = Point(0, 1).buffer(diameter, resolution= 50000)\n",
    "\n",
    "#intersect both geometries\n",
    "geometry_1 = triangle1.intersection(circle1)\n",
    "\n",
    "#calculate the origin coordinates for the beam sensor\n",
    "sensor_2_coordinates = np.dstack(p1.coords.xy).tolist()[0][0]\n",
    "\n",
    "x, y = geometry_1.exterior.xy\n",
    "plt.plot(x, y)\n",
    "plt.xlim([-0.5,0.5])\n",
    "plt.ylim([0, 2.2])\n",
    "plt.title('Main beam area')\n",
    "plt.show()"
   ]
  },
  {
   "cell_type": "code",
   "execution_count": 6,
   "id": "284c6743-84d2-432a-9dbe-af5c6d1fa493",
   "metadata": {},
   "outputs": [],
   "source": [
    "#Geometry of the secondary left beam (sensor 1)\n",
    "\n",
    "#rotate by the main beam by the upper-right point\n",
    "rotate_point = (-0.26, 1.983)\n",
    "rotation_angle = -5\n",
    "geometry_2 = affinity.rotate(geometry_1,\n",
    "                             rotation_angle,\n",
    "                             rotate_point)\n",
    "#calculate the origin coordinates for the beam sensor\n",
    "sensor_1_coordinates = np.dstack(affinity.rotate(triangle1,\n",
    "                                 rotation_angle,\n",
    "                                 rotate_point).exterior.coords.xy).tolist()[0][0]"
   ]
  },
  {
   "cell_type": "code",
   "execution_count": 7,
   "id": "342e8332-1cfd-460f-8d71-f5822ce158f8",
   "metadata": {},
   "outputs": [],
   "source": [
    "#Geometry of the third right beam (sensor 3)\n",
    "\n",
    "#rotate by the main beam by the upper-right point\n",
    "rotate_point = (0.26, 1.983)\n",
    "rotation_angle = +5\n",
    "geometry_3 = affinity.rotate(geometry_1,\n",
    "                             rotation_angle,\n",
    "                             rotate_point)\n",
    "#calculate the origin coordinates for the beam sensor\n",
    "sensor_3_coordinates = np.dstack(affinity.rotate(triangle1,\n",
    "                                 rotation_angle,\n",
    "                                 rotate_point).exterior.coords.xy).tolist()[0][0]"
   ]
  },
  {
   "cell_type": "code",
   "execution_count": 8,
   "id": "29f05ef0-4678-4c4c-a8ed-7b9cb1ad073a",
   "metadata": {},
   "outputs": [
    {
     "data": {
      "image/png": "[encoded data removed]",
      "text/plain": [
       "<Figure size 432x432 with 1 Axes>"
      ]
     },
     "metadata": {
      "needs_background": "light"
     },
     "output_type": "display_data"
    }
   ],
   "source": [
    "#Unify all the geometries\n",
    "int_1 = geometry_1.intersection(geometry_2)\n",
    "int_2 = geometry_1.intersection(geometry_3)\n",
    "int_3 = int_1.union(int_2)\n",
    "\n",
    "#plot main beam geometry\n",
    "x, y = geometry_1.exterior.xy\n",
    "plt.plot(x, y, label = 'Main beam - S2')\n",
    "#plot secondary left beam geometry\n",
    "x, y = geometry_2.exterior.xy\n",
    "plt.plot(x, y, label = 'Left beam - S1')\n",
    "#plot secondary right beam geometry\n",
    "x, y = geometry_3.exterior.xy\n",
    "plt.plot(x, y, label = 'Right beam - S3')\n",
    "#plot interception of the 3 beams and resulting effective detection area\n",
    "x, y = int_3.exterior.xy\n",
    "plt.plot(x, y, label = 'Intercepted area')\n",
    "\n",
    "#plot the sensor 1 origin\n",
    "x,y = Point(sensor_1_coordinates[0],\n",
    "            sensor_1_coordinates[1]).buffer(0.022).exterior.xy\n",
    "plt.plot(x,y, color = 'black')\n",
    "#plot the sensor 2 origin\n",
    "x,y = p1.buffer(0.02).exterior.xy\n",
    "plt.plot(x,y, color = 'black')\n",
    "#plot the sensor 3 origin\n",
    "x,y = Point(sensor_3_coordinates[0],\n",
    "            sensor_3_coordinates[1]).buffer(0.022).exterior.xy\n",
    "plt.plot(x,y, color = 'black')\n",
    "\n",
    "plt.legend()\n",
    "plt.xlim([-1.1, 1.1])\n",
    "plt.ylim([0, 2.2])\n",
    "plt.title('Sensors beams and intercepted area')\n",
    "plt.show()"
   ]
  },
  {
   "cell_type": "code",
   "execution_count": 9,
   "id": "3d582de1-a2b0-45ec-a5da-e10006e425d4",
   "metadata": {},
   "outputs": [
    {
     "name": "stdout",
     "output_type": "stream",
     "text": [
      "The point is inside of the # 0 quadrant. With coordinates:  [[[-0.19779715385655988, 1.5639593874382902], [-0.19779715385655988, 1.5039593874382902], [-0.2577971538565599, 1.5039593874382902], [-0.2577971538565599, 1.5639593874382902], [-0.19779715385655988, 1.5639593874382902]]] \n",
      "\n",
      "The point is inside of the # 17 quadrant. With coordinates:  [[[-0.13779715385655988, 1.6239593874382903], [-0.13779715385655988, 1.5639593874382902], [-0.19779715385655988, 1.5639593874382902], [-0.19779715385655988, 1.6239593874382903], [-0.13779715385655988, 1.6239593874382903]]] \n",
      "\n",
      "The point is inside of the # 42 quadrant. With coordinates:  [[[-0.07779715385655989, 1.6839593874382899], [-0.07779715385655989, 1.6239593874382898], [-0.13779715385655988, 1.6239593874382898], [-0.13779715385655988, 1.6839593874382899], [-0.07779715385655989, 1.6839593874382899]]] \n",
      "\n",
      "The point is inside of the # 68 quadrant. With coordinates:  [[[-0.01779715385655989, 1.74395938743829], [-0.01779715385655989, 1.6839593874382899], [-0.07779715385655989, 1.6839593874382899], [-0.07779715385655989, 1.74395938743829], [-0.01779715385655989, 1.74395938743829]]] \n",
      "\n",
      "The point is inside of the # 92 quadrant. With coordinates:  [[[0.04220284614344011, 1.74395938743829], [0.04220284614344011, 1.6839593874382899], [-0.01779715385655989, 1.6839593874382899], [-0.01779715385655989, 1.74395938743829], [0.04220284614344011, 1.74395938743829]]] \n",
      "\n",
      "\n",
      "Amount of scanned quadrants: 161\n",
      "\n",
      "\n"
     ]
    },
    {
     "data": {
      "image/png": "[encoded data removed]",
      "text/plain": [
       "<Figure size 432x432 with 1 Axes>"
      ]
     },
     "metadata": {
      "needs_background": "light"
     },
     "output_type": "display_data"
    }
   ],
   "source": [
    "#divide the final geometry into equally size quadrants\n",
    "quadrant_size = 0.06\n",
    "grid_geometry = make_grid(int_3,\n",
    "                          quadrant_size)\n",
    "\n",
    "#place an object and identify in which quadrant it is located\n",
    "objects_coordinates = [ Point(-0.22779715385655996, 1.5339593874382902),\n",
    "                        Point(-0.16, 1.58),\n",
    "                        Point(-0.10, 1.64),\n",
    "                        Point(-0.04, 1.70),\n",
    "                        Point(0.02, 1.70)]\n",
    "\n",
    "#If any, calculate the quadrants in wich the objects are placed\n",
    "affected_quadrant = check_is_inside(grid_geometry, objects_coordinates)\n",
    "\n",
    "print('\\n')\n",
    "\n",
    "#plot the grid \n",
    "grid_geometry.boundary.plot(label = 'Quadrant grid')\n",
    "\n",
    "#plot the composed beam area\n",
    "x, y = int_3.exterior.xy\n",
    "plt.plot(x, y, label = 'Beam Area', color= 'black')\n",
    "\n",
    "#plot the objects\n",
    "for object_coordinates in affected_quadrant[2]:\n",
    "    x,y = object_coordinates.buffer(0.03).exterior.xy\n",
    "    plt.plot(x,y, color = 'red', label = 'object')\n",
    "    \n",
    "plt.xlim([-1,1])\n",
    "plt.ylim([0, 2])\n",
    "plt.legend()\n",
    "plt.show()\n"
   ]
  },
  {
   "cell_type": "markdown",
   "id": "d6bfcb29-73ab-4b64-b17f-9bf9d228edab",
   "metadata": {},
   "source": [
    "### Ray-tracing"
   ]
  },
  {
   "cell_type": "markdown",
   "id": "297e375e-6a35-455e-ade5-02b556abfb57",
   "metadata": {},
   "source": [
    "We need to generate randomly placed Points inside of the quadrant area (grid).\n",
    "Taking into account the max number of objects, starting with only 1 object, move it around the detection area and save that data.\n",
    "Then add another object and repeat the taks, but now the available possibilities are much bigger, so we can limitate the number of data to create by condition:\n",
    "one of the conditions will be the minimum distance between objects, or the number of iterations.\n",
    "Repeat the procedure for all the allowed objects.\n",
    "\n",
    "Is important to create the label for the model, in this case will be the quadrant number associated to the scanned objects."
   ]
  },
  {
   "cell_type": "code",
   "execution_count": 383,
   "id": "10d422b9-67f3-46ef-870a-71784d937af6",
   "metadata": {
    "tags": []
   },
   "outputs": [],
   "source": [
    "quadrant_number = 161\n",
    "max_object_number = 4\n",
    "\n",
    "placed_objects = []\n",
    "traced_data = np.zeros([quadrant_number, 3, 81])\n",
    "label_quadrant = []\n",
    "\n",
    "for object_to_place in range(max_object_number+1):\n",
    "    #Combinations for 1 object\n",
    "    if object_to_place == 1:\n",
    "        #will be the total number of possible quadrants\n",
    "        for i in range(quadrant_number):\n",
    "            #calculate the propagation characteristics\n",
    "            a = get_propagation_data([i])\n",
    "            \n",
    "            #placed objects coords - for later printing - \n",
    "            placed_objects.append(a[0][0])\n",
    "            #Add the calculated data\n",
    "            traced_data[i] = a[1]\n",
    "            \n",
    "            #add the quadrant to the label vector\n",
    "            label_quadrant.append([i])\n",
    "            \n",
    "    #Combinations for 2 objects        \n",
    "    if object_to_place == 2:\n",
    "        #create fixed number of combinations - by factor - \n",
    "        for i in range(15*quadrant_number):\n",
    "            #random number generator within the allowed quadrant number\n",
    "            random_numbers = np.random.random([1, quadrant_number])\n",
    "            samples = np.argsort(random_numbers, axis=1)\n",
    "            \n",
    "            #select 4 random numbers \n",
    "            rand_position_1 = samples[0][0]\n",
    "            rand_position_2 = samples[0][1]\n",
    "                \n",
    "            #calculate the propagation characteristics for each object\n",
    "            a = get_propagation_data([rand_position_1,\n",
    "                                      rand_position_2])\n",
    "            #Add the calculated data\n",
    "            traced_data = np.append(traced_data, np.array(a[1]), axis = 0)\n",
    "            \n",
    "            #add the quadrant to the label vector\n",
    "            label_quadrant.append([rand_position_1, rand_position_2])\n",
    "            \n",
    "    #Combinations for 3 objects        \n",
    "    if object_to_place == 3:\n",
    "        #create fixed number of combinations - by factor - \n",
    "        for i in range(30*quadrant_number):\n",
    "            #random number generator within the allowed quadrant number\n",
    "            random_numbers = np.random.random([1, quadrant_number])\n",
    "            samples = np.argsort(random_numbers, axis=1)\n",
    "            \n",
    "            #select 4 random numbers \n",
    "            rand_position_1 = samples[0][0]\n",
    "            rand_position_2 = samples[0][1]\n",
    "            rand_position_3 = samples[0][2]\n",
    "                \n",
    "            #calculate the propagation characteristics for each object\n",
    "            a = get_propagation_data([rand_position_1,\n",
    "                                      rand_position_2,\n",
    "                                      rand_position_3])\n",
    "            #Add the calculated data\n",
    "            traced_data = np.append(traced_data, np.array(a[1]), axis = 0)\n",
    "            \n",
    "            #add the quadrant to the label vector\n",
    "            label_quadrant.append([rand_position_1, rand_position_2, rand_position_3])\n",
    "            \n",
    "    #Combinations for 4 objects        \n",
    "    if object_to_place == 4:\n",
    "        #create fixed number of combinations - by factor - \n",
    "        for i in range(60*quadrant_number):\n",
    "            #random number generator within the allowed quadrant number\n",
    "            random_numbers = np.random.random([1, quadrant_number])\n",
    "            samples = np.argsort(random_numbers, axis=1)\n",
    "            \n",
    "            #select 4 random numbers \n",
    "            rand_position_1 = samples[0][0]\n",
    "            rand_position_2 = samples[0][1]\n",
    "            rand_position_3 = samples[0][2]\n",
    "            rand_position_4 = samples[0][3]\n",
    "            \n",
    "            #calculate the propagation characteristics for each object\n",
    "            a = get_propagation_data([rand_position_1,\n",
    "                                      rand_position_2,\n",
    "                                      rand_position_3,\n",
    "                                      rand_position_4])\n",
    "            #Add the calculated data\n",
    "            traced_data = np.append(traced_data, np.array(a[1]), axis = 0)\n",
    "            \n",
    "            #add the quadrant to the label vector\n",
    "            label_quadrant.append([rand_position_1, rand_position_2, rand_position_3, rand_position_4])"
   ]
  },
  {
   "cell_type": "code",
   "execution_count": 384,
   "id": "c6511862-2ad6-4e43-b977-c9d4bc343887",
   "metadata": {
    "tags": []
   },
   "outputs": [
    {
     "data": {
      "text/plain": [
       "17066"
      ]
     },
     "execution_count": 384,
     "metadata": {},
     "output_type": "execute_result"
    }
   ],
   "source": [
    "len(label_quadrant)"
   ]
  },
  {
   "cell_type": "code",
   "execution_count": 379,
   "id": "8ea75e7e-4706-4053-9b8d-e24ccb6ee42e",
   "metadata": {},
   "outputs": [],
   "source": [
    "traced_data = get_propagation_data([0, 17, 42, 68, 92])[1]\n",
    "label_quadrant = [[0, 17, 42, 68, 92]]"
   ]
  },
  {
   "cell_type": "code",
   "execution_count": 394,
   "id": "4008a9ae-28a7-4896-99ff-d46387f63de8",
   "metadata": {},
   "outputs": [
    {
     "name": "stdout",
     "output_type": "stream",
     "text": [
      "Output data shape:  (17066, 3, 81)\n",
      "\n",
      "Random object position and reflexion spectrum: \n",
      "\n"
     ]
    },
    {
     "data": {
      "image/png": "[encoded data removed]",
      "text/plain": [
       "<Figure size 432x432 with 1 Axes>"
      ]
     },
     "metadata": {
      "needs_background": "light"
     },
     "output_type": "display_data"
    },
    {
     "name": "stdout",
     "output_type": "stream",
     "text": [
      "AxesSubplot(0.125,0.125;0.62x0.755)\n"
     ]
    },
    {
     "data": {
      "image/png": "[encoded data removed]",
      "text/plain": [
       "<Figure size 432x432 with 2 Axes>"
      ]
     },
     "metadata": {
      "needs_background": "light"
     },
     "output_type": "display_data"
    }
   ],
   "source": [
    "#shape of the output data\n",
    "print('Output data shape: ',traced_data.shape)\n",
    "\n",
    "print('\\nRandom object position and reflexion spectrum: \\n')\n",
    "\n",
    "rand_obj = label_quadrant[1000]\n",
    "\n",
    "#plot the grid \n",
    "grid_geometry.boundary.plot(label = 'Quadrant grid')\n",
    "\n",
    "#plot the composed beam area\n",
    "x, y = int_3.exterior.xy\n",
    "plt.plot(x, y, label = 'Beam Area', color= 'black')\n",
    "\n",
    "#plot the objects\n",
    "for object_coordinates in rand_obj:\n",
    "    coords = np.dstack(grid_geometry[object_coordinates].centroid.coords.xy).tolist()[0][0]\n",
    "    temp_obj = Point(coords)\n",
    "    x,y = temp_obj.buffer(0.03).exterior.xy\n",
    "    plt.plot(x,y, color = 'red', label = 'object')\n",
    "    \n",
    "plt.xlim([-1,1])\n",
    "plt.ylim([0, 2])\n",
    "plt.legend()\n",
    "plt.show()\n",
    "\n",
    "print(sns.heatmap(traced_data[1000]))"
   ]
  },
  {
   "cell_type": "markdown",
   "id": "dda696e4-6f06-4da8-87c1-7b7d1e18adbe",
   "metadata": {},
   "source": [
    "### Data preparation"
   ]
  },
  {
   "cell_type": "code",
   "execution_count": 395,
   "id": "5e4565f6-43ff-43e9-829c-d50ed2ed34c0",
   "metadata": {},
   "outputs": [
    {
     "name": "stdout",
     "output_type": "stream",
     "text": [
      "Flattened data shape: (17066, 243)\n",
      "\n",
      "Heat map:\n",
      "\n"
     ]
    },
    {
     "data": {
      "text/plain": [
       "<AxesSubplot:>"
      ]
     },
     "execution_count": 395,
     "metadata": {},
     "output_type": "execute_result"
    },
    {
     "data": {
      "image/png": "[encoded data removed]",
      "text/plain": [
       "<Figure size 432x432 with 2 Axes>"
      ]
     },
     "metadata": {
      "needs_background": "light"
     },
     "output_type": "display_data"
    }
   ],
   "source": [
    "#flatten the data into 2D array\n",
    "flatten_data = traced_data.reshape(traced_data.shape[0],\n",
    "                      (traced_data.shape[1] * traced_data.shape[2]))\n",
    "\n",
    "print('Flattened data shape:', flatten_data.shape)\n",
    "\n",
    "print('\\nHeat map:\\n')\n",
    "sns.heatmap(flatten_data)"
   ]
  },
  {
   "cell_type": "markdown",
   "id": "5d16f82a-5e0e-4e07-8fe6-7c6ae7f7b968",
   "metadata": {},
   "source": [
    "Transform the labels into a M,N dimentional output, where N is the number of quadrants of the effective detection area and M is the amount of samples taken"
   ]
  },
  {
   "cell_type": "code",
   "execution_count": 396,
   "id": "a68b741c-9d70-44ad-bc9e-04fc95232fc6",
   "metadata": {
    "tags": []
   },
   "outputs": [
    {
     "name": "stdout",
     "output_type": "stream",
     "text": [
      "Dataset label shape:  (17066, 161)\n"
     ]
    }
   ],
   "source": [
    "label = np.zeros((traced_data.shape[0], quadrant_number))\n",
    "for i in range(len(label)):\n",
    "    position = label_quadrant[i]\n",
    "    label[i][position] = 1\n",
    "\n",
    "print('Dataset label shape: ', label.shape)"
   ]
  },
  {
   "cell_type": "markdown",
   "id": "121b72ae-6540-4436-9303-53cb62e2cb1a",
   "metadata": {},
   "source": [
    "### Data to CSV transformation"
   ]
  },
  {
   "cell_type": "markdown",
   "id": "6f9503ad-4c06-4154-b586-b3173a25159f",
   "metadata": {},
   "source": [
    "features_3/labels_3 -> include random noise "
   ]
  },
  {
   "cell_type": "code",
   "execution_count": 397,
   "id": "67fabd11-37e4-40cd-8b9c-0b5fa6976f47",
   "metadata": {},
   "outputs": [],
   "source": [
    "#add header to the data - for later export to CSV - \n",
    "header = []\n",
    "for i in range(flatten_data.shape[1]):\n",
    "    header.append(str(i))\n",
    "features_to_export = np.insert(flatten_data, 0, header, axis = 0)\n",
    "\n",
    "#save flatten data into CSV\n",
    "np.savetxt(\"datasets/features_3.csv\", features_to_export, delimiter=\",\", fmt = '%d')"
   ]
  },
  {
   "cell_type": "code",
   "execution_count": 398,
   "id": "07290375-5537-4ce5-9f11-ae0967115eac",
   "metadata": {},
   "outputs": [],
   "source": [
    "#insert header\n",
    "header = []\n",
    "for i in range(label.shape[1]):\n",
    "    header.append(str(i))\n",
    "    \n",
    "label_to_export = np.insert(label, 0, header, axis = 0)\n",
    "\n",
    "#save label data into CSV\n",
    "np.savetxt(\"datasets/labels_3.csv\", label_to_export, delimiter=\",\", fmt = '%d')"
   ]
  },
  {
   "cell_type": "markdown",
   "id": "b2d76e81-2356-4ae4-be7f-16275ca38da2",
   "metadata": {},
   "source": [
    "#### Check if the saved data is the same as the data before export\n",
    "\n",
    "Labels:"
   ]
  },
  {
   "cell_type": "code",
   "execution_count": 399,
   "id": "262a4880-58cc-4b09-9ef9-51888ac3aeec",
   "metadata": {},
   "outputs": [
    {
     "data": {
      "text/html": [
       "<div>\n",
       "<style scoped>\n",
       "    .dataframe tbody tr th:only-of-type {\n",
       "        vertical-align: middle;\n",
       "    }\n",
       "\n",
       "    .dataframe tbody tr th {\n",
       "        vertical-align: top;\n",
       "    }\n",
       "\n",
       "    .dataframe thead th {\n",
       "        text-align: right;\n",
       "    }\n",
       "</style>\n",
       "<table border=\"1\" class=\"dataframe\">\n",
       "  <thead>\n",
       "    <tr style=\"text-align: right;\">\n",
       "      <th></th>\n",
       "      <th>0</th>\n",
       "      <th>1</th>\n",
       "      <th>2</th>\n",
       "      <th>3</th>\n",
       "      <th>4</th>\n",
       "      <th>5</th>\n",
       "      <th>6</th>\n",
       "      <th>7</th>\n",
       "      <th>8</th>\n",
       "      <th>9</th>\n",
       "      <th>...</th>\n",
       "      <th>151</th>\n",
       "      <th>152</th>\n",
       "      <th>153</th>\n",
       "      <th>154</th>\n",
       "      <th>155</th>\n",
       "      <th>156</th>\n",
       "      <th>157</th>\n",
       "      <th>158</th>\n",
       "      <th>159</th>\n",
       "      <th>160</th>\n",
       "    </tr>\n",
       "  </thead>\n",
       "  <tbody>\n",
       "    <tr>\n",
       "      <th>0</th>\n",
       "      <td>1</td>\n",
       "      <td>0</td>\n",
       "      <td>0</td>\n",
       "      <td>0</td>\n",
       "      <td>0</td>\n",
       "      <td>0</td>\n",
       "      <td>0</td>\n",
       "      <td>0</td>\n",
       "      <td>0</td>\n",
       "      <td>0</td>\n",
       "      <td>...</td>\n",
       "      <td>0</td>\n",
       "      <td>0</td>\n",
       "      <td>0</td>\n",
       "      <td>0</td>\n",
       "      <td>0</td>\n",
       "      <td>0</td>\n",
       "      <td>0</td>\n",
       "      <td>0</td>\n",
       "      <td>0</td>\n",
       "      <td>0</td>\n",
       "    </tr>\n",
       "    <tr>\n",
       "      <th>1</th>\n",
       "      <td>0</td>\n",
       "      <td>1</td>\n",
       "      <td>0</td>\n",
       "      <td>0</td>\n",
       "      <td>0</td>\n",
       "      <td>0</td>\n",
       "      <td>0</td>\n",
       "      <td>0</td>\n",
       "      <td>0</td>\n",
       "      <td>0</td>\n",
       "      <td>...</td>\n",
       "      <td>0</td>\n",
       "      <td>0</td>\n",
       "      <td>0</td>\n",
       "      <td>0</td>\n",
       "      <td>0</td>\n",
       "      <td>0</td>\n",
       "      <td>0</td>\n",
       "      <td>0</td>\n",
       "      <td>0</td>\n",
       "      <td>0</td>\n",
       "    </tr>\n",
       "    <tr>\n",
       "      <th>2</th>\n",
       "      <td>0</td>\n",
       "      <td>0</td>\n",
       "      <td>1</td>\n",
       "      <td>0</td>\n",
       "      <td>0</td>\n",
       "      <td>0</td>\n",
       "      <td>0</td>\n",
       "      <td>0</td>\n",
       "      <td>0</td>\n",
       "      <td>0</td>\n",
       "      <td>...</td>\n",
       "      <td>0</td>\n",
       "      <td>0</td>\n",
       "      <td>0</td>\n",
       "      <td>0</td>\n",
       "      <td>0</td>\n",
       "      <td>0</td>\n",
       "      <td>0</td>\n",
       "      <td>0</td>\n",
       "      <td>0</td>\n",
       "      <td>0</td>\n",
       "    </tr>\n",
       "    <tr>\n",
       "      <th>3</th>\n",
       "      <td>0</td>\n",
       "      <td>0</td>\n",
       "      <td>0</td>\n",
       "      <td>1</td>\n",
       "      <td>0</td>\n",
       "      <td>0</td>\n",
       "      <td>0</td>\n",
       "      <td>0</td>\n",
       "      <td>0</td>\n",
       "      <td>0</td>\n",
       "      <td>...</td>\n",
       "      <td>0</td>\n",
       "      <td>0</td>\n",
       "      <td>0</td>\n",
       "      <td>0</td>\n",
       "      <td>0</td>\n",
       "      <td>0</td>\n",
       "      <td>0</td>\n",
       "      <td>0</td>\n",
       "      <td>0</td>\n",
       "      <td>0</td>\n",
       "    </tr>\n",
       "    <tr>\n",
       "      <th>4</th>\n",
       "      <td>0</td>\n",
       "      <td>0</td>\n",
       "      <td>0</td>\n",
       "      <td>0</td>\n",
       "      <td>1</td>\n",
       "      <td>0</td>\n",
       "      <td>0</td>\n",
       "      <td>0</td>\n",
       "      <td>0</td>\n",
       "      <td>0</td>\n",
       "      <td>...</td>\n",
       "      <td>0</td>\n",
       "      <td>0</td>\n",
       "      <td>0</td>\n",
       "      <td>0</td>\n",
       "      <td>0</td>\n",
       "      <td>0</td>\n",
       "      <td>0</td>\n",
       "      <td>0</td>\n",
       "      <td>0</td>\n",
       "      <td>0</td>\n",
       "    </tr>\n",
       "  </tbody>\n",
       "</table>\n",
       "<p>5 rows × 161 columns</p>\n",
       "</div>"
      ],
      "text/plain": [
       "   0  1  2  3  4  5  6  7  8  9  ...  151  152  153  154  155  156  157  158  \\\n",
       "0  1  0  0  0  0  0  0  0  0  0  ...    0    0    0    0    0    0    0    0   \n",
       "1  0  1  0  0  0  0  0  0  0  0  ...    0    0    0    0    0    0    0    0   \n",
       "2  0  0  1  0  0  0  0  0  0  0  ...    0    0    0    0    0    0    0    0   \n",
       "3  0  0  0  1  0  0  0  0  0  0  ...    0    0    0    0    0    0    0    0   \n",
       "4  0  0  0  0  1  0  0  0  0  0  ...    0    0    0    0    0    0    0    0   \n",
       "\n",
       "   159  160  \n",
       "0    0    0  \n",
       "1    0    0  \n",
       "2    0    0  \n",
       "3    0    0  \n",
       "4    0    0  \n",
       "\n",
       "[5 rows x 161 columns]"
      ]
     },
     "execution_count": 399,
     "metadata": {},
     "output_type": "execute_result"
    }
   ],
   "source": [
    "df_label = pd.read_csv('datasets/labels_3.csv')\n",
    "df_label.head()"
   ]
  },
  {
   "cell_type": "markdown",
   "id": "bad23e18-793f-4bb6-aae0-e41762317492",
   "metadata": {},
   "source": [
    "The number of columns is correct (same as quadrants).\n",
    "The first value 1 is located in the column 0, wich is correct due is the first placed position for the analysis.\n",
    "\n",
    "Features:"
   ]
  },
  {
   "cell_type": "code",
   "execution_count": 400,
   "id": "f88ba8aa-737e-466a-bbe6-e8ffa78ad79f",
   "metadata": {
    "tags": []
   },
   "outputs": [
    {
     "data": {
      "text/plain": [
       "<AxesSubplot:>"
      ]
     },
     "execution_count": 400,
     "metadata": {},
     "output_type": "execute_result"
    },
    {
     "data": {
      "image/png": "[encoded data removed]",
      "text/plain": [
       "<Figure size 432x432 with 2 Axes>"
      ]
     },
     "metadata": {
      "needs_background": "light"
     },
     "output_type": "display_data"
    }
   ],
   "source": [
    "df_features = pd.read_csv('datasets/features_3.csv')\n",
    "\n",
    "#print heat map\n",
    "sns.heatmap(df_features)"
   ]
  },
  {
   "cell_type": "code",
   "execution_count": 401,
   "id": "645dd203-2132-4f43-9ad5-ce7f9d000602",
   "metadata": {
    "tags": []
   },
   "outputs": [
    {
     "data": {
      "text/plain": [
       "<AxesSubplot:>"
      ]
     },
     "execution_count": 401,
     "metadata": {},
     "output_type": "execute_result"
    },
    {
     "data": {
      "image/png": "[encoded data removed]",
      "text/plain": [
       "<Figure size 432x432 with 2 Axes>"
      ]
     },
     "metadata": {
      "needs_background": "light"
     },
     "output_type": "display_data"
    }
   ],
   "source": [
    "#print heatmap for the local data, avoid first row due is the Header\n",
    "sns.heatmap(flatten_data)"
   ]
  },
  {
   "cell_type": "markdown",
   "id": "3c4845e7-8056-4af1-869d-9bdcf9aac9e1",
   "metadata": {},
   "source": [
    "Heat maps looks similar, but lets check manually if the numbers for a given row are the same.."
   ]
  },
  {
   "cell_type": "code",
   "execution_count": 402,
   "id": "c251f370-fb9b-4270-85d4-c9960673a617",
   "metadata": {
    "tags": []
   },
   "outputs": [
    {
     "data": {
      "text/plain": [
       "array([  0,  61,   0, 142,   0, 224,   1,  61,   1, 142,   1, 224])"
      ]
     },
     "execution_count": 402,
     "metadata": {},
     "output_type": "execute_result"
    }
   ],
   "source": [
    "#Position in wich a 1 is placed for the feature dataframe (load CSV)\n",
    "np.argwhere(np.isin(df_features.iloc[[0,0], :], 1)).ravel()"
   ]
  },
  {
   "cell_type": "code",
   "execution_count": 403,
   "id": "e01cc5bb-92c6-4366-9903-2a555f758ac0",
   "metadata": {},
   "outputs": [
    {
     "data": {
      "text/plain": [
       "array([  0,  61,   0, 142,   0, 224,   1,  61,   1, 142,   1, 224])"
      ]
     },
     "execution_count": 403,
     "metadata": {},
     "output_type": "execute_result"
    }
   ],
   "source": [
    "#Position in wich a 1 is placed for the local data\n",
    "np.argwhere(np.isin(flatten_data[[0,0], :], 1)).ravel()"
   ]
  },
  {
   "cell_type": "markdown",
   "id": "806eb269-837d-46ac-9afb-7a28b0e60092",
   "metadata": {},
   "source": [
    "**CONCLUSION:** All the numbers and graphs looks OK, We can continue with the model training due the data is correcly saved and correlated (features with labels)"
   ]
  },
  {
   "cell_type": "markdown",
   "id": "e392ffb3-163d-4ad2-a0e2-5ad3edb85b0e",
   "metadata": {},
   "source": [
    "### Wave attenuation analysis"
   ]
  },
  {
   "cell_type": "code",
   "execution_count": null,
   "id": "91c922af-c7eb-44ec-9ce7-fb660ba8fad7",
   "metadata": {},
   "outputs": [],
   "source": [
    "20*np.log10(1/wave_amplitude) "
   ]
  },
  {
   "cell_type": "code",
   "execution_count": null,
   "id": "2fe0febe-d43f-4ba7-9e23-b4b9bb678cf9",
   "metadata": {},
   "outputs": [],
   "source": [
    "##objects placed into the beam area\n",
    "objects_inside = [0, 93, 134]\n",
    "sensors_coordinates = [sensor_1_coordinates, sensor_2_coordinates, sensor_3_coordinates]\n",
    "\n",
    "output_data = np.zeros([3,80])\n",
    "    \n",
    "#for each sensor\n",
    "for sensor in range(sensors):\n",
    "    #get the origin point\n",
    "    origin_coord = sensors_coordinates[sensor]\n",
    "    \n",
    "    #for every object\n",
    "    for object_to_trace in objects_inside:\n",
    "        #get the centroid of the object\n",
    "        object_to_trace_coordinates = np.dstack(grid_geometry[object_to_trace].centroid.coords.xy).tolist()[0][0]\n",
    "        #get the rount trip distance from the sensor origin to the object\n",
    "        round_trip_distance = 2 * math.dist(object_to_trace_coordinates, origin_coord)\n",
    "        #get the rount trip time\n",
    "        round_trip_time = round_trip_distance / propagation_speed\n",
    "        #get the final wave amplitude\n",
    "        wave_amplitude = initial_amplitude * np.exp((-2e-13)*propagation_speed*(wave_frequency**2)*round_trip_time) \n",
    "        \n",
    "        #quantize the travel time\n",
    "        quantized_time = round_trip_time / sampling_rate\n",
    "        #Fill the output data matrix with the calculated values\n",
    "        #Note: The value will be 1 until the wave propagation analysis is solved.\n",
    "        output_data[sensor][int(np.round(quantized_time) - 1)] = 1\n",
    "        \n",
    "        print(np.round(quantized_time))\n",
    "        print(20*np.log10(wave_amplitude/1))\n",
    " \n",
    "print('\\n')\n",
    "rand_obj = label_quadrant[1190]\n",
    "\n",
    "#plot the grid \n",
    "grid_geometry.boundary.plot(label = 'Quadrant grid')\n",
    "\n",
    "#plot the composed beam area\n",
    "x, y = int_3.exterior.xy\n",
    "plt.plot(x, y, label = 'Beam Area', color= 'black')\n",
    "\n",
    "#plot the objects\n",
    "for object_coordinates in rand_obj:\n",
    "    coords = np.dstack(grid_geometry[object_coordinates].centroid.coords.xy).tolist()[0][0]\n",
    "    temp_obj = Point(coords)\n",
    "    x,y = temp_obj.buffer(0.03).exterior.xy\n",
    "    plt.plot(x,y, color = 'red', label = 'object')\n",
    "    \n",
    "plt.xlim([-1,1])\n",
    "plt.ylim([0, 2])\n",
    "plt.legend()\n",
    "plt.show()\n",
    "\n",
    "print(sns.heatmap(output_data))"
   ]
  },
  {
   "cell_type": "markdown",
   "id": "819c97f5-3482-4583-8496-dfce3772a750",
   "metadata": {},
   "source": [
    "### Training Validation"
   ]
  },
  {
   "cell_type": "code",
   "execution_count": 373,
   "id": "ce3f44e2-3fca-49b1-b111-7e10afea6f14",
   "metadata": {},
   "outputs": [
    {
     "data": {
      "image/png": "[encoded data removed]",
      "text/plain": [
       "<Figure size 432x432 with 1 Axes>"
      ]
     },
     "metadata": {
      "needs_background": "light"
     },
     "output_type": "display_data"
    }
   ],
   "source": [
    "real_obj = [89]\n",
    "predicted_obj = [89]\n",
    "#plot the grid \n",
    "#grid_geometry.boundary.plot(label = 'Quadrant grid')\n",
    "\n",
    "#plot the composed beam area\n",
    "x, y = int_3.exterior.xy\n",
    "plt.plot(x, y, label = 'Beam Area', color= 'black')\n",
    "\n",
    "#plot the objects\n",
    "for object_coordinates in real_obj:\n",
    "    coords = np.dstack(grid_geometry[object_coordinates].centroid.coords.xy).tolist()[0][0]\n",
    "    temp_obj = Point(coords)\n",
    "    x,y = temp_obj.buffer(0.03).exterior.xy\n",
    "    plt.plot(x,y, color = 'red', label = 'Real object')\n",
    "    \n",
    "for object_coordinates in predicted_obj:\n",
    "    coords = np.dstack(grid_geometry[object_coordinates].centroid.coords.xy).tolist()[0][0]\n",
    "    temp_obj = Point(coords)\n",
    "    x,y = temp_obj.buffer(0.021).exterior.xy\n",
    "    plt.plot(x,y, color = 'blue', label = 'Predicted object')\n",
    "    \n",
    "plt.xlim([-1,1])\n",
    "plt.ylim([0, 2])\n",
    "plt.legend()\n",
    "plt.show()"
   ]
  },
  {
   "cell_type": "markdown",
   "id": "4a94d7c6-a64e-4fc7-b56b-b19bb2ba6f39",
   "metadata": {},
   "source": [
    "Lets create a metric to analize the performance of the model.."
   ]
  },
  {
   "cell_type": "code",
   "execution_count": null,
   "id": "ae7371b3-1cb3-4b92-bc00-105088102a42",
   "metadata": {},
   "outputs": [],
   "source": [
    "#get the coordinates for every quadrant. Store it in a vector.\n",
    "quadrant_coords = []\n",
    "for quadrant in range(161):\n",
    "    quadrant_coords.append(np.dstack(grid_geometry[quadrant].centroid.coords.xy).tolist()[0][0])"
   ]
  },
  {
   "cell_type": "code",
   "execution_count": null,
   "id": "72c7c357-5618-4e7b-a568-41edf9646212",
   "metadata": {},
   "outputs": [],
   "source": [
    "#insert header\n",
    "header = [1]\n",
    "\n",
    "coords_to_export = np.insert(quadrant_coords, 0, header, axis = 0)\n",
    "\n",
    "#save label data into CSV\n",
    "np.savetxt(\"coords.csv\", coords_to_export, delimiter=\",\", fmt = '%f8')"
   ]
  },
  {
   "cell_type": "code",
   "execution_count": null,
   "id": "62878e9f-8613-4177-9522-efc05d3a75d9",
   "metadata": {},
   "outputs": [],
   "source": [
    "real_obj = [127, 128, 137]\n",
    "predicted_obj = [127, 128, 137, 1]\n",
    "#max distance that 2 objects can be\n",
    "max_range = 1.54"
   ]
  },
  {
   "cell_type": "code",
   "execution_count": null,
   "id": "a41ed7a8-df27-489b-b9d3-a7c8612ae8f3",
   "metadata": {},
   "outputs": [],
   "source": [
    "temp_acc = []\n",
    "for object_to_evaluate in real_obj:\n",
    "    temp_dist = []\n",
    "    if len(predicted_obj) == 0:\n",
    "        temp_acc.append(0)\n",
    "    else:\n",
    "        for object_to_compare in predicted_obj:\n",
    "            temp_dist.append(get_distance(quadrant_coords[object_to_evaluate],\n",
    "                                     quadrant_coords[object_to_compare]))\n",
    "        min_temp_dist = min(temp_dist)\n",
    "        temp_acc.append(1.0 - min_temp_dist/max_range)\n",
    "\n",
    "distance_accuracy = sum(temp_acc)/len(temp_acc)\n",
    "number_accuracy = 1 - (np.abs(len(predicted_obj)-len(real_obj))/len(real_obj))\n",
    "overall_accuracy = (distance_accuracy + number_accuracy) / 2\n",
    "\n",
    "print(overall_accuracy)"
   ]
  },
  {
   "cell_type": "code",
   "execution_count": null,
   "id": "13ebf96b-51bb-45ae-a690-f5a27d6a0acd",
   "metadata": {},
   "outputs": [],
   "source": [
    "number_accuracy = 1 - (np.abs(len(predicted_obj)-len(real_obj))/len(real_obj))\n",
    "\n",
    "print(number_accuracy)"
   ]
  },
  {
   "cell_type": "code",
   "execution_count": null,
   "id": "05a101aa-3964-4710-80ac-bf9bf390c548",
   "metadata": {},
   "outputs": [],
   "source": [
    "np.abs(-7)"
   ]
  },
  {
   "cell_type": "code",
   "execution_count": null,
   "id": "6c53ea82-23b0-455e-80aa-b01f3eec7845",
   "metadata": {},
   "outputs": [],
   "source": []
  },
  {
   "cell_type": "code",
   "execution_count": null,
   "id": "3b204697-ce25-45ec-9466-704759f26d07",
   "metadata": {},
   "outputs": [],
   "source": []
  },
  {
   "cell_type": "code",
   "execution_count": 171,
   "id": "d6e4190a-63c6-4a07-bb65-bd148826081d",
   "metadata": {},
   "outputs": [
    {
     "data": {
      "text/plain": [
       "21"
      ]
     },
     "execution_count": 171,
     "metadata": {},
     "output_type": "execute_result"
    }
   ],
   "source": [
    "#random number generator\n",
    "np.random.default_rng().integers(low=-100, high=100, size=1)[0]\n"
   ]
  },
  {
   "cell_type": "code",
   "execution_count": 349,
   "id": "df72dfa2-04e4-45cf-8b98-bed027fcdb08",
   "metadata": {},
   "outputs": [
    {
     "name": "stdout",
     "output_type": "stream",
     "text": [
      "0.0072\n"
     ]
    }
   ],
   "source": [
    "noise_max = 0.06 \n",
    "rand_int = np.random.default_rng().integers(low=-100, high=100, size=1)[0]  #Random integer between -100 and 100\n",
    "\n",
    "\n",
    "noise = (rand_int/100)*noise_max\n",
    "\n",
    "print(noise)"
   ]
  },
  {
   "cell_type": "code",
   "execution_count": null,
   "id": "42dc4efc-b950-4123-a19a-11383c36d047",
   "metadata": {},
   "outputs": [],
   "source": []
  }
 ],
 "metadata": {
  "kernelspec": {
   "display_name": "Python 3 (ipykernel)",
   "language": "python",
   "name": "python3"
  },
  "language_info": {
   "codemirror_mode": {
    "name": "ipython",
    "version": 3
   },
   "file_extension": ".py",
   "mimetype": "text/x-python",
   "name": "python",
   "nbconvert_exporter": "python",
   "pygments_lexer": "ipython3",
   "version": "3.11.13"
  }
 },
 "nbformat": 4,
 "nbformat_minor": 5
}
