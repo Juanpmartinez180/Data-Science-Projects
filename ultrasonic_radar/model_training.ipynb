{
 "cells": [
  {
   "cell_type": "markdown",
   "id": "e8a63cb1-f740-4e63-b927-6d562c9cbf1a",
   "metadata": {},
   "source": [
    "### Library import"
   ]
  },
  {
   "cell_type": "code",
   "execution_count": 1,
   "id": "5af1c3f5-4b15-427e-8730-ae135a06932a",
   "metadata": {},
   "outputs": [],
   "source": [
    "import numpy as np\n",
    "import matplotlib.pyplot as plt\n",
    "import pandas as pd\n",
    "import os\n",
    "import tensorflow as tf\n",
    "import math\n",
    "from matplotlib.pyplot import figure\n",
    "\n",
    "plt.rcParams[\"figure.figsize\"] = (6,6)\n",
    "\n",
    "#\n",
    "from sklearn.model_selection import train_test_split\n",
    "\n",
    "\n",
    "#---- CNN model libraries ----\n",
    "import keras \n",
    "from keras.models import Sequential\n",
    "from keras.layers import Dense\n",
    "from keras.optimizers import SGD\n",
    "from keras import callbacks\n",
    "from keras import backend as K\n",
    "from keras.models import load_model"
   ]
  },
  {
   "cell_type": "code",
   "execution_count": 2,
   "id": "53d64f3f-e4bc-4d21-bbd3-8515644b6f8a",
   "metadata": {},
   "outputs": [],
   "source": [
    "def get_distance(p1, p2):\n",
    "    \"\"\"\n",
    "    Description: Function to return the Eucledian distance between 2 points\n",
    "    Input: p1: First point with coordinates x1,y1\n",
    "            p2: Second point with coordinates x2,y2\n",
    "    Output: Eucleadian distance between p1 and p2\n",
    "    \"\"\"\n",
    "    x2 = p2[0]\n",
    "    x1 = p1[0]\n",
    "    y2 = p2[1]\n",
    "    y1 = p1[1]\n",
    "    dist = math.sqrt((x2 - x1)**2 + (y2 - y1)**2)\n",
    "    \n",
    "    return dist"
   ]
  },
  {
   "cell_type": "code",
   "execution_count": 3,
   "id": "0853c4b8-456a-43b2-a347-cff1cd2e705d",
   "metadata": {},
   "outputs": [],
   "source": [
    "#Define metric functions\n",
    "def recall_m(y_true, y_pred):\n",
    "    true_positives = K.sum(K.round(K.clip(y_true * y_pred, 0, 1)))\n",
    "    possible_positives = K.sum(K.round(K.clip(y_true, 0, 1)))\n",
    "    recall = true_positives / (possible_positives + K.epsilon())\n",
    "    return recall\n",
    "\n",
    "def precision_m(y_true, y_pred):\n",
    "    true_positives = K.sum(K.round(K.clip(y_true * y_pred, 0, 1)))\n",
    "    predicted_positives = K.sum(K.round(K.clip(y_pred, 0, 1)))\n",
    "    precision = true_positives / (predicted_positives + K.epsilon())\n",
    "    return precision\n",
    "\n",
    "def f1_m(y_true, y_pred):\n",
    "    precision = precision_m(y_true, y_pred)\n",
    "    recall = recall_m(y_true, y_pred)\n",
    "    return 2*((precision*recall)/(precision+recall+K.epsilon()))"
   ]
  },
  {
   "cell_type": "code",
   "execution_count": 4,
   "id": "40ba84cd-8566-4a99-85f9-5f436081c337",
   "metadata": {},
   "outputs": [],
   "source": [
    "def get_detection_accuracy(real_obj, predicted_obj):\n",
    "    #constant. Max possible detection range of the system\n",
    "    max_range = 1.54\n",
    "    temp_acc = []\n",
    "    #for  every real object\n",
    "    for object_to_evaluate in real_obj:\n",
    "        temp_dist = []\n",
    "        #if no predicted objects, return accuracy of 0\n",
    "        if len(predicted_obj) == 0:\n",
    "            temp_acc.append(0)\n",
    "        else:\n",
    "            #for every predicted object\n",
    "            for object_to_compare in predicted_obj:\n",
    "                #get the distance between real object and predicted objects\n",
    "                temp_dist.append(get_distance(df_coords.iloc[object_to_evaluate,:].values,\n",
    "                                             df_coords.iloc[object_to_compare,:].values))\n",
    "            #keep the min distance     \n",
    "            min_temp_dist = min(temp_dist)\n",
    "            #calculate the accuracy for the given object\n",
    "            temp_acc.append(1.0 - min_temp_dist/max_range)\n",
    "    \n",
    "    #calculate the overall detection accuracy using the distances\n",
    "    distance_accuracy = sum(temp_acc)/len(temp_acc)\n",
    "    #calculate the overall detection accuracy using the number of detected objects\n",
    "    number_accuracy = 1 - (np.abs(len(predicted_obj)-len(real_obj))/len(real_obj))\n",
    "    #average of the two accuracy values\n",
    "    overall_accuracy = (distance_accuracy + number_accuracy) / 2\n",
    "\n",
    "    return overall_accuracy"
   ]
  },
  {
   "cell_type": "markdown",
   "id": "c2eb0cdf-41b2-40c8-9b2e-d11449cdddc1",
   "metadata": {},
   "source": [
    "### Dataset import"
   ]
  },
  {
   "cell_type": "code",
   "execution_count": 7,
   "id": "6e754729-137d-4d9b-9d90-9af9c544697e",
   "metadata": {},
   "outputs": [
    {
     "name": "stdout",
     "output_type": "stream",
     "text": [
      "Feature Dataset shape:  (17066, 243)\n",
      "\n",
      "Labels Dataset shape: (17066, 161)\n"
     ]
    }
   ],
   "source": [
    "df_features = pd.read_csv('datasets/features_2.csv')\n",
    "df_labels = pd.read_csv('datasets/labels_2.csv')\n",
    "df_coords = pd.read_csv('datasets/coords.csv')\n",
    "print('Feature Dataset shape: ', df_features.shape)\n",
    "print('\\nLabels Dataset shape:', df_labels.shape)"
   ]
  },
  {
   "cell_type": "markdown",
   "id": "a3958612-b373-4159-8180-00af98820cda",
   "metadata": {},
   "source": [
    "Separate dataset into train/test sets"
   ]
  },
  {
   "cell_type": "code",
   "execution_count": 8,
   "id": "1d60d2ad-4fa6-46f8-a45a-f3ca38308c0a",
   "metadata": {},
   "outputs": [],
   "source": [
    "X_train, X_test, y_train, y_test = train_test_split(df_features.iloc[:,:].values,\n",
    "                                                    df_labels.iloc[:,:].values,\n",
    "                                                    test_size = 0.25,\n",
    "                                                    random_state = 0)"
   ]
  },
  {
   "cell_type": "markdown",
   "id": "85d1f759-d250-45ba-8916-45250f2fc2e0",
   "metadata": {},
   "source": [
    "### Model architecture"
   ]
  },
  {
   "cell_type": "code",
   "execution_count": 9,
   "id": "c37a2ae6-6659-4871-8dad-074f59513ffb",
   "metadata": {},
   "outputs": [
    {
     "data": {
      "text/plain": [
       "243"
      ]
     },
     "execution_count": 9,
     "metadata": {},
     "output_type": "execute_result"
    }
   ],
   "source": [
    "df_features.shape[1]"
   ]
  },
  {
   "cell_type": "code",
   "execution_count": 42,
   "id": "e9fe8a07-fef4-46a9-91fb-06c6fce502d0",
   "metadata": {},
   "outputs": [],
   "source": [
    "classifier =  Sequential()\n",
    "\n",
    "#Hidden layer 1 - Input layer\n",
    "classifier.add( Dense(units = df_features.shape[1], kernel_initializer = 'he_uniform', activation = 'relu') )\n",
    "\n",
    "#Hidden layer 3\n",
    "classifier.add( Dense(units = 128, kernel_initializer = 'he_uniform', activation = 'relu') )\n",
    "#Hidden layer 4\n",
    "classifier.add( Dense(units = 90, kernel_initializer = 'he_uniform', activation = 'relu') )\n",
    "#Hidden layer 5\n",
    "classifier.add( Dense(units = 128, kernel_initializer = 'he_uniform', activation = 'relu') )\n",
    "\n",
    "\n",
    "#Output layer\n",
    "classifier.add( Dense(units = df_labels.shape[1], activation = 'sigmoid') )"
   ]
  },
  {
   "cell_type": "markdown",
   "id": "ea08110c-7fd4-43cd-8dc9-567a5acb6164",
   "metadata": {},
   "source": [
    "Optimizer setup"
   ]
  },
  {
   "cell_type": "code",
   "execution_count": 43,
   "id": "26148b80-3821-44dc-a843-2f0ea05fcc9e",
   "metadata": {},
   "outputs": [],
   "source": [
    "learning_rate = 0.001\n",
    "beta1 = 0.9\n",
    "beta2 = 0.999\n",
    "epsilon = 1e-08\n",
    "decay = 0.0\n",
    "epochs = 50\n",
    "\n",
    "opt = keras.optimizers.Adam(lr=learning_rate, beta_1=0.9, beta_2=0.999, epsilon=1e-08, decay=learning_rate/epochs)"
   ]
  },
  {
   "cell_type": "markdown",
   "id": "f59a80a7-03b7-40c1-8751-4fcee209c8d3",
   "metadata": {},
   "source": [
    "CNN compile using the Adam optimizer and Binary crossentropy as loss function and accuracy as main metric."
   ]
  },
  {
   "cell_type": "code",
   "execution_count": 44,
   "id": "1fe7ddfc-3f88-4469-88cc-47a9279a8e68",
   "metadata": {},
   "outputs": [],
   "source": [
    "#opt = SGD(lr=0.01, momentum=0.9)\n",
    "classifier.compile( optimizer = 'adam', loss = 'binary_crossentropy', metrics = ['accuracy', f1_m])"
   ]
  },
  {
   "cell_type": "code",
   "execution_count": 45,
   "id": "6ca1932d-24d0-48bf-88ab-85570d2ba1c0",
   "metadata": {
    "tags": []
   },
   "outputs": [
    {
     "name": "stdout",
     "output_type": "stream",
     "text": [
      "Epoch 1/50\n",
      "400/400 [==============================] - 6s 14ms/step - loss: 0.1855 - accuracy: 0.0363 - f1_m: 0.0117 - val_loss: 0.0579 - val_accuracy: 0.1966 - val_f1_m: 0.2754\n",
      "Epoch 2/50\n",
      "400/400 [==============================] - 5s 13ms/step - loss: 0.0490 - accuracy: 0.2509 - f1_m: 0.4156 - val_loss: 0.0373 - val_accuracy: 0.2864 - val_f1_m: 0.5784\n",
      "Epoch 3/50\n",
      "400/400 [==============================] - 5s 14ms/step - loss: 0.0335 - accuracy: 0.3066 - f1_m: 0.6107 - val_loss: 0.0324 - val_accuracy: 0.3098 - val_f1_m: 0.6216\n",
      "Epoch 4/50\n",
      "400/400 [==============================] - 4s 11ms/step - loss: 0.0290 - accuracy: 0.3127 - f1_m: 0.6550 - val_loss: 0.0300 - val_accuracy: 0.3347 - val_f1_m: 0.6396\n",
      "Epoch 5/50\n",
      "400/400 [==============================] - 4s 11ms/step - loss: 0.0264 - accuracy: 0.3085 - f1_m: 0.6791 - val_loss: 0.0285 - val_accuracy: 0.3222 - val_f1_m: 0.6496\n",
      "Epoch 6/50\n",
      "400/400 [==============================] - 4s 11ms/step - loss: 0.0246 - accuracy: 0.3188 - f1_m: 0.6934 - val_loss: 0.0282 - val_accuracy: 0.3058 - val_f1_m: 0.6575\n",
      "Epoch 7/50\n",
      "400/400 [==============================] - 8s 20ms/step - loss: 0.0234 - accuracy: 0.3168 - f1_m: 0.7047 - val_loss: 0.0278 - val_accuracy: 0.3070 - val_f1_m: 0.6500\n",
      "Epoch 8/50\n",
      "400/400 [==============================] - 6s 14ms/step - loss: 0.0225 - accuracy: 0.3184 - f1_m: 0.7137 - val_loss: 0.0271 - val_accuracy: 0.3014 - val_f1_m: 0.6698\n",
      "Epoch 9/50\n",
      "400/400 [==============================] - 6s 16ms/step - loss: 0.0219 - accuracy: 0.3248 - f1_m: 0.7220 - val_loss: 0.0267 - val_accuracy: 0.3061 - val_f1_m: 0.6789\n",
      "Epoch 10/50\n",
      "400/400 [==============================] - 7s 16ms/step - loss: 0.0212 - accuracy: 0.3221 - f1_m: 0.7301 - val_loss: 0.0267 - val_accuracy: 0.3225 - val_f1_m: 0.6687\n",
      "Epoch 11/50\n",
      "400/400 [==============================] - 6s 15ms/step - loss: 0.0209 - accuracy: 0.3187 - f1_m: 0.7280 - val_loss: 0.0261 - val_accuracy: 0.3178 - val_f1_m: 0.6698\n",
      "Epoch 12/50\n",
      "400/400 [==============================] - 5s 13ms/step - loss: 0.0200 - accuracy: 0.3287 - f1_m: 0.7428 - val_loss: 0.0265 - val_accuracy: 0.3286 - val_f1_m: 0.6699\n",
      "Epoch 13/50\n",
      "400/400 [==============================] - 6s 14ms/step - loss: 0.0195 - accuracy: 0.3329 - f1_m: 0.7481 - val_loss: 0.0267 - val_accuracy: 0.3302 - val_f1_m: 0.6686\n",
      "Epoch 14/50\n",
      "400/400 [==============================] - 6s 15ms/step - loss: 0.0192 - accuracy: 0.3241 - f1_m: 0.7541 - val_loss: 0.0268 - val_accuracy: 0.3192 - val_f1_m: 0.6711\n",
      "Epoch 15/50\n",
      "400/400 [==============================] - 5s 12ms/step - loss: 0.0189 - accuracy: 0.3284 - f1_m: 0.7584 - val_loss: 0.0269 - val_accuracy: 0.3185 - val_f1_m: 0.6688\n",
      "Epoch 16/50\n",
      "400/400 [==============================] - 7s 17ms/step - loss: 0.0184 - accuracy: 0.3238 - f1_m: 0.7691 - val_loss: 0.0271 - val_accuracy: 0.3321 - val_f1_m: 0.6634\n",
      "Epoch 17/50\n",
      "400/400 [==============================] - 5s 14ms/step - loss: 0.0182 - accuracy: 0.3312 - f1_m: 0.7717 - val_loss: 0.0274 - val_accuracy: 0.3279 - val_f1_m: 0.6697\n",
      "Epoch 18/50\n",
      "400/400 [==============================] - 6s 15ms/step - loss: 0.0181 - accuracy: 0.3304 - f1_m: 0.7743 - val_loss: 0.0272 - val_accuracy: 0.3199 - val_f1_m: 0.6730\n",
      "Epoch 19/50\n",
      "400/400 [==============================] - 6s 15ms/step - loss: 0.0173 - accuracy: 0.3375 - f1_m: 0.7868 - val_loss: 0.0279 - val_accuracy: 0.3056 - val_f1_m: 0.6750\n",
      "Epoch 20/50\n",
      "400/400 [==============================] - 6s 14ms/step - loss: 0.0172 - accuracy: 0.3317 - f1_m: 0.7888 - val_loss: 0.0277 - val_accuracy: 0.3293 - val_f1_m: 0.6743\n",
      "Epoch 21/50\n",
      "400/400 [==============================] - 6s 14ms/step - loss: 0.0170 - accuracy: 0.3294 - f1_m: 0.7919 - val_loss: 0.0280 - val_accuracy: 0.3229 - val_f1_m: 0.6690\n",
      "Epoch 22/50\n",
      "400/400 [==============================] - 6s 15ms/step - loss: 0.0164 - accuracy: 0.3314 - f1_m: 0.7995 - val_loss: 0.0289 - val_accuracy: 0.3218 - val_f1_m: 0.6687\n",
      "Epoch 23/50\n",
      "400/400 [==============================] - 6s 15ms/step - loss: 0.0163 - accuracy: 0.3300 - f1_m: 0.8044 - val_loss: 0.0291 - val_accuracy: 0.3152 - val_f1_m: 0.6736\n",
      "Epoch 24/50\n",
      "400/400 [==============================] - 5s 13ms/step - loss: 0.0157 - accuracy: 0.3307 - f1_m: 0.8139 - val_loss: 0.0297 - val_accuracy: 0.3304 - val_f1_m: 0.6682\n",
      "Epoch 25/50\n",
      "400/400 [==============================] - 5s 14ms/step - loss: 0.0152 - accuracy: 0.3368 - f1_m: 0.8199 - val_loss: 0.0304 - val_accuracy: 0.3157 - val_f1_m: 0.6752\n",
      "Epoch 26/50\n",
      "400/400 [==============================] - 6s 14ms/step - loss: 0.0150 - accuracy: 0.3324 - f1_m: 0.8242 - val_loss: 0.0315 - val_accuracy: 0.3379 - val_f1_m: 0.6688\n"
     ]
    }
   ],
   "source": [
    "#ANN training \n",
    "earlystopping = callbacks.EarlyStopping(monitor =\"val_loss\", \n",
    "                                        mode =\"min\", patience = 15, \n",
    "                                        restore_best_weights = True)\n",
    "\n",
    "\n",
    "history = classifier.fit(X_train, y_train,\n",
    "                         epochs = 50,\n",
    "                        validation_data=(X_test, y_test),\n",
    "                        callbacks =[earlystopping])"
   ]
  },
  {
   "cell_type": "code",
   "execution_count": 46,
   "id": "202ba3df-9397-4550-9b03-cbc2476ca626",
   "metadata": {},
   "outputs": [
    {
     "data": {
      "image/png": "[encoded data removed]",
      "text/plain": [
       "<Figure size 864x432 with 1 Axes>"
      ]
     },
     "metadata": {
      "needs_background": "light"
     },
     "output_type": "display_data"
    },
    {
     "data": {
      "image/png": "[encoded data removed]",
      "text/plain": [
       "<Figure size 864x432 with 1 Axes>"
      ]
     },
     "metadata": {
      "needs_background": "light"
     },
     "output_type": "display_data"
    },
    {
     "data": {
      "image/png": "[encoded data removed]",
      "text/plain": [
       "<Figure size 864x432 with 1 Axes>"
      ]
     },
     "metadata": {
      "needs_background": "light"
     },
     "output_type": "display_data"
    }
   ],
   "source": [
    "plt.plot(history.history['f1_m'])\n",
    "plt.plot(history.history['val_f1_m'])\n",
    "plt.title('Training F1-Score')\n",
    "plt.ylabel('F1-Score')\n",
    "plt.xlabel('epoch')\n",
    "plt.legend(['train', 'test'], loc='upper left')\n",
    "plt.show()\n",
    "#f1-score\n",
    "plt.plot(history.history['accuracy'])\n",
    "plt.plot(history.history['val_accuracy'])\n",
    "plt.title('model accuracy')\n",
    "plt.ylabel('accuracy')\n",
    "plt.xlabel('epoch')\n",
    "plt.legend(['train', 'test'], loc='upper left')\n",
    "plt.show()\n",
    "# summarize history for loss\n",
    "plt.plot(history.history['loss'])\n",
    "plt.plot(history.history['val_loss'])\n",
    "plt.title('model loss')\n",
    "plt.ylabel('loss')\n",
    "plt.xlabel('epoch')\n",
    "plt.legend(['train', 'test'], loc='upper left')\n",
    "plt.show()"
   ]
  },
  {
   "cell_type": "markdown",
   "id": "cf191497-58f2-4c3e-8f2e-ad5aee8c56fe",
   "metadata": {},
   "source": [
    "#### Save/load model"
   ]
  },
  {
   "cell_type": "code",
   "execution_count": 20,
   "id": "fc4118b2-0afc-4215-bbf1-1d53afaf5693",
   "metadata": {},
   "outputs": [],
   "source": [
    "#save trained model to the following path\n",
    "path_to_save = 'models/model_v2.h5'\n",
    "classifier.save(path_to_save)"
   ]
  },
  {
   "cell_type": "code",
   "execution_count": null,
   "id": "4f4defce-beff-4bc7-806a-90edced40856",
   "metadata": {},
   "outputs": [],
   "source": [
    "dependencies = {\n",
    "    'f1_m': f1_m\n",
    "}\n",
    "\n",
    "classifier = load_model(path_to_load, custom_objects=dependencies)"
   ]
  },
  {
   "cell_type": "code",
   "execution_count": null,
   "id": "33c57214-0562-4bee-a417-697b0677db92",
   "metadata": {},
   "outputs": [],
   "source": [
    "#load model from path\n",
    "path_to_load = 'models/model_v1.h5'\n",
    "#define needed dependecies to load the model\n",
    "dependencies = {\n",
    "    'f1_m': f1_m\n",
    "}\n",
    "#load the model\n",
    "classifier = load_model(path_to_load, custom_objects=dependencies)"
   ]
  },
  {
   "cell_type": "markdown",
   "id": "c3af9636-e74c-4991-ac2d-2e708ce2b5ee",
   "metadata": {},
   "source": [
    "### Predictions - Validation data"
   ]
  },
  {
   "cell_type": "code",
   "execution_count": null,
   "id": "9653e4cf-956a-4924-8b3e-38b71c172cfc",
   "metadata": {},
   "outputs": [],
   "source": [
    "df_val_features = pd.read_csv('datasets/test_features.csv')\n",
    "df_val_labels = pd.read_csv('datasets/test_labels.csv')"
   ]
  },
  {
   "cell_type": "code",
   "execution_count": null,
   "id": "cbc33aca-f04d-47a6-9e49-9ddd8c2349eb",
   "metadata": {},
   "outputs": [],
   "source": [
    "X_val = df_val_features.iloc[:,:].values\n",
    "y_val = df_val_labels.iloc[:,:].values"
   ]
  },
  {
   "cell_type": "code",
   "execution_count": null,
   "id": "ac310e68-1383-49a2-b26b-579d054e8d10",
   "metadata": {},
   "outputs": [],
   "source": [
    "#define a threshold value \n",
    "threshold = 0.4\n",
    "#ANN prediction\n",
    "y_pred = classifier.predict(X_val)\n",
    "#keep predictions above the threshold\n",
    "y_pred = (y_pred > threshold)"
   ]
  },
  {
   "cell_type": "code",
   "execution_count": null,
   "id": "72126bf4-8328-4c6a-a2c1-62db3ffe1132",
   "metadata": {},
   "outputs": [
    {
     "name": "stdout",
     "output_type": "stream",
     "text": [
      "Overall accuracy:  0.8564663940692905\n"
     ]
    }
   ],
   "source": [
    "validation_accuracy = []\n",
    "for prediction_index in range(len(y_pred)):\n",
    "    #load the predicted and real quadrants for the test dataset\n",
    "    predicted_quadrant = np.argwhere(np.isin(y_pred[prediction_index], True)).ravel()\n",
    "    real_quadrant = np.argwhere(np.isin(y_test[prediction_index], True)).ravel()\n",
    "    \n",
    "    prediction_accuracy = get_detection_accuracy(real_obj= real_quadrant,\n",
    "                                                 predicted_obj= predicted_quadrant)\n",
    "    validation_accuracy.append(prediction_accuracy)\n",
    "print('Overall accuracy: ', sum(test_accuracy)/len(test_accuracy))"
   ]
  },
  {
   "cell_type": "code",
   "execution_count": null,
   "id": "5404acfe-d7f9-4c6a-a75e-5142d33509ba",
   "metadata": {},
   "outputs": [
    {
     "data": {
      "image/png": "[encoded data removed]",
      "text/plain": [
       "<Figure size 864x432 with 2 Axes>"
      ]
     },
     "metadata": {
      "needs_background": "light"
     },
     "output_type": "display_data"
    }
   ],
   "source": [
    "plt.rcParams[\"figure.figsize\"] = (12,6)\n",
    "\n",
    "plt.subplot(1,2,1)\n",
    "plt.title('Accuracy values for test the dataset')\n",
    "plt.plot(list(range(y_pred.shape[0])),\n",
    "                     validation_accuracy, color = 'orange')\n",
    "plt.xlabel('Prediction')\n",
    "plt.ylabel('Accuracy')\n",
    "\n",
    "\n",
    "plt.subplot(1,2,2)\n",
    "plt.title('Accuracy Histogram for the test dataset')\n",
    "plt.xlabel('Accuracy')\n",
    "plt.ylabel('Number of predictions')\n",
    "plt.hist(validation_accuracy, bins=50)\n",
    "plt.show()"
   ]
  },
  {
   "cell_type": "code",
   "execution_count": null,
   "id": "ac0b8a84-3b15-4848-85a4-ce7aca741893",
   "metadata": {},
   "outputs": [
    {
     "name": "stdout",
     "output_type": "stream",
     "text": [
      "Real object quadrant:  [ 0 17 42 68 92]\n",
      "\n",
      "Predicted object quadrant:  [  1  67 160]\n"
     ]
    }
   ],
   "source": [
    "index = 0\n",
    "\n",
    "print('Real object quadrant: ',\n",
    "      np.argwhere(np.isin(y_val[index], True)).ravel())\n",
    "print('\\nPredicted object quadrant: ',\n",
    "      np.argwhere(np.isin(y_pred[index], True)).ravel())"
   ]
  },
  {
   "cell_type": "markdown",
   "id": "38952d13-982e-4607-8f56-92e936668f10",
   "metadata": {},
   "source": [
    "### Predictions - test dataset"
   ]
  },
  {
   "cell_type": "code",
   "execution_count": 15,
   "id": "033b8f21-d28d-4204-8294-9470bd554f48",
   "metadata": {},
   "outputs": [],
   "source": [
    "#define a threshold value \n",
    "threshold = 0.40\n",
    "#ANN prediction\n",
    "y_pred = classifier.predict(X_test)\n",
    "#keep predictions above the threshold\n",
    "y_pred = (y_pred > threshold)"
   ]
  },
  {
   "cell_type": "code",
   "execution_count": 16,
   "id": "eae439e7-a456-40b2-96bc-6886398607b0",
   "metadata": {},
   "outputs": [
    {
     "name": "stdout",
     "output_type": "stream",
     "text": [
      "Real object quadrant:  [ 48 129]\n",
      "\n",
      "Predicted object quadrant:  [ 48 108]\n"
     ]
    }
   ],
   "source": [
    "index = 1011\n",
    "\n",
    "print('Real object quadrant: ',\n",
    "      np.argwhere(np.isin(y_test[index], True)).ravel())\n",
    "print('\\nPredicted object quadrant: ',\n",
    "      np.argwhere(np.isin(y_pred[index], True)).ravel())"
   ]
  },
  {
   "cell_type": "code",
   "execution_count": 17,
   "id": "2d09845e-5249-4659-b279-dad41552cc7c",
   "metadata": {
    "tags": []
   },
   "outputs": [
    {
     "name": "stdout",
     "output_type": "stream",
     "text": [
      "Overall accuracy:  0.7628571123005413\n"
     ]
    }
   ],
   "source": [
    "test_accuracy = []\n",
    "for prediction_index in range(len(y_pred)):\n",
    "    #load the predicted and real quadrants for the test dataset\n",
    "    predicted_quadrant = np.argwhere(np.isin(y_pred[prediction_index], True)).ravel()\n",
    "    real_quadrant = np.argwhere(np.isin(y_test[prediction_index], True)).ravel()\n",
    "    \n",
    "    prediction_accuracy = get_detection_accuracy(real_obj= real_quadrant,\n",
    "                                                 predicted_obj= predicted_quadrant)\n",
    "    test_accuracy.append(prediction_accuracy)\n",
    "print('Overall accuracy: ', sum(test_accuracy)/len(test_accuracy))"
   ]
  },
  {
   "cell_type": "code",
   "execution_count": 18,
   "id": "917eccc8-ea57-4725-a6e6-849cc0f98921",
   "metadata": {},
   "outputs": [
    {
     "data": {
      "image/png": "[encoded data removed]",
      "text/plain": [
       "<Figure size 864x432 with 2 Axes>"
      ]
     },
     "metadata": {
      "needs_background": "light"
     },
     "output_type": "display_data"
    }
   ],
   "source": [
    "plt.rcParams[\"figure.figsize\"] = (12,6)\n",
    "\n",
    "plt.subplot(1,2,1)\n",
    "plt.title('Accuracy values for test the dataset')\n",
    "plt.plot(list(range(y_pred.shape[0])),\n",
    "                     test_accuracy, color = 'orange')\n",
    "plt.xlabel('Prediction')\n",
    "plt.ylabel('Accuracy')\n",
    "\n",
    "\n",
    "plt.subplot(1,2,2)\n",
    "plt.title('Accuracy Histogram for the test dataset')\n",
    "plt.xlabel('Accuracy')\n",
    "plt.ylabel('Number of predictions')\n",
    "plt.hist(test_accuracy, bins=50)\n",
    "plt.show()"
   ]
  },
  {
   "cell_type": "code",
   "execution_count": null,
   "id": "ab6fdba9-87b2-443f-a828-6957e5dc15ad",
   "metadata": {},
   "outputs": [],
   "source": [
    "plt.rcParams[\"figure.figsize\"] = (12,6)\n",
    "\n",
    "plt.subplot(1,2,1)\n",
    "plt.title('Accuracy values for test the dataset')\n",
    "plt.plot(list(range(y_pred.shape[0])),\n",
    "                     test_accuracy, color = 'orange')\n",
    "plt.xlabel('Prediction')\n",
    "plt.ylabel('Accuracy')\n",
    "\n",
    "\n",
    "plt.subplot(1,2,2)\n",
    "plt.title('Accuracy Histogram for the test dataset')\n",
    "plt.xlabel('Accuracy')\n",
    "plt.ylabel('Number of predictions')\n",
    "plt.hist(test_accuracy, bins=50)\n",
    "plt.show()"
   ]
  },
  {
   "cell_type": "code",
   "execution_count": 19,
   "id": "230a5fcd-307a-4808-ad8d-c379bb595a08",
   "metadata": {},
   "outputs": [
    {
     "name": "stdout",
     "output_type": "stream",
     "text": [
      "Real object quadrant:  [ 81  98 126 158]\n",
      "\n",
      "Predicted object quadrant:  [21 81 98]\n"
     ]
    }
   ],
   "source": [
    "index = 1687\n",
    "\n",
    "print('Real object quadrant: ',\n",
    "      np.argwhere(np.isin(y_test[index], True)).ravel())\n",
    "print('\\nPredicted object quadrant: ',\n",
    "      np.argwhere(np.isin(y_pred[index], True)).ravel())"
   ]
  },
  {
   "cell_type": "code",
   "execution_count": null,
   "id": "93954fa5-1f96-4658-b86b-c90c07f5ca7c",
   "metadata": {},
   "outputs": [],
   "source": [
    "#get all the indexes of the predictions that belongs to the same accuracy number -> target accuracy\n",
    "target_acc = 0\n",
    "indexes = [i for i,x in enumerate(test_accuracy) if x == target_acc]\n"
   ]
  }
 ],
 "metadata": {
  "kernelspec": {
   "display_name": "Python 3 (ipykernel)",
   "language": "python",
   "name": "python3"
  },
  "language_info": {
   "codemirror_mode": {
    "name": "ipython",
    "version": 3
   },
   "file_extension": ".py",
   "mimetype": "text/x-python",
   "name": "python",
   "nbconvert_exporter": "python",
   "pygments_lexer": "ipython3",
   "version": "3.9.7"
  }
 },
 "nbformat": 4,
 "nbformat_minor": 5
}
