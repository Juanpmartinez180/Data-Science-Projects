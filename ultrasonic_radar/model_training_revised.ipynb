{
 "cells": [
  {
   "cell_type": "markdown",
   "id": "f090c65e-6f09-4697-b93f-d47abef51e0d",
   "metadata": {},
   "source": [
    "# Model training using synthetic data - October 2025\n",
    "\n",
    "## Fase 1: Importaciones y Métricas Personalizadas"
   ]
  },
  {
   "cell_type": "code",
   "execution_count": 2,
   "id": "d2f1aeac-8e02-4e2a-b68c-85a3aa44c989",
   "metadata": {},
   "outputs": [
    {
     "name": "stderr",
     "output_type": "stream",
     "text": [
      "2025-10-16 20:08:24.889933: I tensorflow/core/platform/cpu_feature_guard.cc:210] This TensorFlow binary is optimized to use available CPU instructions in performance-critical operations.\n",
      "To enable the following instructions: SSE4.1 SSE4.2 AVX AVX2 FMA, in other operations, rebuild TensorFlow with the appropriate compiler flags.\n"
     ]
    },
    {
     "name": "stdout",
     "output_type": "stream",
     "text": [
      "Fase 1 completada: Librerías importadas y métricas definidas.\n"
     ]
    }
   ],
   "source": [
    "import numpy as np\n",
    "import matplotlib.pyplot as plt\n",
    "import pandas as pd\n",
    "import os\n",
    "import tensorflow as tf\n",
    "from sklearn.model_selection import train_test_split\n",
    "\n",
    "# Librerías del modelo de Keras\n",
    "import keras\n",
    "from keras.models import Sequential\n",
    "from keras.layers import Dense, Dropout\n",
    "from keras.optimizers import SGD, Adam\n",
    "from keras import callbacks\n",
    "import tensorflow.keras.backend as K\n",
    "from keras.models import load_model\n",
    "\n",
    "# --- MÉTRICAS PERSONALIZADAS (de tu notebook original) ---\n",
    "# Estas métricas son excelentes para evaluar el rendimiento\n",
    "# en problemas de clasificación como el nuestro.\n",
    "\n",
    "def recall_m(y_true, y_pred):\n",
    "    true_positives = K.sum(K.round(K.clip(y_true * y_pred, 0, 1)))\n",
    "    possible_positives = K.sum(K.round(K.clip(y_true, 0, 1)))\n",
    "    recall = true_positives / (possible_positives + K.epsilon())\n",
    "    return recall\n",
    "\n",
    "def precision_m(y_true, y_pred):\n",
    "    true_positives = K.sum(K.round(K.clip(y_true * y_pred, 0, 1)))\n",
    "    predicted_positives = K.sum(K.round(K.clip(y_pred, 0, 1)))\n",
    "    precision = true_positives / (predicted_positives + K.epsilon())\n",
    "    return precision\n",
    "\n",
    "def f1_m(y_true, y_pred):\n",
    "    precision = precision_m(y_true, y_pred)\n",
    "    recall = recall_m(y_true, y_pred)\n",
    "    return 2 * ((precision * recall) / (precision + recall + K.epsilon()))\n",
    "\n",
    "print(\"Fase 1 completada: Librerías importadas y métricas definidas.\")"
   ]
  },
  {
   "cell_type": "markdown",
   "id": "9b33aec0-9218-4e41-bcfa-cb8ee3ead670",
   "metadata": {},
   "source": [
    "## Fase 2: Carga y Preparación de Datos"
   ]
  },
  {
   "cell_type": "code",
   "execution_count": 3,
   "id": "b29487df-eb1d-452d-a2e7-6a027be7de37",
   "metadata": {},
   "outputs": [
    {
     "name": "stdout",
     "output_type": "stream",
     "text": [
      "Archivos CSV cargados exitosamente.\n",
      "Forma de X_train: (16000, 244)\n",
      "Forma de y_train: (16000, 3108)\n",
      "Forma de X_test: (4000, 244)\n",
      "Forma de y_test: (4000, 3108)\n",
      "\\nNormalización segura completada. No se encontraron NaNs.\n",
      "\\nFase 2 completada: Datos cargados, separados y normalizados correctamente.\n"
     ]
    }
   ],
   "source": [
    "# --- Carga de los nuevos datasets ---\n",
    "# Asegúrate de que las rutas a tus archivos sean correctas\n",
    "try:\n",
    "    X = pd.read_csv('features_oclusion_mejorada.csv', header=None)\n",
    "    y = pd.read_csv('labels_oclusion_mejorada.csv', header=None)\n",
    "    print(\"Archivos CSV cargados exitosamente.\")\n",
    "except FileNotFoundError:\n",
    "    print(\"Error: No se encontraron los archivos del dataset. Verifica las rutas.\")\n",
    "    # Detener la ejecución si no se encuentran los archivos\n",
    "    assert False, \"Deteniendo ejecución por falta de archivos.\"\n",
    "\n",
    "\n",
    "# --- Separación en Train/Test ---\n",
    "X_train, X_test, y_train, y_test = train_test_split(\n",
    "    X, y,\n",
    "    test_size=0.2, # 20% para pruebas\n",
    "    random_state=42 # Para reproducibilidad\n",
    ")\n",
    "\n",
    "print(f\"Forma de X_train: {X_train.shape}\")\n",
    "print(f\"Forma de y_train: {y_train.shape}\")\n",
    "print(f\"Forma de X_test: {X_test.shape}\")\n",
    "print(f\"Forma de y_test: {y_test.shape}\")\n",
    "\n",
    "\n",
    "# --- Normalización de Features (CORREGIDA)---\n",
    "# Calculamos la media y std SOLO del set de entrenamiento\n",
    "mean = X_train.mean(axis=0)\n",
    "std = X_train.std(axis=0)\n",
    "\n",
    "# >> INICIO DE LA CORRECCIÓN <<\n",
    "# Se añade un valor muy pequeño (epsilon) a la desviación estándar \n",
    "# para evitar la división por cero en columnas con varianza nula.\n",
    "epsilon = 1e-7\n",
    "X_train = (X_train - mean) / (std + epsilon)\n",
    "X_test = (X_test - mean) / (std + epsilon)\n",
    "\n",
    "# Verificamos si hay algún valor NaN después de la normalización\n",
    "if np.isnan(X_train.values).any():\n",
    "    print(\"\\\\nAlerta: Se encontraron valores NaN en X_train después de la normalización.\")\n",
    "else:\n",
    "    print(\"\\\\nNormalización segura completada. No se encontraron NaNs.\")\n",
    "# >> FIN DE LA CORRECCIÓN <<\n",
    "\n",
    "# Convertir a arrays de numpy para Keras\n",
    "X_train = np.array(X_train)\n",
    "X_test = np.array(X_test)\n",
    "y_train = np.array(y_train)\n",
    "y_test = np.array(y_test)\n",
    "\n",
    "print(\"\\\\nFase 2 completada: Datos cargados, separados y normalizados correctamente.\")"
   ]
  },
  {
   "cell_type": "markdown",
   "id": "d0f52cb4-cf7d-4748-a2a3-4a0ec6f340f5",
   "metadata": {},
   "source": [
    "## Fase 3: Definición del Modelo Multi-Etiqueta"
   ]
  },
  {
   "cell_type": "code",
   "execution_count": null,
   "id": "bc5c323e-5c57-4308-ad8e-26ed58b4f61e",
   "metadata": {},
   "outputs": [],
   "source": [
    "X_train.shape"
   ]
  },
  {
   "cell_type": "code",
   "execution_count": 4,
   "id": "a266cf85-aef8-43af-bc8a-23972e5f6a41",
   "metadata": {},
   "outputs": [
    {
     "name": "stderr",
     "output_type": "stream",
     "text": [
      "/home/juan/anaconda3/envs/tfg/lib/python3.11/site-packages/keras/src/layers/core/dense.py:92: UserWarning: Do not pass an `input_shape`/`input_dim` argument to a layer. When using Sequential models, prefer using an `Input(shape)` object as the first layer in the model instead.\n",
      "  super().__init__(activity_regularizer=activity_regularizer, **kwargs)\n"
     ]
    },
    {
     "data": {
      "text/html": [
       "<pre style=\"white-space:pre;overflow-x:auto;line-height:normal;font-family:Menlo,'DejaVu Sans Mono',consolas,'Courier New',monospace\"><span style=\"font-weight: bold\">Model: \"sequential\"</span>\n",
       "</pre>\n"
      ],
      "text/plain": [
       "\u001b[1mModel: \"sequential\"\u001b[0m\n"
      ]
     },
     "metadata": {},
     "output_type": "display_data"
    },
    {
     "data": {
      "text/html": [
       "<pre style=\"white-space:pre;overflow-x:auto;line-height:normal;font-family:Menlo,'DejaVu Sans Mono',consolas,'Courier New',monospace\">┏━━━━━━━━━━━━━━━━━━━━━━━━━━━━━━━━━┳━━━━━━━━━━━━━━━━━━━━━━━━┳━━━━━━━━━━━━━━━┓\n",
       "┃<span style=\"font-weight: bold\"> Layer (type)                    </span>┃<span style=\"font-weight: bold\"> Output Shape           </span>┃<span style=\"font-weight: bold\">       Param # </span>┃\n",
       "┡━━━━━━━━━━━━━━━━━━━━━━━━━━━━━━━━━╇━━━━━━━━━━━━━━━━━━━━━━━━╇━━━━━━━━━━━━━━━┩\n",
       "│ dense (<span style=\"color: #0087ff; text-decoration-color: #0087ff\">Dense</span>)                   │ (<span style=\"color: #00d7ff; text-decoration-color: #00d7ff\">None</span>, <span style=\"color: #00af00; text-decoration-color: #00af00\">256</span>)            │        <span style=\"color: #00af00; text-decoration-color: #00af00\">62,720</span> │\n",
       "├─────────────────────────────────┼────────────────────────┼───────────────┤\n",
       "│ dropout (<span style=\"color: #0087ff; text-decoration-color: #0087ff\">Dropout</span>)               │ (<span style=\"color: #00d7ff; text-decoration-color: #00d7ff\">None</span>, <span style=\"color: #00af00; text-decoration-color: #00af00\">256</span>)            │             <span style=\"color: #00af00; text-decoration-color: #00af00\">0</span> │\n",
       "├─────────────────────────────────┼────────────────────────┼───────────────┤\n",
       "│ dense_1 (<span style=\"color: #0087ff; text-decoration-color: #0087ff\">Dense</span>)                 │ (<span style=\"color: #00d7ff; text-decoration-color: #00d7ff\">None</span>, <span style=\"color: #00af00; text-decoration-color: #00af00\">128</span>)            │        <span style=\"color: #00af00; text-decoration-color: #00af00\">32,896</span> │\n",
       "├─────────────────────────────────┼────────────────────────┼───────────────┤\n",
       "│ dropout_1 (<span style=\"color: #0087ff; text-decoration-color: #0087ff\">Dropout</span>)             │ (<span style=\"color: #00d7ff; text-decoration-color: #00d7ff\">None</span>, <span style=\"color: #00af00; text-decoration-color: #00af00\">128</span>)            │             <span style=\"color: #00af00; text-decoration-color: #00af00\">0</span> │\n",
       "├─────────────────────────────────┼────────────────────────┼───────────────┤\n",
       "│ dense_2 (<span style=\"color: #0087ff; text-decoration-color: #0087ff\">Dense</span>)                 │ (<span style=\"color: #00d7ff; text-decoration-color: #00d7ff\">None</span>, <span style=\"color: #00af00; text-decoration-color: #00af00\">3108</span>)           │       <span style=\"color: #00af00; text-decoration-color: #00af00\">400,932</span> │\n",
       "└─────────────────────────────────┴────────────────────────┴───────────────┘\n",
       "</pre>\n"
      ],
      "text/plain": [
       "┏━━━━━━━━━━━━━━━━━━━━━━━━━━━━━━━━━┳━━━━━━━━━━━━━━━━━━━━━━━━┳━━━━━━━━━━━━━━━┓\n",
       "┃\u001b[1m \u001b[0m\u001b[1mLayer (type)                   \u001b[0m\u001b[1m \u001b[0m┃\u001b[1m \u001b[0m\u001b[1mOutput Shape          \u001b[0m\u001b[1m \u001b[0m┃\u001b[1m \u001b[0m\u001b[1m      Param #\u001b[0m\u001b[1m \u001b[0m┃\n",
       "┡━━━━━━━━━━━━━━━━━━━━━━━━━━━━━━━━━╇━━━━━━━━━━━━━━━━━━━━━━━━╇━━━━━━━━━━━━━━━┩\n",
       "│ dense (\u001b[38;5;33mDense\u001b[0m)                   │ (\u001b[38;5;45mNone\u001b[0m, \u001b[38;5;34m256\u001b[0m)            │        \u001b[38;5;34m62,720\u001b[0m │\n",
       "├─────────────────────────────────┼────────────────────────┼───────────────┤\n",
       "│ dropout (\u001b[38;5;33mDropout\u001b[0m)               │ (\u001b[38;5;45mNone\u001b[0m, \u001b[38;5;34m256\u001b[0m)            │             \u001b[38;5;34m0\u001b[0m │\n",
       "├─────────────────────────────────┼────────────────────────┼───────────────┤\n",
       "│ dense_1 (\u001b[38;5;33mDense\u001b[0m)                 │ (\u001b[38;5;45mNone\u001b[0m, \u001b[38;5;34m128\u001b[0m)            │        \u001b[38;5;34m32,896\u001b[0m │\n",
       "├─────────────────────────────────┼────────────────────────┼───────────────┤\n",
       "│ dropout_1 (\u001b[38;5;33mDropout\u001b[0m)             │ (\u001b[38;5;45mNone\u001b[0m, \u001b[38;5;34m128\u001b[0m)            │             \u001b[38;5;34m0\u001b[0m │\n",
       "├─────────────────────────────────┼────────────────────────┼───────────────┤\n",
       "│ dense_2 (\u001b[38;5;33mDense\u001b[0m)                 │ (\u001b[38;5;45mNone\u001b[0m, \u001b[38;5;34m3108\u001b[0m)           │       \u001b[38;5;34m400,932\u001b[0m │\n",
       "└─────────────────────────────────┴────────────────────────┴───────────────┘\n"
      ]
     },
     "metadata": {},
     "output_type": "display_data"
    },
    {
     "data": {
      "text/html": [
       "<pre style=\"white-space:pre;overflow-x:auto;line-height:normal;font-family:Menlo,'DejaVu Sans Mono',consolas,'Courier New',monospace\"><span style=\"font-weight: bold\"> Total params: </span><span style=\"color: #00af00; text-decoration-color: #00af00\">496,548</span> (1.89 MB)\n",
       "</pre>\n"
      ],
      "text/plain": [
       "\u001b[1m Total params: \u001b[0m\u001b[38;5;34m496,548\u001b[0m (1.89 MB)\n"
      ]
     },
     "metadata": {},
     "output_type": "display_data"
    },
    {
     "data": {
      "text/html": [
       "<pre style=\"white-space:pre;overflow-x:auto;line-height:normal;font-family:Menlo,'DejaVu Sans Mono',consolas,'Courier New',monospace\"><span style=\"font-weight: bold\"> Trainable params: </span><span style=\"color: #00af00; text-decoration-color: #00af00\">496,548</span> (1.89 MB)\n",
       "</pre>\n"
      ],
      "text/plain": [
       "\u001b[1m Trainable params: \u001b[0m\u001b[38;5;34m496,548\u001b[0m (1.89 MB)\n"
      ]
     },
     "metadata": {},
     "output_type": "display_data"
    },
    {
     "data": {
      "text/html": [
       "<pre style=\"white-space:pre;overflow-x:auto;line-height:normal;font-family:Menlo,'DejaVu Sans Mono',consolas,'Courier New',monospace\"><span style=\"font-weight: bold\"> Non-trainable params: </span><span style=\"color: #00af00; text-decoration-color: #00af00\">0</span> (0.00 B)\n",
       "</pre>\n"
      ],
      "text/plain": [
       "\u001b[1m Non-trainable params: \u001b[0m\u001b[38;5;34m0\u001b[0m (0.00 B)\n"
      ]
     },
     "metadata": {},
     "output_type": "display_data"
    },
    {
     "name": "stdout",
     "output_type": "stream",
     "text": [
      "\n",
      "Fase 3 completada: Modelo definido y compilado para clasificación multi-etiqueta.\n"
     ]
    }
   ],
   "source": [
    "# --- Definición de la Arquitectura de la Red Neuronal ---\n",
    "\n",
    "# Obtener las dimensiones de entrada y salida de los datos\n",
    "input_dim = X_train.shape[1]\n",
    "output_dim = y_train.shape[1]\n",
    "\n",
    "model = Sequential()\n",
    "\n",
    "# Capa de entrada y primera capa oculta\n",
    "model.add(Dense(256, input_dim=input_dim, activation='relu'))\n",
    "model.add(Dropout(0.5)) # Dropout para regularización\n",
    "\n",
    "# Segunda capa oculta\n",
    "model.add(Dense(128, activation='relu'))\n",
    "model.add(Dropout(0.5))\n",
    "\n",
    "# --- CAMBIO CLAVE: Capa de Salida para Multi-Etiqueta ---\n",
    "model.add(Dense(output_dim, activation='sigmoid'))\n",
    "\n",
    "# --- CAMBIO CLAVE: Compilación para Multi-Etiqueta ---\n",
    "model.compile(\n",
    "    loss='binary_crossentropy', # Función de pérdida correcta\n",
    "    optimizer=Adam(learning_rate=0.001), # Adam suele ser un buen optimizador de partida\n",
    "    metrics=['accuracy', f1_m, precision_m, recall_m]\n",
    ")\n",
    "\n",
    "model.summary()\n",
    "print(\"\\nFase 3 completada: Modelo definido y compilado para clasificación multi-etiqueta.\")"
   ]
  },
  {
   "cell_type": "markdown",
   "id": "18235dfd-bfe4-41b9-8bee-b017b51ba9e4",
   "metadata": {},
   "source": [
    "## Fase 4: Entrenamiento y Evaluación del Modelo"
   ]
  },
  {
   "cell_type": "code",
   "execution_count": 5,
   "id": "8b4bdd27-3f98-489f-956b-3ae04dad472b",
   "metadata": {},
   "outputs": [
    {
     "name": "stdout",
     "output_type": "stream",
     "text": [
      "Iniciando el entrenamiento del modelo...\n",
      "Epoch 1/100\n",
      "\u001b[1m497/500\u001b[0m \u001b[32m━━━━━━━━━━━━━━━━━━━\u001b[0m\u001b[37m━\u001b[0m \u001b[1m0s\u001b[0m 8ms/step - accuracy: 0.0034 - f1_m: 2.8969e-04 - loss: 0.0829 - precision_m: 1.4831e-04 - recall_m: 0.0260\n",
      "Epoch 1: val_f1_m improved from None to 0.00000, saving model to sonar_model_multiobjeto.h5\n"
     ]
    },
    {
     "name": "stderr",
     "output_type": "stream",
     "text": [
      "WARNING:absl:You are saving your model as an HDF5 file via `model.save()` or `keras.saving.save_model(model)`. This file format is considered legacy. We recommend using instead the native Keras format, e.g. `model.save('my_model.keras')` or `keras.saving.save_model(model, 'my_model.keras')`. \n"
     ]
    },
    {
     "name": "stdout",
     "output_type": "stream",
     "text": [
      "\u001b[1m500/500\u001b[0m \u001b[32m━━━━━━━━━━━━━━━━━━━━\u001b[0m\u001b[37m\u001b[0m \u001b[1m6s\u001b[0m 10ms/step - accuracy: 0.0045 - f1_m: 6.3483e-05 - loss: 0.0248 - precision_m: 3.2626e-05 - recall_m: 0.0049 - val_accuracy: 0.0095 - val_f1_m: 0.0000e+00 - val_loss: 0.0075 - val_precision_m: 0.0000e+00 - val_recall_m: 0.0000e+00\n",
      "Epoch 2/100\n",
      "\u001b[1m500/500\u001b[0m \u001b[32m━━━━━━━━━━━━━━━━━━━━\u001b[0m\u001b[37m\u001b[0m \u001b[1m0s\u001b[0m 8ms/step - accuracy: 0.0063 - f1_m: 0.0000e+00 - loss: 0.0081 - precision_m: 0.0000e+00 - recall_m: 0.0000e+00\n",
      "Epoch 2: val_f1_m did not improve from 0.00000\n",
      "\u001b[1m500/500\u001b[0m \u001b[32m━━━━━━━━━━━━━━━━━━━━\u001b[0m\u001b[37m\u001b[0m \u001b[1m4s\u001b[0m 9ms/step - accuracy: 0.0072 - f1_m: 0.0000e+00 - loss: 0.0080 - precision_m: 0.0000e+00 - recall_m: 0.0000e+00 - val_accuracy: 0.0105 - val_f1_m: 0.0000e+00 - val_loss: 0.0073 - val_precision_m: 0.0000e+00 - val_recall_m: 0.0000e+00\n",
      "Epoch 3/100\n",
      "\u001b[1m495/500\u001b[0m \u001b[32m━━━━━━━━━━━━━━━━━━━\u001b[0m\u001b[37m━\u001b[0m \u001b[1m0s\u001b[0m 8ms/step - accuracy: 0.0111 - f1_m: 7.6136e-06 - loss: 0.0078 - precision_m: 3.9382e-04 - recall_m: 3.8440e-06\n",
      "Epoch 3: val_f1_m did not improve from 0.00000\n",
      "\u001b[1m500/500\u001b[0m \u001b[32m━━━━━━━━━━━━━━━━━━━━\u001b[0m\u001b[37m\u001b[0m \u001b[1m4s\u001b[0m 9ms/step - accuracy: 0.0115 - f1_m: 7.7296e-05 - loss: 0.0077 - precision_m: 0.0040 - recall_m: 3.9025e-05 - val_accuracy: 0.0272 - val_f1_m: 0.0000e+00 - val_loss: 0.0068 - val_precision_m: 0.0000e+00 - val_recall_m: 0.0000e+00\n",
      "Epoch 4/100\n",
      "\u001b[1m498/500\u001b[0m \u001b[32m━━━━━━━━━━━━━━━━━━━\u001b[0m\u001b[37m━\u001b[0m \u001b[1m0s\u001b[0m 8ms/step - accuracy: 0.0185 - f1_m: 0.0014 - loss: 0.0074 - precision_m: 0.0472 - recall_m: 6.9149e-04\n",
      "Epoch 4: val_f1_m improved from 0.00000 to 0.00033, saving model to sonar_model_multiobjeto.h5\n"
     ]
    },
    {
     "name": "stderr",
     "output_type": "stream",
     "text": [
      "WARNING:absl:You are saving your model as an HDF5 file via `model.save()` or `keras.saving.save_model(model)`. This file format is considered legacy. We recommend using instead the native Keras format, e.g. `model.save('my_model.keras')` or `keras.saving.save_model(model, 'my_model.keras')`. \n"
     ]
    },
    {
     "name": "stdout",
     "output_type": "stream",
     "text": [
      "\u001b[1m500/500\u001b[0m \u001b[32m━━━━━━━━━━━━━━━━━━━━\u001b[0m\u001b[37m\u001b[0m \u001b[1m5s\u001b[0m 9ms/step - accuracy: 0.0191 - f1_m: 0.0024 - loss: 0.0073 - precision_m: 0.0732 - recall_m: 0.0012 - val_accuracy: 0.0422 - val_f1_m: 3.3021e-04 - val_loss: 0.0064 - val_precision_m: 0.0160 - val_recall_m: 1.6683e-04\n",
      "Epoch 5/100\n",
      "\u001b[1m494/500\u001b[0m \u001b[32m━━━━━━━━━━━━━━━━━━━\u001b[0m\u001b[37m━\u001b[0m \u001b[1m0s\u001b[0m 8ms/step - accuracy: 0.0278 - f1_m: 0.0047 - loss: 0.0069 - precision_m: 0.1294 - recall_m: 0.0024\n",
      "Epoch 5: val_f1_m improved from 0.00033 to 0.00134, saving model to sonar_model_multiobjeto.h5\n"
     ]
    },
    {
     "name": "stderr",
     "output_type": "stream",
     "text": [
      "WARNING:absl:You are saving your model as an HDF5 file via `model.save()` or `keras.saving.save_model(model)`. This file format is considered legacy. We recommend using instead the native Keras format, e.g. `model.save('my_model.keras')` or `keras.saving.save_model(model, 'my_model.keras')`. \n"
     ]
    },
    {
     "name": "stdout",
     "output_type": "stream",
     "text": [
      "\u001b[1m500/500\u001b[0m \u001b[32m━━━━━━━━━━━━━━━━━━━━\u001b[0m\u001b[37m\u001b[0m \u001b[1m4s\u001b[0m 9ms/step - accuracy: 0.0306 - f1_m: 0.0057 - loss: 0.0069 - precision_m: 0.1432 - recall_m: 0.0029 - val_accuracy: 0.0690 - val_f1_m: 0.0013 - val_loss: 0.0060 - val_precision_m: 0.0547 - val_recall_m: 6.8022e-04\n",
      "Epoch 6/100\n",
      "\u001b[1m496/500\u001b[0m \u001b[32m━━━━━━━━━━━━━━━━━━━\u001b[0m\u001b[37m━\u001b[0m \u001b[1m0s\u001b[0m 8ms/step - accuracy: 0.0385 - f1_m: 0.0114 - loss: 0.0065 - precision_m: 0.2542 - recall_m: 0.0059\n",
      "Epoch 6: val_f1_m improved from 0.00134 to 0.00761, saving model to sonar_model_multiobjeto.h5\n"
     ]
    },
    {
     "name": "stderr",
     "output_type": "stream",
     "text": [
      "WARNING:absl:You are saving your model as an HDF5 file via `model.save()` or `keras.saving.save_model(model)`. This file format is considered legacy. We recommend using instead the native Keras format, e.g. `model.save('my_model.keras')` or `keras.saving.save_model(model, 'my_model.keras')`. \n"
     ]
    },
    {
     "name": "stdout",
     "output_type": "stream",
     "text": [
      "\u001b[1m500/500\u001b[0m \u001b[32m━━━━━━━━━━━━━━━━━━━━\u001b[0m\u001b[37m\u001b[0m \u001b[1m5s\u001b[0m 9ms/step - accuracy: 0.0401 - f1_m: 0.0125 - loss: 0.0065 - precision_m: 0.2759 - recall_m: 0.0065 - val_accuracy: 0.0675 - val_f1_m: 0.0076 - val_loss: 0.0055 - val_precision_m: 0.2493 - val_recall_m: 0.0039\n",
      "Epoch 7/100\n",
      "\u001b[1m494/500\u001b[0m \u001b[32m━━━━━━━━━━━━━━━━━━━\u001b[0m\u001b[37m━\u001b[0m \u001b[1m0s\u001b[0m 8ms/step - accuracy: 0.0477 - f1_m: 0.0163 - loss: 0.0062 - precision_m: 0.2774 - recall_m: 0.0085\n",
      "Epoch 7: val_f1_m improved from 0.00761 to 0.01120, saving model to sonar_model_multiobjeto.h5\n"
     ]
    },
    {
     "name": "stderr",
     "output_type": "stream",
     "text": [
      "WARNING:absl:You are saving your model as an HDF5 file via `model.save()` or `keras.saving.save_model(model)`. This file format is considered legacy. We recommend using instead the native Keras format, e.g. `model.save('my_model.keras')` or `keras.saving.save_model(model, 'my_model.keras')`. \n"
     ]
    },
    {
     "name": "stdout",
     "output_type": "stream",
     "text": [
      "\u001b[1m500/500\u001b[0m \u001b[32m━━━━━━━━━━━━━━━━━━━━\u001b[0m\u001b[37m\u001b[0m \u001b[1m5s\u001b[0m 9ms/step - accuracy: 0.0476 - f1_m: 0.0171 - loss: 0.0062 - precision_m: 0.2733 - recall_m: 0.0090 - val_accuracy: 0.0755 - val_f1_m: 0.0112 - val_loss: 0.0052 - val_precision_m: 0.3253 - val_recall_m: 0.0057\n",
      "Epoch 8/100\n",
      "\u001b[1m499/500\u001b[0m \u001b[32m━━━━━━━━━━━━━━━━━━━\u001b[0m\u001b[37m━\u001b[0m \u001b[1m0s\u001b[0m 8ms/step - accuracy: 0.0527 - f1_m: 0.0203 - loss: 0.0060 - precision_m: 0.2742 - recall_m: 0.0107\n",
      "Epoch 8: val_f1_m improved from 0.01120 to 0.01542, saving model to sonar_model_multiobjeto.h5\n"
     ]
    },
    {
     "name": "stderr",
     "output_type": "stream",
     "text": [
      "WARNING:absl:You are saving your model as an HDF5 file via `model.save()` or `keras.saving.save_model(model)`. This file format is considered legacy. We recommend using instead the native Keras format, e.g. `model.save('my_model.keras')` or `keras.saving.save_model(model, 'my_model.keras')`. \n"
     ]
    },
    {
     "name": "stdout",
     "output_type": "stream",
     "text": [
      "\u001b[1m500/500\u001b[0m \u001b[32m━━━━━━━━━━━━━━━━━━━━\u001b[0m\u001b[37m\u001b[0m \u001b[1m4s\u001b[0m 9ms/step - accuracy: 0.0517 - f1_m: 0.0201 - loss: 0.0060 - precision_m: 0.2671 - recall_m: 0.0106 - val_accuracy: 0.0913 - val_f1_m: 0.0154 - val_loss: 0.0050 - val_precision_m: 0.3679 - val_recall_m: 0.0079\n",
      "Epoch 9/100\n",
      "\u001b[1m498/500\u001b[0m \u001b[32m━━━━━━━━━━━━━━━━━━━\u001b[0m\u001b[37m━\u001b[0m \u001b[1m0s\u001b[0m 8ms/step - accuracy: 0.0515 - f1_m: 0.0225 - loss: 0.0058 - precision_m: 0.3038 - recall_m: 0.0119\n",
      "Epoch 9: val_f1_m improved from 0.01542 to 0.02039, saving model to sonar_model_multiobjeto.h5\n"
     ]
    },
    {
     "name": "stderr",
     "output_type": "stream",
     "text": [
      "WARNING:absl:You are saving your model as an HDF5 file via `model.save()` or `keras.saving.save_model(model)`. This file format is considered legacy. We recommend using instead the native Keras format, e.g. `model.save('my_model.keras')` or `keras.saving.save_model(model, 'my_model.keras')`. \n"
     ]
    },
    {
     "name": "stdout",
     "output_type": "stream",
     "text": [
      "\u001b[1m500/500\u001b[0m \u001b[32m━━━━━━━━━━━━━━━━━━━━\u001b[0m\u001b[37m\u001b[0m \u001b[1m5s\u001b[0m 9ms/step - accuracy: 0.0546 - f1_m: 0.0240 - loss: 0.0058 - precision_m: 0.3075 - recall_m: 0.0127 - val_accuracy: 0.0812 - val_f1_m: 0.0204 - val_loss: 0.0049 - val_precision_m: 0.4348 - val_recall_m: 0.0105\n",
      "Epoch 10/100\n",
      "\u001b[1m496/500\u001b[0m \u001b[32m━━━━━━━━━━━━━━━━━━━\u001b[0m\u001b[37m━\u001b[0m \u001b[1m0s\u001b[0m 8ms/step - accuracy: 0.0645 - f1_m: 0.0278 - loss: 0.0057 - precision_m: 0.3421 - recall_m: 0.0147\n",
      "Epoch 10: val_f1_m did not improve from 0.02039\n",
      "\u001b[1m500/500\u001b[0m \u001b[32m━━━━━━━━━━━━━━━━━━━━\u001b[0m\u001b[37m\u001b[0m \u001b[1m5s\u001b[0m 9ms/step - accuracy: 0.0630 - f1_m: 0.0275 - loss: 0.0057 - precision_m: 0.3325 - recall_m: 0.0146 - val_accuracy: 0.1007 - val_f1_m: 0.0151 - val_loss: 0.0048 - val_precision_m: 0.3992 - val_recall_m: 0.0077\n",
      "Epoch 11/100\n",
      "\u001b[1m495/500\u001b[0m \u001b[32m━━━━━━━━━━━━━━━━━━━\u001b[0m\u001b[37m━\u001b[0m \u001b[1m0s\u001b[0m 8ms/step - accuracy: 0.0637 - f1_m: 0.0311 - loss: 0.0056 - precision_m: 0.3360 - recall_m: 0.0166\n",
      "Epoch 11: val_f1_m improved from 0.02039 to 0.02867, saving model to sonar_model_multiobjeto.h5\n"
     ]
    },
    {
     "name": "stderr",
     "output_type": "stream",
     "text": [
      "WARNING:absl:You are saving your model as an HDF5 file via `model.save()` or `keras.saving.save_model(model)`. This file format is considered legacy. We recommend using instead the native Keras format, e.g. `model.save('my_model.keras')` or `keras.saving.save_model(model, 'my_model.keras')`. \n"
     ]
    },
    {
     "name": "stdout",
     "output_type": "stream",
     "text": [
      "\u001b[1m500/500\u001b[0m \u001b[32m━━━━━━━━━━━━━━━━━━━━\u001b[0m\u001b[37m\u001b[0m \u001b[1m5s\u001b[0m 9ms/step - accuracy: 0.0634 - f1_m: 0.0298 - loss: 0.0056 - precision_m: 0.3198 - recall_m: 0.0159 - val_accuracy: 0.0975 - val_f1_m: 0.0287 - val_loss: 0.0048 - val_precision_m: 0.4599 - val_recall_m: 0.0150\n",
      "Epoch 12/100\n",
      "\u001b[1m498/500\u001b[0m \u001b[32m━━━━━━━━━━━━━━━━━━━\u001b[0m\u001b[37m━\u001b[0m \u001b[1m0s\u001b[0m 9ms/step - accuracy: 0.0690 - f1_m: 0.0354 - loss: 0.0055 - precision_m: 0.3609 - recall_m: 0.0188\n",
      "Epoch 12: val_f1_m improved from 0.02867 to 0.03300, saving model to sonar_model_multiobjeto.h5\n"
     ]
    },
    {
     "name": "stderr",
     "output_type": "stream",
     "text": [
      "WARNING:absl:You are saving your model as an HDF5 file via `model.save()` or `keras.saving.save_model(model)`. This file format is considered legacy. We recommend using instead the native Keras format, e.g. `model.save('my_model.keras')` or `keras.saving.save_model(model, 'my_model.keras')`. \n"
     ]
    },
    {
     "name": "stdout",
     "output_type": "stream",
     "text": [
      "\u001b[1m500/500\u001b[0m \u001b[32m━━━━━━━━━━━━━━━━━━━━\u001b[0m\u001b[37m\u001b[0m \u001b[1m5s\u001b[0m 10ms/step - accuracy: 0.0684 - f1_m: 0.0335 - loss: 0.0056 - precision_m: 0.3488 - recall_m: 0.0178 - val_accuracy: 0.1015 - val_f1_m: 0.0330 - val_loss: 0.0047 - val_precision_m: 0.5233 - val_recall_m: 0.0172\n",
      "Epoch 13/100\n",
      "\u001b[1m497/500\u001b[0m \u001b[32m━━━━━━━━━━━━━━━━━━━\u001b[0m\u001b[37m━\u001b[0m \u001b[1m0s\u001b[0m 8ms/step - accuracy: 0.0699 - f1_m: 0.0345 - loss: 0.0054 - precision_m: 0.3598 - recall_m: 0.0184\n",
      "Epoch 13: val_f1_m improved from 0.03300 to 0.03306, saving model to sonar_model_multiobjeto.h5\n"
     ]
    },
    {
     "name": "stderr",
     "output_type": "stream",
     "text": [
      "WARNING:absl:You are saving your model as an HDF5 file via `model.save()` or `keras.saving.save_model(model)`. This file format is considered legacy. We recommend using instead the native Keras format, e.g. `model.save('my_model.keras')` or `keras.saving.save_model(model, 'my_model.keras')`. \n"
     ]
    },
    {
     "name": "stdout",
     "output_type": "stream",
     "text": [
      "\u001b[1m500/500\u001b[0m \u001b[32m━━━━━━━━━━━━━━━━━━━━\u001b[0m\u001b[37m\u001b[0m \u001b[1m5s\u001b[0m 9ms/step - accuracy: 0.0677 - f1_m: 0.0340 - loss: 0.0055 - precision_m: 0.3429 - recall_m: 0.0182 - val_accuracy: 0.0910 - val_f1_m: 0.0331 - val_loss: 0.0047 - val_precision_m: 0.4805 - val_recall_m: 0.0174\n",
      "Epoch 14/100\n",
      "\u001b[1m495/500\u001b[0m \u001b[32m━━━━━━━━━━━━━━━━━━━\u001b[0m\u001b[37m━\u001b[0m \u001b[1m0s\u001b[0m 8ms/step - accuracy: 0.0694 - f1_m: 0.0354 - loss: 0.0054 - precision_m: 0.3563 - recall_m: 0.0189\n",
      "Epoch 14: val_f1_m improved from 0.03306 to 0.03352, saving model to sonar_model_multiobjeto.h5\n"
     ]
    },
    {
     "name": "stderr",
     "output_type": "stream",
     "text": [
      "WARNING:absl:You are saving your model as an HDF5 file via `model.save()` or `keras.saving.save_model(model)`. This file format is considered legacy. We recommend using instead the native Keras format, e.g. `model.save('my_model.keras')` or `keras.saving.save_model(model, 'my_model.keras')`. \n"
     ]
    },
    {
     "name": "stdout",
     "output_type": "stream",
     "text": [
      "\u001b[1m500/500\u001b[0m \u001b[32m━━━━━━━━━━━━━━━━━━━━\u001b[0m\u001b[37m\u001b[0m \u001b[1m4s\u001b[0m 9ms/step - accuracy: 0.0691 - f1_m: 0.0359 - loss: 0.0054 - precision_m: 0.3454 - recall_m: 0.0192 - val_accuracy: 0.1000 - val_f1_m: 0.0335 - val_loss: 0.0046 - val_precision_m: 0.4994 - val_recall_m: 0.0176\n",
      "Epoch 15/100\n",
      "\u001b[1m497/500\u001b[0m \u001b[32m━━━━━━━━━━━━━━━━━━━\u001b[0m\u001b[37m━\u001b[0m \u001b[1m0s\u001b[0m 8ms/step - accuracy: 0.0695 - f1_m: 0.0397 - loss: 0.0054 - precision_m: 0.3699 - recall_m: 0.0213\n",
      "Epoch 15: val_f1_m improved from 0.03352 to 0.04213, saving model to sonar_model_multiobjeto.h5\n"
     ]
    },
    {
     "name": "stderr",
     "output_type": "stream",
     "text": [
      "WARNING:absl:You are saving your model as an HDF5 file via `model.save()` or `keras.saving.save_model(model)`. This file format is considered legacy. We recommend using instead the native Keras format, e.g. `model.save('my_model.keras')` or `keras.saving.save_model(model, 'my_model.keras')`. \n"
     ]
    },
    {
     "name": "stdout",
     "output_type": "stream",
     "text": [
      "\u001b[1m500/500\u001b[0m \u001b[32m━━━━━━━━━━━━━━━━━━━━\u001b[0m\u001b[37m\u001b[0m \u001b[1m4s\u001b[0m 9ms/step - accuracy: 0.0714 - f1_m: 0.0396 - loss: 0.0054 - precision_m: 0.3713 - recall_m: 0.0213 - val_accuracy: 0.1007 - val_f1_m: 0.0421 - val_loss: 0.0046 - val_precision_m: 0.5465 - val_recall_m: 0.0222\n",
      "Epoch 16/100\n",
      "\u001b[1m499/500\u001b[0m \u001b[32m━━━━━━━━━━━━━━━━━━━\u001b[0m\u001b[37m━\u001b[0m \u001b[1m0s\u001b[0m 9ms/step - accuracy: 0.0752 - f1_m: 0.0434 - loss: 0.0053 - precision_m: 0.3650 - recall_m: 0.0234\n",
      "Epoch 16: val_f1_m did not improve from 0.04213\n",
      "\u001b[1m500/500\u001b[0m \u001b[32m━━━━━━━━━━━━━━━━━━━━\u001b[0m\u001b[37m\u001b[0m \u001b[1m5s\u001b[0m 9ms/step - accuracy: 0.0723 - f1_m: 0.0422 - loss: 0.0053 - precision_m: 0.3680 - recall_m: 0.0227 - val_accuracy: 0.0970 - val_f1_m: 0.0374 - val_loss: 0.0046 - val_precision_m: 0.5183 - val_recall_m: 0.0196\n",
      "Epoch 17/100\n",
      "\u001b[1m499/500\u001b[0m \u001b[32m━━━━━━━━━━━━━━━━━━━\u001b[0m\u001b[37m━\u001b[0m \u001b[1m0s\u001b[0m 8ms/step - accuracy: 0.0784 - f1_m: 0.0434 - loss: 0.0053 - precision_m: 0.3819 - recall_m: 0.0233\n",
      "Epoch 17: val_f1_m did not improve from 0.04213\n",
      "\u001b[1m500/500\u001b[0m \u001b[32m━━━━━━━━━━━━━━━━━━━━\u001b[0m\u001b[37m\u001b[0m \u001b[1m4s\u001b[0m 9ms/step - accuracy: 0.0781 - f1_m: 0.0429 - loss: 0.0053 - precision_m: 0.3746 - recall_m: 0.0231 - val_accuracy: 0.1002 - val_f1_m: 0.0340 - val_loss: 0.0045 - val_precision_m: 0.5060 - val_recall_m: 0.0178\n",
      "Epoch 18/100\n",
      "\u001b[1m494/500\u001b[0m \u001b[32m━━━━━━━━━━━━━━━━━━━\u001b[0m\u001b[37m━\u001b[0m \u001b[1m0s\u001b[0m 8ms/step - accuracy: 0.0765 - f1_m: 0.0415 - loss: 0.0052 - precision_m: 0.3446 - recall_m: 0.0225\n",
      "Epoch 18: val_f1_m did not improve from 0.04213\n",
      "\u001b[1m500/500\u001b[0m \u001b[32m━━━━━━━━━━━━━━━━━━━━\u001b[0m\u001b[37m\u001b[0m \u001b[1m4s\u001b[0m 9ms/step - accuracy: 0.0726 - f1_m: 0.0405 - loss: 0.0052 - precision_m: 0.3424 - recall_m: 0.0219 - val_accuracy: 0.1053 - val_f1_m: 0.0357 - val_loss: 0.0045 - val_precision_m: 0.5592 - val_recall_m: 0.0186\n",
      "Epoch 19/100\n",
      "\u001b[1m494/500\u001b[0m \u001b[32m━━━━━━━━━━━━━━━━━━━\u001b[0m\u001b[37m━\u001b[0m \u001b[1m0s\u001b[0m 8ms/step - accuracy: 0.0792 - f1_m: 0.0451 - loss: 0.0052 - precision_m: 0.3731 - recall_m: 0.0243\n",
      "Epoch 19: val_f1_m did not improve from 0.04213\n",
      "\u001b[1m500/500\u001b[0m \u001b[32m━━━━━━━━━━━━━━━━━━━━\u001b[0m\u001b[37m\u001b[0m \u001b[1m4s\u001b[0m 9ms/step - accuracy: 0.0728 - f1_m: 0.0446 - loss: 0.0052 - precision_m: 0.3785 - recall_m: 0.0241 - val_accuracy: 0.1130 - val_f1_m: 0.0316 - val_loss: 0.0045 - val_precision_m: 0.5067 - val_recall_m: 0.0165\n",
      "Epoch 20/100\n",
      "\u001b[1m497/500\u001b[0m \u001b[32m━━━━━━━━━━━━━━━━━━━\u001b[0m\u001b[37m━\u001b[0m \u001b[1m0s\u001b[0m 8ms/step - accuracy: 0.0859 - f1_m: 0.0434 - loss: 0.0051 - precision_m: 0.3667 - recall_m: 0.0234\n",
      "Epoch 20: val_f1_m did not improve from 0.04213\n",
      "\u001b[1m500/500\u001b[0m \u001b[32m━━━━━━━━━━━━━━━━━━━━\u001b[0m\u001b[37m\u001b[0m \u001b[1m5s\u001b[0m 9ms/step - accuracy: 0.0786 - f1_m: 0.0437 - loss: 0.0052 - precision_m: 0.3728 - recall_m: 0.0236 - val_accuracy: 0.1110 - val_f1_m: 0.0400 - val_loss: 0.0045 - val_precision_m: 0.5338 - val_recall_m: 0.0211\n",
      "Epoch 21/100\n",
      "\u001b[1m494/500\u001b[0m \u001b[32m━━━━━━━━━━━━━━━━━━━\u001b[0m\u001b[37m━\u001b[0m \u001b[1m0s\u001b[0m 8ms/step - accuracy: 0.0761 - f1_m: 0.0409 - loss: 0.0051 - precision_m: 0.3607 - recall_m: 0.0220\n",
      "Epoch 21: val_f1_m improved from 0.04213 to 0.04450, saving model to sonar_model_multiobjeto.h5\n"
     ]
    },
    {
     "name": "stderr",
     "output_type": "stream",
     "text": [
      "WARNING:absl:You are saving your model as an HDF5 file via `model.save()` or `keras.saving.save_model(model)`. This file format is considered legacy. We recommend using instead the native Keras format, e.g. `model.save('my_model.keras')` or `keras.saving.save_model(model, 'my_model.keras')`. \n"
     ]
    },
    {
     "name": "stdout",
     "output_type": "stream",
     "text": [
      "\u001b[1m500/500\u001b[0m \u001b[32m━━━━━━━━━━━━━━━━━━━━\u001b[0m\u001b[37m\u001b[0m \u001b[1m4s\u001b[0m 9ms/step - accuracy: 0.0782 - f1_m: 0.0433 - loss: 0.0051 - precision_m: 0.3686 - recall_m: 0.0233 - val_accuracy: 0.1002 - val_f1_m: 0.0445 - val_loss: 0.0044 - val_precision_m: 0.5092 - val_recall_m: 0.0235\n",
      "Epoch 22/100\n",
      "\u001b[1m500/500\u001b[0m \u001b[32m━━━━━━━━━━━━━━━━━━━━\u001b[0m\u001b[37m\u001b[0m \u001b[1m0s\u001b[0m 8ms/step - accuracy: 0.0791 - f1_m: 0.0484 - loss: 0.0051 - precision_m: 0.3929 - recall_m: 0.0262\n",
      "Epoch 22: val_f1_m did not improve from 0.04450\n",
      "\u001b[1m500/500\u001b[0m \u001b[32m━━━━━━━━━━━━━━━━━━━━\u001b[0m\u001b[37m\u001b[0m \u001b[1m5s\u001b[0m 9ms/step - accuracy: 0.0793 - f1_m: 0.0473 - loss: 0.0051 - precision_m: 0.3891 - recall_m: 0.0256 - val_accuracy: 0.1110 - val_f1_m: 0.0411 - val_loss: 0.0044 - val_precision_m: 0.5432 - val_recall_m: 0.0216\n",
      "Epoch 23/100\n",
      "\u001b[1m496/500\u001b[0m \u001b[32m━━━━━━━━━━━━━━━━━━━\u001b[0m\u001b[37m━\u001b[0m \u001b[1m0s\u001b[0m 8ms/step - accuracy: 0.0802 - f1_m: 0.0482 - loss: 0.0050 - precision_m: 0.3948 - recall_m: 0.0261\n",
      "Epoch 23: val_f1_m did not improve from 0.04450\n",
      "\u001b[1m500/500\u001b[0m \u001b[32m━━━━━━━━━━━━━━━━━━━━\u001b[0m\u001b[37m\u001b[0m \u001b[1m4s\u001b[0m 9ms/step - accuracy: 0.0777 - f1_m: 0.0469 - loss: 0.0051 - precision_m: 0.3815 - recall_m: 0.0254 - val_accuracy: 0.1120 - val_f1_m: 0.0401 - val_loss: 0.0044 - val_precision_m: 0.5448 - val_recall_m: 0.0210\n",
      "Epoch 24/100\n",
      "\u001b[1m497/500\u001b[0m \u001b[32m━━━━━━━━━━━━━━━━━━━\u001b[0m\u001b[37m━\u001b[0m \u001b[1m0s\u001b[0m 8ms/step - accuracy: 0.0828 - f1_m: 0.0451 - loss: 0.0050 - precision_m: 0.3623 - recall_m: 0.0244\n",
      "Epoch 24: val_f1_m improved from 0.04450 to 0.04755, saving model to sonar_model_multiobjeto.h5\n"
     ]
    },
    {
     "name": "stderr",
     "output_type": "stream",
     "text": [
      "WARNING:absl:You are saving your model as an HDF5 file via `model.save()` or `keras.saving.save_model(model)`. This file format is considered legacy. We recommend using instead the native Keras format, e.g. `model.save('my_model.keras')` or `keras.saving.save_model(model, 'my_model.keras')`. \n"
     ]
    },
    {
     "name": "stdout",
     "output_type": "stream",
     "text": [
      "\u001b[1m500/500\u001b[0m \u001b[32m━━━━━━━━━━━━━━━━━━━━\u001b[0m\u001b[37m\u001b[0m \u001b[1m4s\u001b[0m 9ms/step - accuracy: 0.0814 - f1_m: 0.0461 - loss: 0.0051 - precision_m: 0.3717 - recall_m: 0.0250 - val_accuracy: 0.1077 - val_f1_m: 0.0475 - val_loss: 0.0044 - val_precision_m: 0.5579 - val_recall_m: 0.0252\n",
      "Epoch 25/100\n",
      "\u001b[1m494/500\u001b[0m \u001b[32m━━━━━━━━━━━━━━━━━━━\u001b[0m\u001b[37m━\u001b[0m \u001b[1m0s\u001b[0m 8ms/step - accuracy: 0.0894 - f1_m: 0.0445 - loss: 0.0050 - precision_m: 0.3678 - recall_m: 0.0241\n",
      "Epoch 25: val_f1_m did not improve from 0.04755\n",
      "\u001b[1m500/500\u001b[0m \u001b[32m━━━━━━━━━━━━━━━━━━━━\u001b[0m\u001b[37m\u001b[0m \u001b[1m4s\u001b[0m 9ms/step - accuracy: 0.0841 - f1_m: 0.0461 - loss: 0.0050 - precision_m: 0.3793 - recall_m: 0.0249 - val_accuracy: 0.1058 - val_f1_m: 0.0435 - val_loss: 0.0044 - val_precision_m: 0.5531 - val_recall_m: 0.0229\n",
      "Epoch 26/100\n",
      "\u001b[1m500/500\u001b[0m \u001b[32m━━━━━━━━━━━━━━━━━━━━\u001b[0m\u001b[37m\u001b[0m \u001b[1m0s\u001b[0m 8ms/step - accuracy: 0.0776 - f1_m: 0.0483 - loss: 0.0049 - precision_m: 0.3891 - recall_m: 0.0261\n",
      "Epoch 26: val_f1_m did not improve from 0.04755\n",
      "\u001b[1m500/500\u001b[0m \u001b[32m━━━━━━━━━━━━━━━━━━━━\u001b[0m\u001b[37m\u001b[0m \u001b[1m5s\u001b[0m 9ms/step - accuracy: 0.0784 - f1_m: 0.0483 - loss: 0.0050 - precision_m: 0.3964 - recall_m: 0.0262 - val_accuracy: 0.1133 - val_f1_m: 0.0474 - val_loss: 0.0044 - val_precision_m: 0.5557 - val_recall_m: 0.0251\n",
      "Epoch 27/100\n",
      "\u001b[1m494/500\u001b[0m \u001b[32m━━━━━━━━━━━━━━━━━━━\u001b[0m\u001b[37m━\u001b[0m \u001b[1m0s\u001b[0m 8ms/step - accuracy: 0.0821 - f1_m: 0.0499 - loss: 0.0049 - precision_m: 0.4015 - recall_m: 0.0271\n",
      "Epoch 27: val_f1_m did not improve from 0.04755\n",
      "\u001b[1m500/500\u001b[0m \u001b[32m━━━━━━━━━━━━━━━━━━━━\u001b[0m\u001b[37m\u001b[0m \u001b[1m5s\u001b[0m 9ms/step - accuracy: 0.0817 - f1_m: 0.0492 - loss: 0.0050 - precision_m: 0.3932 - recall_m: 0.0267 - val_accuracy: 0.1088 - val_f1_m: 0.0458 - val_loss: 0.0043 - val_precision_m: 0.5759 - val_recall_m: 0.0241\n",
      "Epoch 28/100\n",
      "\u001b[1m500/500\u001b[0m \u001b[32m━━━━━━━━━━━━━━━━━━━━\u001b[0m\u001b[37m\u001b[0m \u001b[1m0s\u001b[0m 8ms/step - accuracy: 0.0854 - f1_m: 0.0468 - loss: 0.0049 - precision_m: 0.3736 - recall_m: 0.0253\n",
      "Epoch 28: val_f1_m did not improve from 0.04755\n",
      "\u001b[1m500/500\u001b[0m \u001b[32m━━━━━━━━━━━━━━━━━━━━\u001b[0m\u001b[37m\u001b[0m \u001b[1m4s\u001b[0m 9ms/step - accuracy: 0.0836 - f1_m: 0.0487 - loss: 0.0050 - precision_m: 0.3874 - recall_m: 0.0264 - val_accuracy: 0.1140 - val_f1_m: 0.0464 - val_loss: 0.0043 - val_precision_m: 0.5564 - val_recall_m: 0.0245\n",
      "Epoch 29/100\n",
      "\u001b[1m496/500\u001b[0m \u001b[32m━━━━━━━━━━━━━━━━━━━\u001b[0m\u001b[37m━\u001b[0m \u001b[1m0s\u001b[0m 8ms/step - accuracy: 0.0841 - f1_m: 0.0522 - loss: 0.0049 - precision_m: 0.3946 - recall_m: 0.0283\n",
      "Epoch 29: val_f1_m did not improve from 0.04755\n",
      "\u001b[1m500/500\u001b[0m \u001b[32m━━━━━━━━━━━━━━━━━━━━\u001b[0m\u001b[37m\u001b[0m \u001b[1m5s\u001b[0m 9ms/step - accuracy: 0.0855 - f1_m: 0.0513 - loss: 0.0049 - precision_m: 0.4008 - recall_m: 0.0278 - val_accuracy: 0.1142 - val_f1_m: 0.0443 - val_loss: 0.0043 - val_precision_m: 0.5750 - val_recall_m: 0.0233\n",
      "Epoch 30/100\n",
      "\u001b[1m495/500\u001b[0m \u001b[32m━━━━━━━━━━━━━━━━━━━\u001b[0m\u001b[37m━\u001b[0m \u001b[1m0s\u001b[0m 8ms/step - accuracy: 0.0860 - f1_m: 0.0528 - loss: 0.0049 - precision_m: 0.4163 - recall_m: 0.0286\n",
      "Epoch 30: val_f1_m did not improve from 0.04755\n",
      "\u001b[1m500/500\u001b[0m \u001b[32m━━━━━━━━━━━━━━━━━━━━\u001b[0m\u001b[37m\u001b[0m \u001b[1m4s\u001b[0m 9ms/step - accuracy: 0.0822 - f1_m: 0.0507 - loss: 0.0049 - precision_m: 0.3977 - recall_m: 0.0275 - val_accuracy: 0.1085 - val_f1_m: 0.0408 - val_loss: 0.0043 - val_precision_m: 0.5439 - val_recall_m: 0.0214\n",
      "Epoch 31/100\n",
      "\u001b[1m498/500\u001b[0m \u001b[32m━━━━━━━━━━━━━━━━━━━\u001b[0m\u001b[37m━\u001b[0m \u001b[1m0s\u001b[0m 8ms/step - accuracy: 0.0906 - f1_m: 0.0545 - loss: 0.0049 - precision_m: 0.4219 - recall_m: 0.0295\n",
      "Epoch 31: val_f1_m improved from 0.04755 to 0.04969, saving model to sonar_model_multiobjeto.h5\n"
     ]
    },
    {
     "name": "stderr",
     "output_type": "stream",
     "text": [
      "WARNING:absl:You are saving your model as an HDF5 file via `model.save()` or `keras.saving.save_model(model)`. This file format is considered legacy. We recommend using instead the native Keras format, e.g. `model.save('my_model.keras')` or `keras.saving.save_model(model, 'my_model.keras')`. \n"
     ]
    },
    {
     "name": "stdout",
     "output_type": "stream",
     "text": [
      "\u001b[1m500/500\u001b[0m \u001b[32m━━━━━━━━━━━━━━━━━━━━\u001b[0m\u001b[37m\u001b[0m \u001b[1m4s\u001b[0m 9ms/step - accuracy: 0.0880 - f1_m: 0.0522 - loss: 0.0049 - precision_m: 0.4077 - recall_m: 0.0283 - val_accuracy: 0.1065 - val_f1_m: 0.0497 - val_loss: 0.0043 - val_precision_m: 0.5501 - val_recall_m: 0.0263\n",
      "Epoch 32/100\n",
      "\u001b[1m495/500\u001b[0m \u001b[32m━━━━━━━━━━━━━━━━━━━\u001b[0m\u001b[37m━\u001b[0m \u001b[1m0s\u001b[0m 8ms/step - accuracy: 0.0918 - f1_m: 0.0533 - loss: 0.0049 - precision_m: 0.4118 - recall_m: 0.0289\n",
      "Epoch 32: val_f1_m did not improve from 0.04969\n",
      "\u001b[1m500/500\u001b[0m \u001b[32m━━━━━━━━━━━━━━━━━━━━\u001b[0m\u001b[37m\u001b[0m \u001b[1m4s\u001b[0m 9ms/step - accuracy: 0.0893 - f1_m: 0.0506 - loss: 0.0049 - precision_m: 0.4009 - recall_m: 0.0274 - val_accuracy: 0.1105 - val_f1_m: 0.0429 - val_loss: 0.0043 - val_precision_m: 0.5691 - val_recall_m: 0.0225\n",
      "Epoch 33/100\n",
      "\u001b[1m496/500\u001b[0m \u001b[32m━━━━━━━━━━━━━━━━━━━\u001b[0m\u001b[37m━\u001b[0m \u001b[1m0s\u001b[0m 8ms/step - accuracy: 0.0888 - f1_m: 0.0524 - loss: 0.0048 - precision_m: 0.4091 - recall_m: 0.0284\n",
      "Epoch 33: val_f1_m did not improve from 0.04969\n",
      "\u001b[1m500/500\u001b[0m \u001b[32m━━━━━━━━━━━━━━━━━━━━\u001b[0m\u001b[37m\u001b[0m \u001b[1m4s\u001b[0m 9ms/step - accuracy: 0.0861 - f1_m: 0.0507 - loss: 0.0049 - precision_m: 0.3968 - recall_m: 0.0275 - val_accuracy: 0.1105 - val_f1_m: 0.0457 - val_loss: 0.0043 - val_precision_m: 0.5668 - val_recall_m: 0.0240\n",
      "Epoch 34/100\n",
      "\u001b[1m495/500\u001b[0m \u001b[32m━━━━━━━━━━━━━━━━━━━\u001b[0m\u001b[37m━\u001b[0m \u001b[1m0s\u001b[0m 8ms/step - accuracy: 0.0895 - f1_m: 0.0568 - loss: 0.0048 - precision_m: 0.4361 - recall_m: 0.0309\n",
      "Epoch 34: val_f1_m did not improve from 0.04969\n",
      "\u001b[1m500/500\u001b[0m \u001b[32m━━━━━━━━━━━━━━━━━━━━\u001b[0m\u001b[37m\u001b[0m \u001b[1m4s\u001b[0m 9ms/step - accuracy: 0.0868 - f1_m: 0.0544 - loss: 0.0048 - precision_m: 0.4160 - recall_m: 0.0296 - val_accuracy: 0.1125 - val_f1_m: 0.0414 - val_loss: 0.0043 - val_precision_m: 0.5751 - val_recall_m: 0.0217\n",
      "Epoch 35/100\n",
      "\u001b[1m497/500\u001b[0m \u001b[32m━━━━━━━━━━━━━━━━━━━\u001b[0m\u001b[37m━\u001b[0m \u001b[1m0s\u001b[0m 8ms/step - accuracy: 0.0920 - f1_m: 0.0537 - loss: 0.0048 - precision_m: 0.4303 - recall_m: 0.0291\n",
      "Epoch 35: val_f1_m did not improve from 0.04969\n",
      "\u001b[1m500/500\u001b[0m \u001b[32m━━━━━━━━━━━━━━━━━━━━\u001b[0m\u001b[37m\u001b[0m \u001b[1m4s\u001b[0m 9ms/step - accuracy: 0.0904 - f1_m: 0.0533 - loss: 0.0048 - precision_m: 0.4248 - recall_m: 0.0289 - val_accuracy: 0.1173 - val_f1_m: 0.0457 - val_loss: 0.0043 - val_precision_m: 0.5721 - val_recall_m: 0.0240\n",
      "Epoch 36/100\n",
      "\u001b[1m494/500\u001b[0m \u001b[32m━━━━━━━━━━━━━━━━━━━\u001b[0m\u001b[37m━\u001b[0m \u001b[1m0s\u001b[0m 8ms/step - accuracy: 0.0912 - f1_m: 0.0543 - loss: 0.0048 - precision_m: 0.4120 - recall_m: 0.0294\n",
      "Epoch 36: val_f1_m did not improve from 0.04969\n",
      "\u001b[1m500/500\u001b[0m \u001b[32m━━━━━━━━━━━━━━━━━━━━\u001b[0m\u001b[37m\u001b[0m \u001b[1m4s\u001b[0m 9ms/step - accuracy: 0.0900 - f1_m: 0.0514 - loss: 0.0048 - precision_m: 0.3966 - recall_m: 0.0279 - val_accuracy: 0.1112 - val_f1_m: 0.0423 - val_loss: 0.0043 - val_precision_m: 0.5979 - val_recall_m: 0.0222\n",
      "Epoch 37/100\n",
      "\u001b[1m497/500\u001b[0m \u001b[32m━━━━━━━━━━━━━━━━━━━\u001b[0m\u001b[37m━\u001b[0m \u001b[1m0s\u001b[0m 8ms/step - accuracy: 0.0962 - f1_m: 0.0527 - loss: 0.0048 - precision_m: 0.4126 - recall_m: 0.0286\n",
      "Epoch 37: val_f1_m improved from 0.04969 to 0.04993, saving model to sonar_model_multiobjeto.h5\n"
     ]
    },
    {
     "name": "stderr",
     "output_type": "stream",
     "text": [
      "WARNING:absl:You are saving your model as an HDF5 file via `model.save()` or `keras.saving.save_model(model)`. This file format is considered legacy. We recommend using instead the native Keras format, e.g. `model.save('my_model.keras')` or `keras.saving.save_model(model, 'my_model.keras')`. \n"
     ]
    },
    {
     "name": "stdout",
     "output_type": "stream",
     "text": [
      "\u001b[1m500/500\u001b[0m \u001b[32m━━━━━━━━━━━━━━━━━━━━\u001b[0m\u001b[37m\u001b[0m \u001b[1m4s\u001b[0m 9ms/step - accuracy: 0.0908 - f1_m: 0.0532 - loss: 0.0048 - precision_m: 0.4076 - recall_m: 0.0289 - val_accuracy: 0.1055 - val_f1_m: 0.0499 - val_loss: 0.0043 - val_precision_m: 0.6050 - val_recall_m: 0.0263\n",
      "Epoch 38/100\n",
      "\u001b[1m496/500\u001b[0m \u001b[32m━━━━━━━━━━━━━━━━━━━\u001b[0m\u001b[37m━\u001b[0m \u001b[1m0s\u001b[0m 8ms/step - accuracy: 0.0964 - f1_m: 0.0584 - loss: 0.0048 - precision_m: 0.4307 - recall_m: 0.0318\n",
      "Epoch 38: val_f1_m did not improve from 0.04993\n",
      "\u001b[1m500/500\u001b[0m \u001b[32m━━━━━━━━━━━━━━━━━━━━\u001b[0m\u001b[37m\u001b[0m \u001b[1m4s\u001b[0m 9ms/step - accuracy: 0.0906 - f1_m: 0.0562 - loss: 0.0048 - precision_m: 0.4190 - recall_m: 0.0306 - val_accuracy: 0.1100 - val_f1_m: 0.0457 - val_loss: 0.0042 - val_precision_m: 0.5669 - val_recall_m: 0.0241\n",
      "Epoch 39/100\n",
      "\u001b[1m494/500\u001b[0m \u001b[32m━━━━━━━━━━━━━━━━━━━\u001b[0m\u001b[37m━\u001b[0m \u001b[1m0s\u001b[0m 8ms/step - accuracy: 0.0934 - f1_m: 0.0547 - loss: 0.0048 - precision_m: 0.3996 - recall_m: 0.0297\n",
      "Epoch 39: val_f1_m did not improve from 0.04993\n",
      "\u001b[1m500/500\u001b[0m \u001b[32m━━━━━━━━━━━━━━━━━━━━\u001b[0m\u001b[37m\u001b[0m \u001b[1m5s\u001b[0m 9ms/step - accuracy: 0.0911 - f1_m: 0.0565 - loss: 0.0048 - precision_m: 0.3974 - recall_m: 0.0308 - val_accuracy: 0.1090 - val_f1_m: 0.0403 - val_loss: 0.0042 - val_precision_m: 0.5833 - val_recall_m: 0.0211\n",
      "Epoch 40/100\n",
      "\u001b[1m498/500\u001b[0m \u001b[32m━━━━━━━━━━━━━━━━━━━\u001b[0m\u001b[37m━\u001b[0m \u001b[1m0s\u001b[0m 8ms/step - accuracy: 0.0863 - f1_m: 0.0564 - loss: 0.0047 - precision_m: 0.4376 - recall_m: 0.0307\n",
      "Epoch 40: val_f1_m did not improve from 0.04993\n",
      "\u001b[1m500/500\u001b[0m \u001b[32m━━━━━━━━━━━━━━━━━━━━\u001b[0m\u001b[37m\u001b[0m \u001b[1m4s\u001b[0m 9ms/step - accuracy: 0.0865 - f1_m: 0.0551 - loss: 0.0048 - precision_m: 0.4138 - recall_m: 0.0300 - val_accuracy: 0.1138 - val_f1_m: 0.0399 - val_loss: 0.0042 - val_precision_m: 0.5462 - val_recall_m: 0.0209\n",
      "Epoch 41/100\n",
      "\u001b[1m500/500\u001b[0m \u001b[32m━━━━━━━━━━━━━━━━━━━━\u001b[0m\u001b[37m\u001b[0m \u001b[1m0s\u001b[0m 8ms/step - accuracy: 0.0923 - f1_m: 0.0561 - loss: 0.0047 - precision_m: 0.4115 - recall_m: 0.0305\n",
      "Epoch 41: val_f1_m did not improve from 0.04993\n",
      "\u001b[1m500/500\u001b[0m \u001b[32m━━━━━━━━━━━━━━━━━━━━\u001b[0m\u001b[37m\u001b[0m \u001b[1m4s\u001b[0m 9ms/step - accuracy: 0.0899 - f1_m: 0.0552 - loss: 0.0047 - precision_m: 0.4061 - recall_m: 0.0301 - val_accuracy: 0.1053 - val_f1_m: 0.0378 - val_loss: 0.0042 - val_precision_m: 0.5988 - val_recall_m: 0.0197\n",
      "Epoch 42/100\n",
      "\u001b[1m500/500\u001b[0m \u001b[32m━━━━━━━━━━━━━━━━━━━━\u001b[0m\u001b[37m\u001b[0m \u001b[1m0s\u001b[0m 8ms/step - accuracy: 0.0924 - f1_m: 0.0573 - loss: 0.0047 - precision_m: 0.4175 - recall_m: 0.0312\n",
      "Epoch 42: val_f1_m did not improve from 0.04993\n",
      "\u001b[1m500/500\u001b[0m \u001b[32m━━━━━━━━━━━━━━━━━━━━\u001b[0m\u001b[37m\u001b[0m \u001b[1m5s\u001b[0m 9ms/step - accuracy: 0.0902 - f1_m: 0.0569 - loss: 0.0047 - precision_m: 0.4089 - recall_m: 0.0311 - val_accuracy: 0.1160 - val_f1_m: 0.0406 - val_loss: 0.0042 - val_precision_m: 0.5958 - val_recall_m: 0.0212\n",
      "Epoch 43/100\n",
      "\u001b[1m500/500\u001b[0m \u001b[32m━━━━━━━━━━━━━━━━━━━━\u001b[0m\u001b[37m\u001b[0m \u001b[1m0s\u001b[0m 8ms/step - accuracy: 0.0971 - f1_m: 0.0576 - loss: 0.0047 - precision_m: 0.4261 - recall_m: 0.0313\n",
      "Epoch 43: val_f1_m did not improve from 0.04993\n",
      "\u001b[1m500/500\u001b[0m \u001b[32m━━━━━━━━━━━━━━━━━━━━\u001b[0m\u001b[37m\u001b[0m \u001b[1m4s\u001b[0m 9ms/step - accuracy: 0.0948 - f1_m: 0.0576 - loss: 0.0047 - precision_m: 0.4255 - recall_m: 0.0313 - val_accuracy: 0.1208 - val_f1_m: 0.0387 - val_loss: 0.0042 - val_precision_m: 0.5785 - val_recall_m: 0.0202\n",
      "Epoch 44/100\n",
      "\u001b[1m495/500\u001b[0m \u001b[32m━━━━━━━━━━━━━━━━━━━\u001b[0m\u001b[37m━\u001b[0m \u001b[1m0s\u001b[0m 8ms/step - accuracy: 0.0971 - f1_m: 0.0589 - loss: 0.0047 - precision_m: 0.4345 - recall_m: 0.0320\n",
      "Epoch 44: val_f1_m did not improve from 0.04993\n",
      "\u001b[1m500/500\u001b[0m \u001b[32m━━━━━━━━━━━━━━━━━━━━\u001b[0m\u001b[37m\u001b[0m \u001b[1m4s\u001b[0m 9ms/step - accuracy: 0.0932 - f1_m: 0.0569 - loss: 0.0047 - precision_m: 0.4182 - recall_m: 0.0309 - val_accuracy: 0.1195 - val_f1_m: 0.0418 - val_loss: 0.0042 - val_precision_m: 0.5993 - val_recall_m: 0.0219\n",
      "Epoch 45/100\n",
      "\u001b[1m495/500\u001b[0m \u001b[32m━━━━━━━━━━━━━━━━━━━\u001b[0m\u001b[37m━\u001b[0m \u001b[1m0s\u001b[0m 8ms/step - accuracy: 0.0945 - f1_m: 0.0593 - loss: 0.0047 - precision_m: 0.4443 - recall_m: 0.0322\n",
      "Epoch 45: val_f1_m did not improve from 0.04993\n",
      "\u001b[1m500/500\u001b[0m \u001b[32m━━━━━━━━━━━━━━━━━━━━\u001b[0m\u001b[37m\u001b[0m \u001b[1m4s\u001b[0m 9ms/step - accuracy: 0.0936 - f1_m: 0.0571 - loss: 0.0047 - precision_m: 0.4306 - recall_m: 0.0311 - val_accuracy: 0.1182 - val_f1_m: 0.0450 - val_loss: 0.0042 - val_precision_m: 0.6135 - val_recall_m: 0.0236\n",
      "Epoch 46/100\n",
      "\u001b[1m500/500\u001b[0m \u001b[32m━━━━━━━━━━━━━━━━━━━━\u001b[0m\u001b[37m\u001b[0m \u001b[1m0s\u001b[0m 8ms/step - accuracy: 0.0935 - f1_m: 0.0597 - loss: 0.0047 - precision_m: 0.4199 - recall_m: 0.0326\n",
      "Epoch 46: val_f1_m did not improve from 0.04993\n",
      "\u001b[1m500/500\u001b[0m \u001b[32m━━━━━━━━━━━━━━━━━━━━\u001b[0m\u001b[37m\u001b[0m \u001b[1m5s\u001b[0m 9ms/step - accuracy: 0.0951 - f1_m: 0.0586 - loss: 0.0047 - precision_m: 0.4213 - recall_m: 0.0319 - val_accuracy: 0.1120 - val_f1_m: 0.0444 - val_loss: 0.0042 - val_precision_m: 0.5706 - val_recall_m: 0.0233\n",
      "Epoch 47/100\n",
      "\u001b[1m496/500\u001b[0m \u001b[32m━━━━━━━━━━━━━━━━━━━\u001b[0m\u001b[37m━\u001b[0m \u001b[1m0s\u001b[0m 8ms/step - accuracy: 0.0968 - f1_m: 0.0595 - loss: 0.0047 - precision_m: 0.4427 - recall_m: 0.0323\n",
      "Epoch 47: val_f1_m did not improve from 0.04993\n",
      "\u001b[1m500/500\u001b[0m \u001b[32m━━━━━━━━━━━━━━━━━━━━\u001b[0m\u001b[37m\u001b[0m \u001b[1m4s\u001b[0m 9ms/step - accuracy: 0.0937 - f1_m: 0.0591 - loss: 0.0047 - precision_m: 0.4294 - recall_m: 0.0322 - val_accuracy: 0.1157 - val_f1_m: 0.0382 - val_loss: 0.0042 - val_precision_m: 0.5709 - val_recall_m: 0.0200\n",
      "Epoch 48/100\n",
      "\u001b[1m495/500\u001b[0m \u001b[32m━━━━━━━━━━━━━━━━━━━\u001b[0m\u001b[37m━\u001b[0m \u001b[1m0s\u001b[0m 8ms/step - accuracy: 0.0976 - f1_m: 0.0573 - loss: 0.0047 - precision_m: 0.4190 - recall_m: 0.0312\n",
      "Epoch 48: val_f1_m did not improve from 0.04993\n",
      "\u001b[1m500/500\u001b[0m \u001b[32m━━━━━━━━━━━━━━━━━━━━\u001b[0m\u001b[37m\u001b[0m \u001b[1m4s\u001b[0m 9ms/step - accuracy: 0.0943 - f1_m: 0.0587 - loss: 0.0047 - precision_m: 0.4242 - recall_m: 0.0319 - val_accuracy: 0.1180 - val_f1_m: 0.0418 - val_loss: 0.0042 - val_precision_m: 0.5845 - val_recall_m: 0.0219\n",
      "Epoch 49/100\n",
      "\u001b[1m498/500\u001b[0m \u001b[32m━━━━━━━━━━━━━━━━━━━\u001b[0m\u001b[37m━\u001b[0m \u001b[1m0s\u001b[0m 8ms/step - accuracy: 0.1009 - f1_m: 0.0604 - loss: 0.0046 - precision_m: 0.4369 - recall_m: 0.0329\n",
      "Epoch 49: val_f1_m did not improve from 0.04993\n",
      "\u001b[1m500/500\u001b[0m \u001b[32m━━━━━━━━━━━━━━━━━━━━\u001b[0m\u001b[37m\u001b[0m \u001b[1m5s\u001b[0m 9ms/step - accuracy: 0.0962 - f1_m: 0.0585 - loss: 0.0047 - precision_m: 0.4332 - recall_m: 0.0318 - val_accuracy: 0.1157 - val_f1_m: 0.0404 - val_loss: 0.0042 - val_precision_m: 0.6135 - val_recall_m: 0.0211\n",
      "Epoch 50/100\n",
      "\u001b[1m495/500\u001b[0m \u001b[32m━━━━━━━━━━━━━━━━━━━\u001b[0m\u001b[37m━\u001b[0m \u001b[1m0s\u001b[0m 8ms/step - accuracy: 0.0955 - f1_m: 0.0604 - loss: 0.0047 - precision_m: 0.4450 - recall_m: 0.0328\n",
      "Epoch 50: val_f1_m did not improve from 0.04993\n",
      "\u001b[1m500/500\u001b[0m \u001b[32m━━━━━━━━━━━━━━━━━━━━\u001b[0m\u001b[37m\u001b[0m \u001b[1m4s\u001b[0m 9ms/step - accuracy: 0.0902 - f1_m: 0.0593 - loss: 0.0047 - precision_m: 0.4311 - recall_m: 0.0323 - val_accuracy: 0.1252 - val_f1_m: 0.0442 - val_loss: 0.0042 - val_precision_m: 0.5944 - val_recall_m: 0.0232\n",
      "Epoch 51/100\n",
      "\u001b[1m499/500\u001b[0m \u001b[32m━━━━━━━━━━━━━━━━━━━\u001b[0m\u001b[37m━\u001b[0m \u001b[1m0s\u001b[0m 8ms/step - accuracy: 0.0961 - f1_m: 0.0595 - loss: 0.0046 - precision_m: 0.4523 - recall_m: 0.0323\n",
      "Epoch 51: val_f1_m did not improve from 0.04993\n",
      "\u001b[1m500/500\u001b[0m \u001b[32m━━━━━━━━━━━━━━━━━━━━\u001b[0m\u001b[37m\u001b[0m \u001b[1m5s\u001b[0m 9ms/step - accuracy: 0.0941 - f1_m: 0.0570 - loss: 0.0047 - precision_m: 0.4303 - recall_m: 0.0310 - val_accuracy: 0.1138 - val_f1_m: 0.0428 - val_loss: 0.0042 - val_precision_m: 0.6028 - val_recall_m: 0.0225\n",
      "Epoch 52/100\n",
      "\u001b[1m500/500\u001b[0m \u001b[32m━━━━━━━━━━━━━━━━━━━━\u001b[0m\u001b[37m\u001b[0m \u001b[1m0s\u001b[0m 9ms/step - accuracy: 0.0917 - f1_m: 0.0599 - loss: 0.0046 - precision_m: 0.4303 - recall_m: 0.0327\n",
      "Epoch 52: val_f1_m did not improve from 0.04993\n",
      "\u001b[1m500/500\u001b[0m \u001b[32m━━━━━━━━━━━━━━━━━━━━\u001b[0m\u001b[37m\u001b[0m \u001b[1m5s\u001b[0m 10ms/step - accuracy: 0.0913 - f1_m: 0.0590 - loss: 0.0047 - precision_m: 0.4262 - recall_m: 0.0322 - val_accuracy: 0.1160 - val_f1_m: 0.0366 - val_loss: 0.0042 - val_precision_m: 0.5494 - val_recall_m: 0.0192\n",
      "\n",
      "Entrenamiento finalizado.\n"
     ]
    },
    {
     "data": {
      "image/png": "[encoded data removed]",
      "text/plain": [
       "<Figure size 1600x600 with 2 Axes>"
      ]
     },
     "metadata": {},
     "output_type": "display_data"
    }
   ],
   "source": [
    "# ===================================================================\n",
    "# FASE 4: Entrenamiento y Evaluación del Modelo\n",
    "# ===================================================================\n",
    "\n",
    "# --- Configuración de Callbacks ---\n",
    "# Guardará el mejor modelo basado en la métrica F1 del set de validación.\n",
    "model_checkpoint = callbacks.ModelCheckpoint(\n",
    "    'sonar_model_multiobjeto.h5', # Nombre del archivo para el nuevo modelo\n",
    "    monitor='val_f1_m', # Métrica a monitorear\n",
    "    verbose=1,\n",
    "    save_best_only=True,\n",
    "    mode='max' # Guardar cuando la métrica F1 sea máxima\n",
    ")\n",
    "\n",
    "# Detendrá el entrenamiento si la métrica F1 no mejora después de 'patience' épocas.\n",
    "early_stopping = callbacks.EarlyStopping(\n",
    "    monitor='val_f1_m',\n",
    "    patience=15, # Número de épocas a esperar por una mejora\n",
    "    mode='max',\n",
    "    restore_best_weights=True # Restaura los pesos del mejor modelo al final\n",
    ")\n",
    "\n",
    "# --- Entrenamiento del Modelo ---\n",
    "print(\"Iniciando el entrenamiento del modelo...\")\n",
    "\n",
    "history = model.fit(\n",
    "    X_train, y_train,\n",
    "    epochs=100, # Un número alto de épocas, EarlyStopping se encargará de detenerlo\n",
    "    batch_size=32,\n",
    "    validation_data=(X_test, y_test),\n",
    "    callbacks=[model_checkpoint, early_stopping]\n",
    ")\n",
    "\n",
    "print(\"\\nEntrenamiento finalizado.\")\n",
    "\n",
    "# --- Visualización del Historial de Entrenamiento ---\n",
    "fig, axes = plt.subplots(1, 2, figsize=(16, 6))\n",
    "\n",
    "# Gráfico de Pérdida (Loss)\n",
    "axes[0].plot(history.history['loss'], label='Pérdida (Entrenamiento)')\n",
    "axes[0].plot(history.history['val_loss'], label='Pérdida (Validación)')\n",
    "axes[0].set_title('Evolución de la Pérdida')\n",
    "axes[0].set_xlabel('Época')\n",
    "axes[0].set_ylabel('Loss (Binary Crossentropy)')\n",
    "axes[0].legend()\n",
    "axes[0].grid(True)\n",
    "\n",
    "# Gráfico de la Métrica F1\n",
    "axes[1].plot(history.history['f1_m'], label='F1-Score (Entrenamiento)')\n",
    "axes[1].plot(history.history['val_f1_m'], label='F1-Score (Validación)')\n",
    "axes[1].set_title('Evolución de la Métrica F1')\n",
    "axes[1].set_xlabel('Época')\n",
    "axes[1].set_ylabel('F1-Score')\n",
    "axes[1].legend()\n",
    "axes[1].grid(True)\n",
    "\n",
    "plt.tight_layout()\n",
    "plt.show()"
   ]
  },
  {
   "cell_type": "code",
   "execution_count": 8,
   "id": "4a4fb00c-c610-422e-9beb-35bf638fd6b9",
   "metadata": {},
   "outputs": [
    {
     "name": "stdout",
     "output_type": "stream",
     "text": [
      "\n",
      "Evaluando el modelo final en el conjunto de prueba:\n",
      "\u001b[1m125/125\u001b[0m \u001b[32m━━━━━━━━━━━━━━━━━━━━\u001b[0m\u001b[37m\u001b[0m \u001b[1m0s\u001b[0m 4ms/step - accuracy: 0.1055 - f1_m: 0.0499 - loss: 0.0043 - precision_m: 0.6050 - recall_m: 0.0263\n",
      "\n",
      "Resultados en el Test Set:\n",
      "  Pérdida (Loss): 0.0043\n",
      "  Accuracy: 0.1055\n",
      "  F1-Score: 0.0499\n",
      "  Precision: 0.6050\n",
      "  Recall: 0.0263\n",
      "\n",
      "Ejemplo de predicción en una muestra del test set:\n",
      "\u001b[1m125/125\u001b[0m \u001b[32m━━━━━━━━━━━━━━━━━━━━\u001b[0m\u001b[37m\u001b[0m \u001b[1m0s\u001b[0m 2ms/step\n",
      "\n",
      "--- Muestra #1759 ---\n",
      "Cuadrantes Reales:     [2222 2223 2260 2373]\n",
      "Cuadrantes Predichos:  []\n"
     ]
    }
   ],
   "source": [
    "# --- Evaluación Final en el Set de Prueba ---\n",
    "print(\"\\nEvaluando el modelo final en el conjunto de prueba:\")\n",
    "score = model.evaluate(X_test, y_test, verbose=1)\n",
    "\n",
    "print(f\"\\nResultados en el Test Set:\")\n",
    "print(f\"  Pérdida (Loss): {score[0]:.4f}\")\n",
    "print(f\"  Accuracy: {score[1]:.4f}\")\n",
    "print(f\"  F1-Score: {score[2]:.4f}\")\n",
    "print(f\"  Precision: {score[3]:.4f}\")\n",
    "print(f\"  Recall: {score[4]:.4f}\")\n",
    "\n",
    "# --- Ejemplo de Predicción ---\n",
    "print(\"\\nEjemplo de predicción en una muestra del test set:\")\n",
    "# Hacemos la predicción sobre todo el set de prueba\n",
    "y_pred_probs = model.predict(X_test)\n",
    "\n",
    "# Definimos un umbral para decidir si un cuadrante está \"activo\"\n",
    "umbral_prediccion = 0.5\n",
    "y_pred = (y_pred_probs > umbral_prediccion).astype(int)\n",
    "\n",
    "# Elegimos una muestra al azar para comparar\n",
    "indice_ejemplo = np.random.randint(0, len(y_test))\n",
    "\n",
    "cuadrantes_reales = np.where(y_test[indice_ejemplo] == 1)[0]\n",
    "cuadrantes_predichos = np.where(y_pred[indice_ejemplo] == 1)[0]\n",
    "\n",
    "print(f\"\\n--- Muestra #{indice_ejemplo} ---\")\n",
    "print(f\"Cuadrantes Reales:     {cuadrantes_reales}\")\n",
    "print(f\"Cuadrantes Predichos:  {cuadrantes_predichos}\")"
   ]
  },
  {
   "cell_type": "markdown",
   "id": "9dcf45bf-ccb1-497d-9375-0aebecfe6f24",
   "metadata": {},
   "source": []
  },
  {
   "cell_type": "code",
   "execution_count": null,
   "id": "0c3e475d-b9fc-4038-8548-0b728ea5de22",
   "metadata": {},
   "outputs": [],
   "source": []
  },
  {
   "cell_type": "code",
   "execution_count": null,
   "id": "eb8d86af-942c-41f9-bc75-c832c789a60e",
   "metadata": {},
   "outputs": [],
   "source": []
  },
  {
   "cell_type": "code",
   "execution_count": null,
   "id": "78d576db-544c-4a1f-a136-df999a72a22e",
   "metadata": {},
   "outputs": [],
   "source": []
  }
 ],
 "metadata": {
  "kernelspec": {
   "display_name": "Python 3 (ipykernel)",
   "language": "python",
   "name": "python3"
  },
  "language_info": {
   "codemirror_mode": {
    "name": "ipython",
    "version": 3
   },
   "file_extension": ".py",
   "mimetype": "text/x-python",
   "name": "python",
   "nbconvert_exporter": "python",
   "pygments_lexer": "ipython3",
   "version": "3.11.13"
  }
 },
 "nbformat": 4,
 "nbformat_minor": 5
}
